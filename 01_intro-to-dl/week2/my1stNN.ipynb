{
 "cells": [
  {
   "cell_type": "code",
   "execution_count": 1,
   "metadata": {},
   "outputs": [
    {
     "name": "stderr",
     "output_type": "stream",
     "text": [
      "Using TensorFlow backend.\n"
     ]
    },
    {
     "name": "stdout",
     "output_type": "stream",
     "text": [
      "(50000, 28, 28) (50000,)\n"
     ]
    },
    {
     "data": {
      "image/png": "[encoded data removed]",
      "text/plain": [
       "<matplotlib.figure.Figure at 0x171f45efbe0>"
      ]
     },
     "metadata": {},
     "output_type": "display_data"
    }
   ],
   "source": [
    "from preprocessed_mnist import load_dataset\n",
    "X_train, y_train, X_val, y_val, X_test, y_test = load_dataset()\n",
    "print(X_train.shape, y_train.shape)\n",
    "import matplotlib.pyplot as plt\n",
    "%matplotlib inline\n",
    "plt.imshow(X_train[0], cmap=\"Greys\");"
   ]
  },
  {
   "cell_type": "code",
   "execution_count": 2,
   "metadata": {},
   "outputs": [
    {
     "name": "stdout",
     "output_type": "stream",
     "text": [
      "X.shape:  (50000, 28, 28) , y.shape:  (50000,)\n",
      "val.shape:  (10000, 28, 28)\n",
      "test.shape:  (10000, 28, 28)\n"
     ]
    }
   ],
   "source": [
    "print (\"X.shape: \", X_train.shape, \", y.shape: \", y_train.shape)\n",
    "print (\"val.shape: \", X_val.shape )\n",
    "print (\"test.shape: \", X_test.shape )"
   ]
  },
  {
   "cell_type": "code",
   "execution_count": 3,
   "metadata": {},
   "outputs": [],
   "source": [
    "learning_rate = .001\n",
    "log_dir = \"./log\"\n",
    "dropout = 0.9\n",
    "max_steps = 1000\n",
    "total_train_imgs = X_train.shape[0]"
   ]
  },
  {
   "cell_type": "code",
   "execution_count": 4,
   "metadata": {},
   "outputs": [],
   "source": [
    "import tensorflow as tf\n",
    "\n",
    "sess = tf.InteractiveSession()"
   ]
  },
  {
   "cell_type": "code",
   "execution_count": 5,
   "metadata": {},
   "outputs": [],
   "source": [
    "# Input placeholders\n",
    "with tf.name_scope('input'):\n",
    "    x_tf = tf.placeholder(tf.float32, [None, 28, 28], name='x-input')\n",
    "    y_tf = tf.placeholder(tf.int64, [None], name='y-input')\n",
    "    x_reshaped = tf.reshape(x_tf, [-1, 784])\n",
    "    image_shaped_input = tf.reshape(x_reshaped, [-1, 28, 28, 1])\n",
    "    tf.summary.image('input', image_shaped_input, 10)"
   ]
  },
  {
   "cell_type": "code",
   "execution_count": 6,
   "metadata": {},
   "outputs": [],
   "source": [
    "# Initialize the weight to small variable\n",
    "def weight_variable(shape):\n",
    "    \"\"\"Create a weight variable with appropriate initialization.\"\"\"\n",
    "    initial = tf.truncated_normal(shape, stddev=0.1)\n",
    "    return tf.Variable(initial)"
   ]
  },
  {
   "cell_type": "code",
   "execution_count": 7,
   "metadata": {},
   "outputs": [],
   "source": [
    "# Create a bias variable \n",
    "def bias_variable(shape):\n",
    "    initial = tf.constant(0.1, shape=shape)\n",
    "    return tf.Variable(initial)"
   ]
  },
  {
   "cell_type": "code",
   "execution_count": 8,
   "metadata": {},
   "outputs": [],
   "source": [
    "def variable_summaries(var):\n",
    "    \"\"\"Attach summaries to a Tensor (for TensorBoard visualization).\"\"\"\n",
    "    with tf.name_scope('summaries'):\n",
    "        mean = tf.reduce_mean(var)\n",
    "        tf.summary.scalar('mean', mean)\n",
    "        with tf.name_scope('stddev'):\n",
    "            stddev = tf.sqrt(tf.reduce_mean(tf.square(var - mean)))\n",
    "        tf.summary.scalar('stddev', stddev)\n",
    "        tf.summary.scalar('max', tf.reduce_max(var))\n",
    "        tf.summary.scalar('min', tf.reduce_min(var))\n",
    "        tf.summary.histogram('histogram', var)"
   ]
  },
  {
   "cell_type": "code",
   "execution_count": 9,
   "metadata": {},
   "outputs": [],
   "source": [
    "def nn_layer(input_tensor, input_dim, output_dim, layer_name, act=tf.nn.relu):\n",
    "    \"\"\"a simple neural net layer.\n",
    "    It does a matrix multiply, bias add, and then uses ReLU to nonlinearize.\n",
    "    It also sets up name scoping so that the resultant graph is easy to read,\n",
    "    and adds a number of summary ops.\n",
    "    \"\"\"\n",
    "    # Adding a name scope ensures logical grouping of the layers in the graph.\n",
    "    with tf.name_scope(layer_name):\n",
    "        # This Variable will hold the state of the weights for the layer\n",
    "        with tf.name_scope('weights'):\n",
    "            weights = weight_variable([input_dim, output_dim])\n",
    "            variable_summaries(weights)\n",
    "        with tf.name_scope('biases'):\n",
    "            biases = bias_variable([output_dim])\n",
    "            variable_summaries(biases)\n",
    "        with tf.name_scope('Wx_plus_b'):\n",
    "            preactivate = tf.matmul(input_tensor, weights) + biases\n",
    "            tf.summary.histogram('pre_activations', preactivate)\n",
    "        activations = act(preactivate, name='activation')\n",
    "        tf.summary.histogram('activations', activations)\n",
    "        return activations"
   ]
  },
  {
   "cell_type": "code",
   "execution_count": 10,
   "metadata": {},
   "outputs": [],
   "source": [
    "hidden1 = nn_layer(x_reshaped, 784, 500, 'layer1')"
   ]
  },
  {
   "cell_type": "code",
   "execution_count": 11,
   "metadata": {},
   "outputs": [],
   "source": [
    "with tf.name_scope('dropout'):\n",
    "    keep_prob = tf.placeholder(tf.float32)\n",
    "    tf.summary.scalar('dropout_keep_probability', keep_prob)\n",
    "    dropped = tf.nn.dropout(hidden1, keep_prob)"
   ]
  },
  {
   "cell_type": "code",
   "execution_count": 12,
   "metadata": {},
   "outputs": [],
   "source": [
    "y = nn_layer(dropped, 500, 10, 'layer2', act=tf.identity)"
   ]
  },
  {
   "cell_type": "code",
   "execution_count": 13,
   "metadata": {},
   "outputs": [],
   "source": [
    "with tf.name_scope('cross_entropy'):\n",
    "    # The raw formulation of cross-entropy,\n",
    "    #\n",
    "    # tf.reduce_mean(-tf.reduce_sum(y_ * tf.log(tf.softmax(y)),\n",
    "    #                               reduction_indices=[1]))\n",
    "    #\n",
    "    # can be numerically unstable.\n",
    "    #\n",
    "    # So here we use tf.losses.sparse_softmax_cross_entropy on the\n",
    "    # raw logit outputs of the nn_layer above, and then average across\n",
    "    # the batch.\n",
    "    with tf.name_scope('total'):\n",
    "        cross_entropy = tf.losses.sparse_softmax_cross_entropy(\n",
    "        labels=y_tf, logits=y)"
   ]
  },
  {
   "cell_type": "code",
   "execution_count": 14,
   "metadata": {},
   "outputs": [
    {
     "data": {
      "text/plain": [
       "<tf.Tensor 'cross_entropy_1:0' shape=() dtype=string>"
      ]
     },
     "execution_count": 14,
     "metadata": {},
     "output_type": "execute_result"
    }
   ],
   "source": [
    "tf.summary.scalar('cross_entropy', cross_entropy)"
   ]
  },
  {
   "cell_type": "code",
   "execution_count": 15,
   "metadata": {},
   "outputs": [],
   "source": [
    "with tf.name_scope('train'):\n",
    "    train_step = tf.train.AdamOptimizer(learning_rate).minimize(\n",
    "        cross_entropy)"
   ]
  },
  {
   "cell_type": "code",
   "execution_count": 16,
   "metadata": {},
   "outputs": [],
   "source": [
    "with tf.name_scope('accuracy'):\n",
    "    with tf.name_scope('correct_prediction'):\n",
    "        correct_prediction = tf.equal(tf.argmax(y, 1), y_tf)\n",
    "    with tf.name_scope('accuracy'):\n",
    "        accuracy = tf.reduce_mean(tf.cast(correct_prediction, tf.float32))"
   ]
  },
  {
   "cell_type": "code",
   "execution_count": 17,
   "metadata": {},
   "outputs": [
    {
     "data": {
      "text/plain": [
       "<tf.Tensor 'accuracy_1:0' shape=() dtype=string>"
      ]
     },
     "execution_count": 17,
     "metadata": {},
     "output_type": "execute_result"
    }
   ],
   "source": [
    "tf.summary.scalar('accuracy', accuracy)"
   ]
  },
  {
   "cell_type": "code",
   "execution_count": 18,
   "metadata": {},
   "outputs": [],
   "source": [
    "merged = tf.summary.merge_all()\n",
    "train_writer = tf.summary.FileWriter(log_dir + '/train', sess.graph)\n",
    "test_writer = tf.summary.FileWriter(log_dir + '/test')\n",
    "tf.global_variables_initializer().run()"
   ]
  },
  {
   "cell_type": "code",
   "execution_count": 19,
   "metadata": {},
   "outputs": [],
   "source": [
    "# Train the model, and also write summaries.\n",
    "# Every 10th step, measure test-set accuracy, and write test summaries\n",
    "# All other steps, run train_step on training data, & add training summaries\n",
    "\n",
    "def feed_dict(train, step):\n",
    "    \"\"\"Make a TensorFlow feed_dict: maps data onto Tensor placeholders.\"\"\"\n",
    "    if train==\"train\":\n",
    "        beg = step*100\n",
    "        beg = beg % total_train_imgs\n",
    "        xs, ys = X_train[beg:beg+100,], y_train[beg:beg+100,]\n",
    "        k = dropout\n",
    "    elif train=='val':\n",
    "        xs, ys =  X_val, y_val\n",
    "        k = 1.0\n",
    "    else:\n",
    "        xs, ys = X_test, y_test\n",
    "        k = 1.0\n",
    "    return {x_tf: xs, y_tf: ys, keep_prob: k}"
   ]
  },
  {
   "cell_type": "code",
   "execution_count": 20,
   "metadata": {},
   "outputs": [
    {
     "name": "stdout",
     "output_type": "stream",
     "text": [
      "Accuracy at step 0: train=0.0, test=0.0998\n",
      "Accuracy at step 10: train=0.72, test=0.6953\n",
      "Accuracy at step 20: train=0.77, test=0.817\n",
      "Accuracy at step 30: train=0.8, test=0.848\n",
      "Accuracy at step 40: train=0.88, test=0.8681\n",
      "Accuracy at step 50: train=0.88, test=0.8851\n",
      "Accuracy at step 60: train=0.9, test=0.8913\n",
      "Accuracy at step 70: train=0.82, test=0.8853\n",
      "Accuracy at step 80: train=0.88, test=0.8906\n",
      "Accuracy at step 90: train=0.87, test=0.904\n",
      "Adding run metadata for 99\n",
      "Accuracy at step 100: train=0.94, test=0.9103\n",
      "Accuracy at step 110: train=0.95, test=0.912\n",
      "Accuracy at step 120: train=0.91, test=0.9062\n",
      "Accuracy at step 130: train=0.88, test=0.8984\n",
      "Accuracy at step 140: train=0.88, test=0.9151\n",
      "Accuracy at step 150: train=0.89, test=0.9153\n",
      "Accuracy at step 160: train=0.89, test=0.9243\n",
      "Accuracy at step 170: train=0.9, test=0.9264\n",
      "Accuracy at step 180: train=0.91, test=0.9257\n",
      "Accuracy at step 190: train=0.96, test=0.9274\n",
      "Adding run metadata for 199\n",
      "Accuracy at step 200: train=0.9, test=0.9263\n",
      "Accuracy at step 210: train=0.87, test=0.9246\n",
      "Accuracy at step 220: train=0.92, test=0.9287\n",
      "Accuracy at step 230: train=0.97, test=0.9338\n",
      "Accuracy at step 240: train=0.93, test=0.9308\n",
      "Accuracy at step 250: train=0.92, test=0.9336\n",
      "Accuracy at step 260: train=0.96, test=0.9361\n",
      "Accuracy at step 270: train=0.98, test=0.937\n",
      "Accuracy at step 280: train=0.96, test=0.9373\n",
      "Accuracy at step 290: train=0.92, test=0.9352\n",
      "Adding run metadata for 299\n",
      "Accuracy at step 300: train=0.86, test=0.9357\n",
      "Accuracy at step 310: train=0.89, test=0.942\n",
      "Accuracy at step 320: train=0.93, test=0.9455\n",
      "Accuracy at step 330: train=0.95, test=0.9413\n",
      "Accuracy at step 340: train=0.95, test=0.9402\n",
      "Accuracy at step 350: train=0.92, test=0.9473\n",
      "Accuracy at step 360: train=0.92, test=0.9465\n",
      "Accuracy at step 370: train=0.96, test=0.9448\n",
      "Accuracy at step 380: train=0.97, test=0.9484\n",
      "Accuracy at step 390: train=0.96, test=0.9471\n",
      "Adding run metadata for 399\n",
      "Accuracy at step 400: train=0.92, test=0.9428\n",
      "Accuracy at step 410: train=0.94, test=0.943\n",
      "Accuracy at step 420: train=0.9, test=0.945\n",
      "Accuracy at step 430: train=0.93, test=0.9496\n",
      "Accuracy at step 440: train=0.94, test=0.9496\n",
      "Accuracy at step 450: train=0.94, test=0.9517\n",
      "Accuracy at step 460: train=0.94, test=0.952\n",
      "Accuracy at step 470: train=0.97, test=0.9484\n",
      "Accuracy at step 480: train=0.92, test=0.9509\n",
      "Accuracy at step 490: train=0.88, test=0.9507\n",
      "Adding run metadata for 499\n",
      "Accuracy at step 500: train=0.91, test=0.9539\n",
      "Accuracy at step 510: train=0.98, test=0.9476\n",
      "Accuracy at step 520: train=0.97, test=0.9492\n",
      "Accuracy at step 530: train=0.94, test=0.9516\n",
      "Accuracy at step 540: train=0.98, test=0.9521\n",
      "Accuracy at step 550: train=0.96, test=0.956\n",
      "Accuracy at step 560: train=0.99, test=0.9594\n",
      "Accuracy at step 570: train=0.97, test=0.9525\n",
      "Accuracy at step 580: train=0.97, test=0.9552\n",
      "Accuracy at step 590: train=0.95, test=0.9574\n",
      "Adding run metadata for 599\n",
      "Accuracy at step 600: train=0.96, test=0.957\n",
      "Accuracy at step 610: train=0.96, test=0.9543\n",
      "Accuracy at step 620: train=0.97, test=0.9499\n",
      "Accuracy at step 630: train=0.95, test=0.9547\n",
      "Accuracy at step 640: train=0.94, test=0.9584\n",
      "Accuracy at step 650: train=1.0, test=0.9577\n",
      "Accuracy at step 660: train=0.97, test=0.96\n",
      "Accuracy at step 670: train=0.95, test=0.9598\n",
      "Accuracy at step 680: train=0.96, test=0.9628\n",
      "Accuracy at step 690: train=0.99, test=0.959\n",
      "Adding run metadata for 699\n",
      "Accuracy at step 700: train=0.97, test=0.9618\n",
      "Accuracy at step 710: train=0.91, test=0.9591\n",
      "Accuracy at step 720: train=0.94, test=0.9581\n",
      "Accuracy at step 730: train=1.0, test=0.9565\n",
      "Accuracy at step 740: train=0.97, test=0.9609\n",
      "Accuracy at step 750: train=0.99, test=0.9599\n",
      "Accuracy at step 760: train=0.96, test=0.9611\n",
      "Accuracy at step 770: train=1.0, test=0.9625\n",
      "Accuracy at step 780: train=0.98, test=0.9564\n",
      "Accuracy at step 790: train=0.98, test=0.9585\n",
      "Adding run metadata for 799\n",
      "Accuracy at step 800: train=0.96, test=0.9612\n",
      "Accuracy at step 810: train=0.96, test=0.9642\n",
      "Accuracy at step 820: train=0.97, test=0.9635\n",
      "Accuracy at step 830: train=0.98, test=0.9629\n",
      "Accuracy at step 840: train=0.99, test=0.961\n",
      "Accuracy at step 850: train=0.97, test=0.9607\n",
      "Accuracy at step 860: train=0.97, test=0.9622\n",
      "Accuracy at step 870: train=0.97, test=0.9623\n",
      "Accuracy at step 880: train=0.98, test=0.9643\n",
      "Accuracy at step 890: train=0.97, test=0.9649\n",
      "Adding run metadata for 899\n",
      "Accuracy at step 900: train=0.97, test=0.9643\n",
      "Accuracy at step 910: train=0.98, test=0.9665\n",
      "Accuracy at step 920: train=0.95, test=0.9631\n",
      "Accuracy at step 930: train=0.94, test=0.9642\n",
      "Accuracy at step 940: train=0.98, test=0.9657\n",
      "Accuracy at step 950: train=0.97, test=0.9656\n",
      "Accuracy at step 960: train=0.95, test=0.9657\n",
      "Accuracy at step 970: train=0.98, test=0.963\n",
      "Accuracy at step 980: train=0.97, test=0.9641\n",
      "Accuracy at step 990: train=0.93, test=0.9657\n",
      "Adding run metadata for 999\n"
     ]
    }
   ],
   "source": [
    "train_acc = 0.0\n",
    "steps = []\n",
    "train_plt = []\n",
    "test_plt = []\n",
    "for i in range(max_steps):\n",
    "    if i % 10 == 0:  # Record summaries and test-set accuracy\n",
    "        summary, acc = sess.run([merged, accuracy], feed_dict=feed_dict(\"test\", i))\n",
    "        test_writer.add_summary(summary, i)\n",
    "#        print('Accuracy at step %s: train=%s, test=%s' % (i, train_acc, acc))\n",
    "        steps.append(i)\n",
    "        train_plt.append(train_acc)\n",
    "        test_plt.append(acc)\n",
    "    else:  # Record train set summaries, and train\n",
    "        if i % 100 == 99:  # Record execution stats\n",
    "            run_options = tf.RunOptions(trace_level=tf.RunOptions.FULL_TRACE)\n",
    "            run_metadata = tf.RunMetadata()\n",
    "            summary, train_acc, _ = sess.run([merged, accuracy, train_step],\n",
    "                          feed_dict=feed_dict(\"train\", i),\n",
    "                          options=run_options,\n",
    "                          run_metadata=run_metadata)\n",
    "            train_writer.add_run_metadata(run_metadata, 'step%03d' % i)\n",
    "            train_writer.add_summary(summary, i)\n",
    "#            print('Adding run metadata for', i)\n",
    "        else:  # Record a summary\n",
    "            summary, train_acc, _ = sess.run([merged, accuracy, train_step], feed_dict=feed_dict(\"train\", i))\n",
    "            train_writer.add_summary(summary, i)"
   ]
  },
  {
   "cell_type": "code",
   "execution_count": 21,
   "metadata": {},
   "outputs": [],
   "source": [
    "train_writer.close()\n",
    "test_writer.close()"
   ]
  },
  {
   "cell_type": "code",
   "execution_count": 26,
   "metadata": {},
   "outputs": [
    {
     "data": {
      "image/png": "[encoded data removed]",
      "text/plain": [
       "<matplotlib.figure.Figure at 0x17181df3438>"
      ]
     },
     "metadata": {},
     "output_type": "display_data"
    }
   ],
   "source": [
    "import matplotlib.pyplot as plt\n",
    "%matplotlib inline\n",
    "\n",
    "plt.plot(steps, train_plt,  label=\"train\")\n",
    "plt.plot(steps, test_plt,   label=\"test\")\n",
    "plt.ylim(0.8, 1.0) \n",
    "plt.legend();"
   ]
  },
  {
   "cell_type": "code",
   "execution_count": null,
   "metadata": {},
   "outputs": [],
   "source": []
  }
 ],
 "metadata": {
  "kernelspec": {
   "display_name": "Python 3",
   "language": "python",
   "name": "python3"
  },
  "language_info": {
   "codemirror_mode": {
    "name": "ipython",
    "version": 3
   },
   "file_extension": ".py",
   "mimetype": "text/x-python",
   "name": "python",
   "nbconvert_exporter": "python",
   "pygments_lexer": "ipython3",
   "version": "3.5.5"
  }
 },
 "nbformat": 4,
 "nbformat_minor": 2
}
