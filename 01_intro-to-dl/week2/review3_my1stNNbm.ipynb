{
 "cells": [
  {
   "cell_type": "code",
   "execution_count": 1,
   "metadata": {},
   "outputs": [
    {
     "name": "stderr",
     "output_type": "stream",
     "text": [
      "Using TensorFlow backend.\n"
     ]
    }
   ],
   "source": [
    "#Dataset:\n",
    "from preprocessed_mnist import load_dataset\n",
    "import preprocessed_mnist as mnist\n",
    "import matplotlib.pyplot as plt\n",
    "\n",
    "X_train, y_train, X_val, y_val, X_test, y_test = load_dataset()"
   ]
  },
  {
   "cell_type": "code",
   "execution_count": 2,
   "metadata": {},
   "outputs": [],
   "source": [
    "import tensorflow as tf\n",
    "import numpy as np\n",
    "#------------------------------- Placeholders -----------------------------\n",
    "#parameters:\n",
    "allXdata = X_train.shape[1]*X_train.shape[1]  #28x28\n",
    "allYdata = 10   #number of digits 0-9\n",
    "\n",
    "#we define inputs (will accept images 28x28 pixels and number of digits 0-9)\n",
    "input_X = tf.placeholder('float32', shape=(None,allXdata))\n",
    "input_y= tf.placeholder('float32', shape=(None,allYdata))\n",
    "\n",
    "X_train = X_train.reshape([X_train.shape[0], allXdata])\n",
    "X_test = X_test.reshape([X_test.shape[0], allXdata])\n",
    "y_train = np.eye(10)[y_train]\n",
    "y_test = np.eye(10)[y_test]"
   ]
  },
  {
   "cell_type": "code",
   "execution_count": 3,
   "metadata": {},
   "outputs": [],
   "source": [
    "nod = 80  #number of neurons\n",
    "#------------------------------- input layer -----------------------------\n",
    "w1 =tf.Variable(tf.random_normal([allXdata, nod]))\n",
    "b1 = tf.Variable(tf.random_normal([nod]))\n",
    "\n",
    "#------------------------------- network body -----------------------------\n",
    "#Define weights and bias of the first layer:\n",
    "w2 =tf.Variable(tf.random_normal([nod, nod]))\n",
    "b2 = tf.Variable(tf.random_normal([nod]))\n",
    "\n",
    "#------------------------------- output layer -----------------------------\n",
    "#10 neurons for each class \n",
    "w3 =tf.Variable(tf.random_normal([nod, allYdata]))\n",
    "b3 = tf.Variable(tf.random_normal([allYdata]))"
   ]
  },
  {
   "cell_type": "code",
   "execution_count": 4,
   "metadata": {},
   "outputs": [],
   "source": [
    "#Model the neural network:\n",
    "#------------------------------- input layer -----------------------------\n",
    "layer1 = tf.nn.relu(tf.matmul(input_X, w1) + b1)\n",
    "\n",
    "#------------------------------- network body -----------------------------\n",
    "layer2 = tf.nn.tanh(tf.matmul(layer1, w2) + b2)\n",
    "\n",
    "#------------------------------- output layer -----------------------------\n",
    "layer3 = tf.nn.sigmoid(tf.matmul(layer2, w3) + b3)"
   ]
  },
  {
   "cell_type": "code",
   "execution_count": 5,
   "metadata": {},
   "outputs": [],
   "source": [
    "#Define the loss:\n",
    "loss = tf.reduce_mean(tf.nn.softmax_cross_entropy_with_logits(labels=input_y, logits=layer3))\n",
    "\n",
    "#Define the optimizer:\n",
    "optimizer = tf.train.AdamOptimizer(1e-2).minimize(loss)\n",
    "\n",
    "# Evaluate model (with test logits, for dropout to be disabled)\n",
    "correct_pred = tf.equal(tf.argmax(layer3,1), tf.argmax(input_y, 1))\n",
    "accuracy = tf.reduce_mean(tf.cast(correct_pred, tf.float32))\n",
    "\n",
    "# Initialize the variables (i.e. assign their default value)\n",
    "init = tf.global_variables_initializer()"
   ]
  },
  {
   "cell_type": "code",
   "execution_count": 6,
   "metadata": {},
   "outputs": [
    {
     "name": "stdout",
     "output_type": "stream",
     "text": [
      "Train & test losses for 10 epochs: 1.52996 , 1.53007\n",
      "Train & test losses for 20 epochs: 1.50962 , 1.51293\n",
      "Train & test losses for 30 epochs: 1.50272 , 1.5074\n",
      "Train & test losses for 40 epochs: 1.49666 , 1.50157\n",
      "Train & test losses for 50 epochs: 1.49361 , 1.49937\n",
      "Train & test losses for 60 epochs: 1.48991 , 1.49677\n",
      "Train & test losses for 70 epochs: 1.48875 , 1.49372\n",
      "Train & test losses for 80 epochs: 1.48738 , 1.49446\n",
      "Train & test losses for 90 epochs: 1.48693 , 1.49472\n",
      "Train & test losses for 100 epochs: 1.48308 , 1.49016\n"
     ]
    },
    {
     "data": {
      "image/png": "[encoded data removed]",
      "text/plain": [
       "<matplotlib.figure.Figure at 0x1c5e6626828>"
      ]
     },
     "metadata": {},
     "output_type": "display_data"
    },
    {
     "name": "stdout",
     "output_type": "stream",
     "text": [
      "Test Accuracy: 0.9645\n"
     ]
    }
   ],
   "source": [
    "#Evaluate the model and results:\n",
    "batch_size = 500\n",
    "with tf.Session() as sess:\n",
    "    sess.run(init)\n",
    "    train_loss = []\n",
    "    test_loss = []\n",
    "    for epoch in range(100):\n",
    "        for i in range(0, X_train.shape[0], batch_size):\n",
    "            sess.run(optimizer, feed_dict={input_X:X_train[i:i+batch_size], input_y:y_train[i: i+batch_size]})\n",
    "        train_loss.append(sess.run(loss, feed_dict={input_X:X_train, input_y:y_train}))\n",
    "        test_loss.append(sess.run(loss, feed_dict={input_X:X_test, input_y:y_test}))\n",
    "        if epoch%10 == 9:\n",
    "            print(\"Train & test losses for \" + str(epoch+1)+ \" epochs: \"+ str(train_loss[-1]) + \" , \"+ str(test_loss[-1]))\n",
    "    \n",
    "    #------------------------------- Plot results -----------------------------\n",
    "    n = list(range(100))\n",
    "    plt.plot(n, train_loss, label='Train')\n",
    "    plt.plot(n, test_loss, label='Test')\n",
    "    plt.ylabel('train & test losses')\n",
    "    plt.xlabel('epoch')\n",
    "    plt.show()\n",
    "    \n",
    "    #------------------------------- Print the test accuracy -----------------------------\n",
    "    print(\"Test Accuracy:\", sess.run(accuracy, feed_dict={input_X:X_test, input_y:y_test}))"
   ]
  },
  {
   "cell_type": "code",
   "execution_count": null,
   "metadata": {},
   "outputs": [],
   "source": []
  }
 ],
 "metadata": {
  "kernelspec": {
   "display_name": "Python 3",
   "language": "python",
   "name": "python3"
  },
  "language_info": {
   "codemirror_mode": {
    "name": "ipython",
    "version": 3
   },
   "file_extension": ".py",
   "mimetype": "text/x-python",
   "name": "python",
   "nbconvert_exporter": "python",
   "pygments_lexer": "ipython3",
   "version": "3.5.5"
  }
 },
 "nbformat": 4,
 "nbformat_minor": 2
}
