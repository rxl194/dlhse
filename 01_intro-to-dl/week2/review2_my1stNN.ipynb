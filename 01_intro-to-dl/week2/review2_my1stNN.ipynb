{
 "cells": [
  {
   "cell_type": "code",
   "execution_count": 1,
   "metadata": {},
   "outputs": [
    {
     "name": "stderr",
     "output_type": "stream",
     "text": [
      "Using TensorFlow backend.\n"
     ]
    },
    {
     "name": "stdout",
     "output_type": "stream",
     "text": [
      "(50000, 28, 28) (50000,)\n"
     ]
    },
    {
     "data": {
      "image/png": "[encoded data removed]",
      "text/plain": [
       "<matplotlib.figure.Figure at 0x22ee5551b70>"
      ]
     },
     "metadata": {},
     "output_type": "display_data"
    }
   ],
   "source": [
    "from preprocessed_mnist import load_dataset\n",
    "X_train, y_train, X_val, y_val, X_test, y_test = load_dataset()\n",
    "print(X_train.shape, y_train.shape)\n",
    "import matplotlib.pyplot as plt\n",
    "%matplotlib inline\n",
    "plt.imshow(X_train[0], cmap=\"Greys\");"
   ]
  },
  {
   "cell_type": "code",
   "execution_count": 2,
   "metadata": {},
   "outputs": [
    {
     "data": {
      "text/plain": [
       "(10000, 28, 28)"
      ]
     },
     "execution_count": 2,
     "metadata": {},
     "output_type": "execute_result"
    }
   ],
   "source": [
    "X_test.shape"
   ]
  },
  {
   "cell_type": "code",
   "execution_count": 3,
   "metadata": {},
   "outputs": [],
   "source": [
    "X_train = X_train.reshape([50000, 784])\n",
    "X_test = X_test.reshape([10000, 784])"
   ]
  },
  {
   "cell_type": "code",
   "execution_count": 4,
   "metadata": {},
   "outputs": [
    {
     "data": {
      "text/plain": [
       "array([5, 0, 4, ..., 8, 4, 8], dtype=uint8)"
      ]
     },
     "execution_count": 4,
     "metadata": {},
     "output_type": "execute_result"
    }
   ],
   "source": [
    "y_train"
   ]
  },
  {
   "cell_type": "code",
   "execution_count": 5,
   "metadata": {},
   "outputs": [],
   "source": [
    "import tensorflow as tf"
   ]
  },
  {
   "cell_type": "code",
   "execution_count": 6,
   "metadata": {},
   "outputs": [],
   "source": [
    "X = tf.placeholder(tf.float32, shape=(None, 784))\n",
    "Y = tf.placeholder(tf.float32, shape=(None, 10))\n",
    "keep_prob = tf.placeholder(tf.float32)"
   ]
  },
  {
   "cell_type": "code",
   "execution_count": 7,
   "metadata": {},
   "outputs": [],
   "source": [
    "W1 = tf.get_variable(\"W1\",  [784, 128], initializer=tf.contrib.layers.xavier_initializer())\n",
    "b1 = tf.get_variable(\"b1\",  [128], initializer=tf.zeros_initializer())\n",
    "W2 = tf.get_variable(\"W2\",  [128, 128], initializer=tf.contrib.layers.xavier_initializer())\n",
    "b2 = tf.get_variable(\"b2\",  [128], initializer=tf.zeros_initializer())\n",
    "W3 = tf.get_variable(\"W3\", [128, 10], initializer=tf.contrib.layers.xavier_initializer())\n",
    "b3 = tf.get_variable(\"b3\",  [10], initializer=tf.zeros_initializer())"
   ]
  },
  {
   "cell_type": "code",
   "execution_count": 8,
   "metadata": {},
   "outputs": [],
   "source": [
    "Z1 = tf.matmul(X, W1)+b1\n",
    "A1 = tf.nn.relu(Z1)\n",
    "A1 = tf.nn.dropout(A1, keep_prob)\n",
    "Z2 = tf.matmul(A1, W2)+b2\n",
    "A2 = tf.nn.relu(Z2)\n",
    "A2 = tf.nn.dropout(A2, keep_prob)\n",
    "Z3 = tf.matmul(A2, W3)+b3\n",
    "A3 = tf.nn.sigmoid(Z3)"
   ]
  },
  {
   "cell_type": "code",
   "execution_count": 9,
   "metadata": {},
   "outputs": [],
   "source": [
    "def compute_rate(A3, Y):\n",
    "    rate = tf.reduce_mean(tf.nn.softmax_cross_entropy_with_logits(labels=Y, logits=A3))\n",
    "    return rate"
   ]
  },
  {
   "cell_type": "code",
   "execution_count": 10,
   "metadata": {},
   "outputs": [],
   "source": [
    "rate = compute_rate(A3, Y)\n",
    "starter_learning_rate = 0.00036\n",
    "global_step = tf.Variable(0, trainable=False)\n",
    "learning_rate = tf.train.exponential_decay(starter_learning_rate, global_step, 100, 0.85, staircase=True)\n",
    "optimizer = tf.train.AdamOptimizer(learning_rate).minimize(rate)\n",
    "init = tf.global_variables_initializer()"
   ]
  },
  {
   "cell_type": "code",
   "execution_count": 11,
   "metadata": {},
   "outputs": [],
   "source": [
    "import numpy as np\n",
    "y_train = np.eye(10)[y_train]\n",
    "y_test = np.eye(10)[y_test]"
   ]
  },
  {
   "cell_type": "code",
   "execution_count": 12,
   "metadata": {},
   "outputs": [
    {
     "data": {
      "text/plain": [
       "(50000, 784)"
      ]
     },
     "execution_count": 12,
     "metadata": {},
     "output_type": "execute_result"
    }
   ],
   "source": [
    "X_train.shape"
   ]
  },
  {
   "cell_type": "code",
   "execution_count": 13,
   "metadata": {},
   "outputs": [
    {
     "name": "stdout",
     "output_type": "stream",
     "text": [
      "Test cost after 10 epochs: 1.51538\n",
      "Test cost after 20 epochs: 1.49646\n",
      "Test cost after 30 epochs: 1.48692\n",
      "Test cost after 40 epochs: 1.48097\n",
      "Test cost after 50 epochs: 1.47686\n",
      "Test cost after 60 epochs: 1.47422\n",
      "Test cost after 70 epochs: 1.47203\n",
      "Test cost after 80 epochs: 1.47032\n",
      "Test cost after 90 epochs: 1.46916\n",
      "Test cost after 100 epochs: 1.46827\n"
     ]
    },
    {
     "data": {
      "image/png": "[encoded data removed]",
      "text/plain": [
       "<matplotlib.figure.Figure at 0x22e809d5d68>"
      ]
     },
     "metadata": {},
     "output_type": "display_data"
    },
    {
     "name": "stdout",
     "output_type": "stream",
     "text": [
      "Train Accuracy: 0.99236\n",
      "Test Accuracy: 0.9771\n"
     ]
    }
   ],
   "source": [
    "batch_size = 500\n",
    "with tf.Session() as sess:\n",
    "    sess.run(init)\n",
    "    train_costs = []\n",
    "    test_costs = []\n",
    "    for epoch in range(100):\n",
    "        for i in range(0, 50000, batch_size):\n",
    "            sess.run(optimizer, feed_dict={X:X_train[i:i+batch_size], Y:y_train[i: i+batch_size], keep_prob : 0.66})\n",
    "        train_costs.append(sess.run(rate, feed_dict={X:X_train, Y:y_train, keep_prob : 1}))\n",
    "        test_costs.append(sess.run(rate, feed_dict={X:X_test, Y:y_test, keep_prob : 1}))\n",
    "        if epoch%10 == 9:\n",
    "            print(\"Test cost after \" + str(epoch+1)+ \" epochs: \"+ str(train_costs[-1]))\n",
    "    iterations = list(range(100))\n",
    "    plt.plot(iterations, train_costs, label='Train')\n",
    "    plt.plot(iterations, test_costs, label='Test')\n",
    "    plt.ylabel('Train cost')\n",
    "    plt.xlabel('iterations')\n",
    "    plt.show()\n",
    "    \n",
    "    # Calculate the correct predictions\n",
    "    predict_op = tf.argmax(Z3, 1)\n",
    "    correct_prediction = tf.equal(predict_op, tf.argmax(Y, 1))\n",
    "\n",
    "    # Calculate accuracy on the test set\n",
    "    accuracy = tf.reduce_mean(tf.cast(correct_prediction, \"float\"))\n",
    "    train_accuracy = accuracy.eval({X: X_train, Y: y_train, keep_prob : 1})\n",
    "    test_accuracy = accuracy.eval({X: X_test, Y: y_test, keep_prob : 1})\n",
    "    print(\"Train Accuracy:\", train_accuracy)\n",
    "    print(\"Test Accuracy:\", test_accuracy)"
   ]
  },
  {
   "cell_type": "code",
   "execution_count": null,
   "metadata": {},
   "outputs": [],
   "source": []
  }
 ],
 "metadata": {
  "kernelspec": {
   "display_name": "Python 3",
   "language": "python",
   "name": "python3"
  },
  "language_info": {
   "codemirror_mode": {
    "name": "ipython",
    "version": 3
   },
   "file_extension": ".py",
   "mimetype": "text/x-python",
   "name": "python",
   "nbconvert_exporter": "python",
   "pygments_lexer": "ipython3",
   "version": "3.5.5"
  }
 },
 "nbformat": 4,
 "nbformat_minor": 2
}
