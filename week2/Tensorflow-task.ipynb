{
 "cells": [
  {
   "cell_type": "markdown",
   "metadata": {
    "slideshow": {
     "slide_type": "slide"
    }
   },
   "source": [
    "# Going deeper with Tensorflow\n",
    "\n",
    "In this video, we're going to study the tools you'll use to build deep learning models. Namely, [Tensorflow](https://www.tensorflow.org/).\n",
    "\n",
    "If you're running this notebook outside the course environment, you'll need to install tensorflow:\n",
    "* `pip install tensorflow` should install cpu-only TF on Linux & Mac OS\n",
    "* If you want GPU support from offset, see [TF install page](https://www.tensorflow.org/install/)"
   ]
  },
  {
   "cell_type": "code",
   "execution_count": 1,
   "metadata": {},
   "outputs": [],
   "source": [
    "import sys\n",
    "sys.path.append(\"..\")\n",
    "import grading"
   ]
  },
  {
   "cell_type": "markdown",
   "metadata": {},
   "source": [
    "# Visualization"
   ]
  },
  {
   "cell_type": "markdown",
   "metadata": {},
   "source": [
    "Plase note that if you are running on the Coursera platform, you won't be able to access the tensorboard instance due to the network setup there. If you run the notebook locally, you should be able to access TensorBoard on http://127.0.0.1:7007/"
   ]
  },
  {
   "cell_type": "code",
   "execution_count": 2,
   "metadata": {},
   "outputs": [],
   "source": [
    "#! killall tensorboard\n",
    "#import os\n",
    "#os.system(\"tensorboard --logdir=/tmp/tboard --port=7007 &\");"
   ]
  },
  {
   "cell_type": "code",
   "execution_count": 3,
   "metadata": {},
   "outputs": [],
   "source": [
    "import tensorflow as tf\n",
    "s = tf.InteractiveSession()"
   ]
  },
  {
   "cell_type": "markdown",
   "metadata": {},
   "source": [
    "# Warming up\n",
    "For starters, let's implement a python function that computes the sum of squares of numbers from 0 to N-1."
   ]
  },
  {
   "cell_type": "code",
   "execution_count": 4,
   "metadata": {},
   "outputs": [],
   "source": [
    "import numpy as np\n",
    "def sum_sin(N):\n",
    "    return np.sum(np.arange(N)**2)"
   ]
  },
  {
   "cell_type": "code",
   "execution_count": 5,
   "metadata": {},
   "outputs": [
    {
     "name": "stdout",
     "output_type": "stream",
     "text": [
      "Wall time: 473 ms\n"
     ]
    },
    {
     "data": {
      "text/plain": [
       "-1452071552"
      ]
     },
     "execution_count": 5,
     "metadata": {},
     "output_type": "execute_result"
    }
   ],
   "source": [
    "%%time\n",
    "sum_sin(10**8)"
   ]
  },
  {
   "cell_type": "markdown",
   "metadata": {},
   "source": [
    "# Tensoflow teaser\n",
    "\n",
    "Doing the very same thing"
   ]
  },
  {
   "cell_type": "code",
   "execution_count": 6,
   "metadata": {},
   "outputs": [],
   "source": [
    "# An integer parameter\n",
    "N = tf.placeholder('int64', name=\"input_to_your_function\")\n",
    "\n",
    "# A recipe on how to produce the same result\n",
    "result = tf.reduce_sum(tf.range(N)**2)"
   ]
  },
  {
   "cell_type": "code",
   "execution_count": 7,
   "metadata": {},
   "outputs": [
    {
     "data": {
      "text/plain": [
       "<tf.Tensor 'Sum:0' shape=() dtype=int64>"
      ]
     },
     "execution_count": 7,
     "metadata": {},
     "output_type": "execute_result"
    }
   ],
   "source": [
    "result"
   ]
  },
  {
   "cell_type": "code",
   "execution_count": 8,
   "metadata": {},
   "outputs": [
    {
     "name": "stdout",
     "output_type": "stream",
     "text": [
      "Wall time: 551 ms\n"
     ]
    },
    {
     "data": {
      "text/plain": [
       "662921401752298880"
      ]
     },
     "execution_count": 8,
     "metadata": {},
     "output_type": "execute_result"
    }
   ],
   "source": [
    "%%time\n",
    "result.eval({N: 10**8})"
   ]
  },
  {
   "cell_type": "code",
   "execution_count": 9,
   "metadata": {},
   "outputs": [],
   "source": [
    "writer = tf.summary.FileWriter(\"/tmp/tboard\", graph=s.graph)"
   ]
  },
  {
   "cell_type": "markdown",
   "metadata": {},
   "source": [
    "# How does it work?\n",
    "1. Define placeholders where you'll send inputs\n",
    "2. Make symbolic graph: a recipe for mathematical transformation of those placeholders\n",
    "3. Compute outputs of your graph with particular values for each placeholder\n",
    "  * `output.eval({placeholder:value})`\n",
    "  * `s.run(output, {placeholder:value})`\n",
    "\n",
    "So far there are two main entities: \"placeholder\" and \"transformation\"\n",
    "* Both can be numbers, vectors, matrices, tensors, etc.\n",
    "* Both can be int32/64, floats, booleans (uint8) of various size.\n",
    "\n",
    "* You can define new transformations as an arbitrary operation on placeholders and other transformations\n",
    " * `tf.reduce_sum(tf.arange(N)**2)` are 3 sequential transformations of placeholder `N`\n",
    " * There's a tensorflow symbolic version for every numpy function\n",
    "   * `a+b, a/b, a**b, ...` behave just like in numpy\n",
    "   * `np.mean` -> `tf.reduce_mean`\n",
    "   * `np.arange` -> `tf.range`\n",
    "   * `np.cumsum` -> `tf.cumsum`\n",
    "   * If if you can't find the op you need, see the [docs](https://www.tensorflow.org/api_docs/python).\n",
    "   \n",
    "`tf.contrib` has many high-level features, may be worth a look."
   ]
  },
  {
   "cell_type": "code",
   "execution_count": 10,
   "metadata": {},
   "outputs": [],
   "source": [
    "with tf.name_scope(\"Placeholders_examples\"):\n",
    "    # Default placeholder that can be arbitrary float32\n",
    "    # scalar, vertor, matrix, etc.\n",
    "    arbitrary_input = tf.placeholder('float32')\n",
    "\n",
    "    # Input vector of arbitrary length\n",
    "    input_vector = tf.placeholder('float32', shape=(None,))\n",
    "\n",
    "    # Input vector that _must_ have 10 elements and integer type\n",
    "    fixed_vector = tf.placeholder('int32', shape=(10,))\n",
    "\n",
    "    # Matrix of arbitrary n_rows and 15 columns\n",
    "    # (e.g. a minibatch your data table)\n",
    "    input_matrix = tf.placeholder('float32', shape=(None, 15))\n",
    "    \n",
    "    # You can generally use None whenever you don't need a specific shape\n",
    "    input1 = tf.placeholder('float64', shape=(None, 100, None))\n",
    "    input2 = tf.placeholder('int32', shape=(None, None, 3, 224, 224))\n",
    "\n",
    "    # elementwise multiplication\n",
    "    double_the_vector = input_vector*2\n",
    "\n",
    "    # elementwise cosine\n",
    "    elementwise_cosine = tf.cos(input_vector)\n",
    "\n",
    "    # difference between squared vector and vector itself plus one\n",
    "    vector_squares = input_vector**2 - input_vector + 1"
   ]
  },
  {
   "cell_type": "code",
   "execution_count": 11,
   "metadata": {},
   "outputs": [],
   "source": [
    "my_vector =  tf.placeholder('float32', shape=(None,), name=\"VECTOR_1\")\n",
    "my_vector2 = tf.placeholder('float32', shape=(None,))\n",
    "my_transformation = my_vector * my_vector2 / (tf.sin(my_vector) + 1)"
   ]
  },
  {
   "cell_type": "code",
   "execution_count": 12,
   "metadata": {},
   "outputs": [
    {
     "name": "stdout",
     "output_type": "stream",
     "text": [
      "Tensor(\"truediv:0\", shape=(?,), dtype=float32)\n"
     ]
    }
   ],
   "source": [
    "print(my_transformation)"
   ]
  },
  {
   "cell_type": "code",
   "execution_count": 13,
   "metadata": {},
   "outputs": [
    {
     "name": "stdout",
     "output_type": "stream",
     "text": [
      "[ 0.  1.  2.  3.  4.]\n"
     ]
    },
    {
     "data": {
      "text/plain": [
       "array([ 0.        ,  1.62913239,  2.09501147,  2.62899613,  0.        ], dtype=float32)"
      ]
     },
     "execution_count": 13,
     "metadata": {},
     "output_type": "execute_result"
    }
   ],
   "source": [
    "dummy = np.arange(5).astype('float32')\n",
    "print(dummy)\n",
    "my_transformation.eval({my_vector:dummy, my_vector2:dummy[::-1]})"
   ]
  },
  {
   "cell_type": "code",
   "execution_count": 14,
   "metadata": {},
   "outputs": [],
   "source": [
    "writer.add_graph(my_transformation.graph)\n",
    "writer.flush()"
   ]
  },
  {
   "cell_type": "markdown",
   "metadata": {},
   "source": [
    "TensorBoard allows writing scalars, images, audio, histogram. You can read more on tensorboard usage [here](https://www.tensorflow.org/get_started/graph_viz)."
   ]
  },
  {
   "cell_type": "markdown",
   "metadata": {},
   "source": [
    "# Summary\n",
    "* Tensorflow is based on computation graphs\n",
    "* The graphs consist of placehlders and transformations"
   ]
  },
  {
   "cell_type": "markdown",
   "metadata": {},
   "source": [
    "# Mean squared error\n",
    "\n",
    "Your assignment is to implement mean squared error in tensorflow."
   ]
  },
  {
   "cell_type": "code",
   "execution_count": 15,
   "metadata": {},
   "outputs": [],
   "source": [
    "with tf.name_scope(\"MSE\"):\n",
    "    y_true = tf.placeholder(\"float32\", shape=(None,), name=\"y_true\")\n",
    "    y_predicted = tf.placeholder(\"float32\", shape=(None,), name=\"y_predicted\")\n",
    "    # Your code goes here\n",
    "    # You want to use tf.reduce_mean\n",
    "    # mse = tf.<...>\n",
    "    mse = tf.reduce_mean((y_true-y_predicted)**2)\n",
    "def compute_mse(vector1, vector2):\n",
    "    return mse.eval({y_true: vector1, y_predicted: vector2})"
   ]
  },
  {
   "cell_type": "code",
   "execution_count": 16,
   "metadata": {},
   "outputs": [],
   "source": [
    "writer.add_graph(mse.graph)\n",
    "writer.flush()"
   ]
  },
  {
   "cell_type": "markdown",
   "metadata": {},
   "source": [
    "Tests and result submission. Please use the credentials obtained from the Coursera assignment page."
   ]
  },
  {
   "cell_type": "code",
   "execution_count": 17,
   "metadata": {},
   "outputs": [],
   "source": [
    "import submit"
   ]
  },
  {
   "cell_type": "code",
   "execution_count": 18,
   "metadata": {},
   "outputs": [
    {
     "name": "stdout",
     "output_type": "stream",
     "text": [
      "Submitted to Coursera platform. See results on assignment page!\n"
     ]
    }
   ],
   "source": [
    "submit.submit_mse(compute_mse, 'ystd1998@gmail.com', 'rrggIHrgfHuBtAor')\n",
    "# grade_submitter.submit(<email>, <token>)"
   ]
  },
  {
   "cell_type": "markdown",
   "metadata": {},
   "source": [
    "# Variables\n",
    "\n",
    "The inputs and transformations have no value outside function call. This isn't too comfortable if you want your model to have parameters (e.g. network weights) that are always present, but can change their value over time.\n",
    "\n",
    "Tensorflow solves this with `tf.Variable` objects.\n",
    "* You can assign variable a value at any time in your graph\n",
    "* Unlike placeholders, there's no need to explicitly pass values to variables when `s.run(...)`-ing\n",
    "* You can use variables the same way you use transformations \n",
    " "
   ]
  },
  {
   "cell_type": "code",
   "execution_count": 19,
   "metadata": {},
   "outputs": [],
   "source": [
    "# Creating a shared variable\n",
    "shared_vector_1 = tf.Variable(initial_value=np.ones(5),\n",
    "                              name=\"example_variable\")"
   ]
  },
  {
   "cell_type": "code",
   "execution_count": 20,
   "metadata": {},
   "outputs": [
    {
     "name": "stdout",
     "output_type": "stream",
     "text": [
      "Initial value [ 1.  1.  1.  1.  1.]\n"
     ]
    }
   ],
   "source": [
    "# Initialize variable(s) with initial values\n",
    "s.run(tf.global_variables_initializer())\n",
    "\n",
    "# Evaluating shared variable (outside symbolicd graph)\n",
    "print(\"Initial value\", s.run(shared_vector_1))\n",
    "\n",
    "# Within symbolic graph you use them just\n",
    "# as any other inout or transformation, not \"get value\" needed"
   ]
  },
  {
   "cell_type": "code",
   "execution_count": 21,
   "metadata": {},
   "outputs": [
    {
     "name": "stdout",
     "output_type": "stream",
     "text": [
      "New value [ 0.  1.  2.  3.  4.]\n"
     ]
    }
   ],
   "source": [
    "# Setting a new value\n",
    "s.run(shared_vector_1.assign(np.arange(5)))\n",
    "\n",
    "# Getting that new value\n",
    "print(\"New value\", s.run(shared_vector_1))"
   ]
  },
  {
   "cell_type": "markdown",
   "metadata": {},
   "source": [
    "# tf.gradients - why graphs matter\n",
    "* Tensorflow can compute derivatives and gradients automatically using the computation graph\n",
    "* True to its name it can manage matrix derivatives\n",
    "* Gradients are computed as a product of elementary derivatives via the chain rule:\n",
    "\n",
    "$$ {\\partial f(g(x)) \\over \\partial x} = {\\partial f(g(x)) \\over \\partial g(x)}\\cdot {\\partial g(x) \\over \\partial x} $$\n",
    "\n",
    "It can get you the derivative of any graph as long as it knows how to differentiate elementary operations"
   ]
  },
  {
   "cell_type": "code",
   "execution_count": 22,
   "metadata": {},
   "outputs": [],
   "source": [
    "my_scalar = tf.placeholder('float32')\n",
    "\n",
    "scalar_squared = my_scalar**2\n",
    "\n",
    "# A derivative of scalar_squared by my_scalar\n",
    "derivative = tf.gradients(scalar_squared, [my_scalar, ])"
   ]
  },
  {
   "cell_type": "code",
   "execution_count": 23,
   "metadata": {},
   "outputs": [
    {
     "data": {
      "text/plain": [
       "[<tf.Tensor 'gradients/pow_1_grad/Reshape:0' shape=<unknown> dtype=float32>]"
      ]
     },
     "execution_count": 23,
     "metadata": {},
     "output_type": "execute_result"
    }
   ],
   "source": [
    "derivative"
   ]
  },
  {
   "cell_type": "code",
   "execution_count": 24,
   "metadata": {},
   "outputs": [
    {
     "data": {
      "image/png": "[encoded data removed]",
      "text/plain": [
       "<matplotlib.figure.Figure at 0x24387e0ec88>"
      ]
     },
     "metadata": {},
     "output_type": "display_data"
    }
   ],
   "source": [
    "import matplotlib.pyplot as plt\n",
    "%matplotlib inline\n",
    "\n",
    "x = np.linspace(-3, 3)\n",
    "x_squared, x_squared_der = s.run([scalar_squared, derivative[0]],\n",
    "                                 {my_scalar:x})\n",
    "\n",
    "plt.plot(x, x_squared,label=\"$x^2$\")\n",
    "plt.plot(x, x_squared_der, label=r\"$\\frac{dx^2}{dx}$\")\n",
    "plt.legend();"
   ]
  },
  {
   "cell_type": "markdown",
   "metadata": {},
   "source": [
    "# Why that rocks"
   ]
  },
  {
   "cell_type": "code",
   "execution_count": 25,
   "metadata": {},
   "outputs": [],
   "source": [
    "my_vector = tf.placeholder('float32', [None])\n",
    "# Compute the gradient of the next weird function over my_scalar and my_vector\n",
    "# Warning! Trying to understand the meaning of that function may result in permanent brain damage\n",
    "weird_psychotic_function = tf.reduce_mean(\n",
    "    (my_vector+my_scalar)**(1+tf.nn.moments(my_vector,[0])[1]) + \n",
    "    1./ tf.atan(my_scalar))/(my_scalar**2 + 1) + 0.01*tf.sin(\n",
    "    2*my_scalar**1.5)*(tf.reduce_sum(my_vector)* my_scalar**2\n",
    "                      )*tf.exp((my_scalar-4)**2)/(\n",
    "    1+tf.exp((my_scalar-4)**2))*(1.-(tf.exp(-(my_scalar-4)**2)\n",
    "                                    )/(1+tf.exp(-(my_scalar-4)**2)))**2\n",
    "\n",
    "der_by_scalar = tf.gradients(weird_psychotic_function, my_scalar)\n",
    "der_by_vector = tf.gradients(weird_psychotic_function, my_vector)"
   ]
  },
  {
   "cell_type": "code",
   "execution_count": 26,
   "metadata": {},
   "outputs": [
    {
     "data": {
      "image/png": "[encoded data removed]",
      "text/plain": [
       "<matplotlib.figure.Figure at 0x24385d97160>"
      ]
     },
     "metadata": {},
     "output_type": "display_data"
    }
   ],
   "source": [
    "# Plotting the derivative\n",
    "scalar_space = np.linspace(1, 7, 100)\n",
    "\n",
    "y = [s.run(weird_psychotic_function, {my_scalar:x, my_vector:[1, 2, 3]})\n",
    "     for x in scalar_space]\n",
    "\n",
    "plt.plot(scalar_space, y, label='function')\n",
    "\n",
    "y_der_by_scalar = [s.run(der_by_scalar,\n",
    "                         {my_scalar:x, my_vector:[1, 2, 3]})\n",
    "                   for x in scalar_space]\n",
    "\n",
    "plt.plot(scalar_space, y_der_by_scalar, label='derivative')\n",
    "plt.grid()\n",
    "plt.legend();"
   ]
  },
  {
   "cell_type": "markdown",
   "metadata": {},
   "source": [
    "# Almost done - optimizers\n",
    "\n",
    "While you can perform gradient descent by hand with automatic grads from above, tensorflow also has some optimization methods implemented for you. Recall momentum & rmsprop?"
   ]
  },
  {
   "cell_type": "code",
   "execution_count": 27,
   "metadata": {},
   "outputs": [],
   "source": [
    "y_guess = tf.Variable(np.zeros(2, dtype='float32'))\n",
    "y_true = tf.range(1, 3, dtype='float32')\n",
    "loss = tf.reduce_mean((y_guess - y_true + tf.random_normal([2]))**2) \n",
    "#loss = tf.reduce_mean((y_guess - y_true)**2) \n",
    "optimizer = tf.train.MomentumOptimizer(0.01, 0.5).minimize(\n",
    "    loss, var_list=y_guess)"
   ]
  },
  {
   "cell_type": "code",
   "execution_count": 28,
   "metadata": {},
   "outputs": [
    {
     "data": {
      "image/png": "[encoded data removed]",
      "text/plain": [
       "<matplotlib.figure.Figure at 0x24388966160>"
      ]
     },
     "metadata": {},
     "output_type": "display_data"
    }
   ],
   "source": [
    "from matplotlib import animation, rc\n",
    "import matplotlib_utils\n",
    "from IPython.display import HTML, display_html\n",
    "\n",
    "fig, ax = plt.subplots()\n",
    "y_true_value = s.run(y_true)\n",
    "level_x = np.arange(0, 2, 0.02)\n",
    "level_y = np.arange(0, 3, 0.02)\n",
    "X, Y = np.meshgrid(level_x, level_y)\n",
    "Z = (X - y_true_value[0])**2 + (Y - y_true_value[1])**2\n",
    "ax.set_xlim(-0.02, 2)\n",
    "ax.set_ylim(-0.02, 3)\n",
    "s.run(tf.global_variables_initializer())\n",
    "ax.scatter(*s.run(y_true), c='red')\n",
    "contour = ax.contour(X, Y, Z, 10)\n",
    "ax.clabel(contour, inline=1, fontsize=10)\n",
    "line, = ax.plot([], [], lw=2)\n",
    "\n",
    "def init():\n",
    "    line.set_data([], [])\n",
    "    return (line,)\n",
    "\n",
    "guesses = [s.run(y_guess)]\n",
    "\n",
    "def animate(i):\n",
    "    s.run(optimizer)\n",
    "    guesses.append(s.run(y_guess))\n",
    "    line.set_data(*zip(*guesses))\n",
    "    return (line,)\n",
    "\n",
    "anim = animation.FuncAnimation(fig, animate, init_func=init,\n",
    "                               frames=400, interval=20, blit=True)"
   ]
  },
  {
   "cell_type": "code",
   "execution_count": 29,
   "metadata": {},
   "outputs": [
    {
     "data": {
      "text/html": [
       "<video width=\"432\" height=\"288\" controls autoplay loop>\n",
       "  <source type=\"video/mp4\" src=\"data:video/mp4;base64,AAAAHGZ0eXBNNFYgAAACAGlzb21pc28yYXZjMQAAAAhmcmVlAAC3Hm1kYXQAAAKuBgX//6rcRem9\n",
       "5tlIt5Ys2CDZI+7veDI2NCAtIGNvcmUgMTQ4IHIyNzYyIDkwYTYxZWMgLSBILjI2NC9NUEVHLTQg\n",
       "QVZDIGNvZGVjIC0gQ29weWxlZnQgMjAwMy0yMDE3IC0gaHR0cDovL3d3dy52aWRlb2xhbi5vcmcv\n",
       "eDI2NC5odG1sIC0gb3B0aW9uczogY2FiYWM9MSByZWY9MyBkZWJsb2NrPTE6MDowIGFuYWx5c2U9\n",
       "MHgzOjB4MTEzIG1lPWhleCBzdWJtZT03IHBzeT0xIHBzeV9yZD0xLjAwOjAuMDAgbWl4ZWRfcmVm\n",
       "PTEgbWVfcmFuZ2U9MTYgY2hyb21hX21lPTEgdHJlbGxpcz0xIDh4OGRjdD0xIGNxbT0wIGRlYWR6\n",
       "b25lPTIxLDExIGZhc3RfcHNraXA9MSBjaHJvbWFfcXBfb2Zmc2V0PS0yIHRocmVhZHM9NiBsb29r\n",
       "YWhlYWRfdGhyZWFkcz0xIHNsaWNlZF90aHJlYWRzPTAgbnI9MCBkZWNpbWF0ZT0xIGludGVybGFj\n",
       "ZWQ9MCBibHVyYXlfY29tcGF0PTAgY29uc3RyYWluZWRfaW50cmE9MCBiZnJhbWVzPTMgYl9weXJh\n",
       "bWlkPTIgYl9hZGFwdD0xIGJfYmlhcz0wIGRpcmVjdD0xIHdlaWdodGI9MSBvcGVuX2dvcD0wIHdl\n",
       "aWdodHA9MiBrZXlpbnQ9MjUwIGtleWludF9taW49MjUgc2NlbmVjdXQ9NDAgaW50cmFfcmVmcmVz\n",
       "aD0wIHJjX2xvb2thaGVhZD00MCByYz1jcmYgbWJ0cmVlPTEgY3JmPTIzLjAgcWNvbXA9MC42MCBx\n",
       "cG1pbj0wIHFwbWF4PTY5IHFwc3RlcD00IGlwX3JhdGlvPTEuNDAgYXE9MToxLjAwAIAAADJMZYiE\n",
       "AC///vau/MsrRwuVLh1Ze7NR8uhJcv2IMH1oAAADAADVayF8oYJVUBjg5Cl8UC950wnQObmxLpMS\n",
       "eTd2J+g7snoztQcyhALtINw5UaNMi3KGnXwVwAAVjA9rs+2mg979mn6JP5KOmfCCksxkEWnBqVix\n",
       "SlaszLtiEXeKS/pJKygZa6sQukZ40sJfm5WkC31b/ItGIrTq+odnPBDUTzbL2udk28DI16TgunDO\n",
       "vy53mTqEw1v/NjKeT1gqmF9Ay0jF7EHSC6M1jqJhaGA+2I7siU3tbhzm++kkDMGxQaBznZv+UkH/\n",
       "ME9JFDXWal1pE5md32s8XeFhyNhDYSs2HwYiY2CzfhagmUl6KHrxJ1nMSLtqJutWySarElDFX30j\n",
       "l+uOsFjdfC61UiKrzS+VSAn7xsOlaOTAz9O6v1QsS9kZqOqY0d+gs7d71p12gVr4xK6DAgoNY4ez\n",
       "Pxu2hUv9WF7LkXUrN/TNtqV6WmOSkzexdOBpi2aDtSP8Se060PRzDYxbGiKN+MPx9TprE/FZdz5z\n",
       "nzp6kVM9Efe7POZkMjVaTxLjmpsJLjDTVF0/y6nc8lqVdYRzwjHy0kwkfYPrCN5jOwOUUETl9EOt\n",
       "OuidGBbZ+wqZmuzTUGj3NcZdr/GnOvdJZfj5g3yVQWpKH8HOhXKtB7D0G9FcxuO/0Ndegu3i14QT\n",
       "Za3yxJSb2YLA0eHoruD2JB5Im6k5vNv3THIZpg0mzK/PXuf0N5tIrBcmSrc5Zc+l+FPzycjX2zSt\n",
       "hdoC2/Pmq4wHBh/8/znYpI0JDwcnx60pDx9umegdvNKApEry/yuKjT8bI1m0q2ikGwWOQ6pYmIfy\n",
       "BTO55FmSJXDH7zoCnYBgCJDkSwvxUAh0w/oglyeHvyfGBg25zOOYqa9OdCNQPJO3VQJIBLJSKqMC\n",
       "jlBZcSMvJeTGxgH5LV05vntoq3Aj6OQXuMmZeTx9l6H/t6gQUyQMGNtKpvSib3vTNRByp9Ia91ps\n",
       "qiCZxrEGdQBYwYhCxJfZPThg86yIer5oH17j8A0j1luvkaod1gajmmh0E3jpqqoBtsE91c0pLLxr\n",
       "s3O1f+fLolEv2LwjNr/l4tCZ6/QRo9AP84MRGo6rKJ/xess4PxNR4Yy6mkGX1raGrHqEvzLyZUkg\n",
       "orEf/fpv9+IhKhllMZHibXNsscwDYAs+v25xSvSNXqbzrSIQIjh/CAyY5DG2aNAFWxP+BJP5z54q\n",
       "dRTzbAcQFMszupgagghiDS0jUpSS07/E+n/HGYZ+bxO9EOCouwX76Ii8fEedYZVBGyb5pGhFQfTb\n",
       "PSVcuJUyggjRRZ1UPQnK2MjlAsrb9ctm0u/RxDeH1N6TQuH2XOaaiXtEwfZYSw5ou26aTHqcGeKw\n",
       "n0/afHXuL90UBLCoLqTieJLYLUedvR/UoigJcZyyPAeW34NOxJ4HDGQUfIcNHPhit37Tu2JXTP2G\n",
       "h1VbP2N4opYxJqgHRPx0Zbo+DA6tGCvSSzNjH+HATgL0CxuIuYMX6v9am/xJAfmQzVGu/r1k1lWN\n",
       "mlfVlotUr8zSR24SyYdAltAvTq580fzA7z7wi9BPezI/KFMUbmAcOl2NUarAKptpgM263rvVsTmY\n",
       "MgjNrhVI+4mpx6D3fqCTGXPV2uEwEx54X0Xum4JutofatZfjjepQ7L/26TnWf2Fxv8sQMu0hr4xX\n",
       "j5IKL/wItFojdOb/P7TklXQG/G7AuTX4vZNEixjVt33Fj+IG1YJSntjLCARlYTqQNcWPtrGjtpRJ\n",
       "Xd9DZqzT97U3MBEYKD/DIcMWKJdr1hGICr8VMjSbQWL7Ah5NjHGbnca8PUXnJlsaWz7yEBHyL7ZQ\n",
       "P+btdWGdXhWgz5on2iiBa0gF/5KOKf+Pifh2ohiAaV/WDau42OdPYN08FwPvBdvH8P1sRyIBcw+I\n",
       "oWDbv6LLFXtLUSyGBdn+i/81u/JXacNnTm/SxIRtemTwWpCmiq6hFBsCoF3tV9OyCfcWGmTe1cso\n",
       "jRSe7jDMk/Abuw4fzWOs6vy4d8AtWsLRj5oqsvrtauDYPrFOGaC4/wQmssLDpfv0F1kubM1okh/Z\n",
       "EE9TUunscrR8ZB25cxvJY1m3FyYchQbKYrG1BwFgKUEfjiSlGr3OS4BxYnXtys37PD+8GpkK5E45\n",
       "+3hHGveZijzYFEwljmGQP31q2IZQedGZEsKDESiTfsIXHtj9mdMjKnRn6djbyhAVdxZZUvJMeRS7\n",
       "ScG94yMD9VJoIriX+UXwWf60faIZFeKswzXpV6RBhqBXyrHH9NlssrP7XrPrygungwhBmNNwCM6t\n",
       "y9AybCYPpR5jp+m5yEOXIK1zZ9eg/wZ3QTqk4ZHvlw/9q/N9arPoTvOjKmupm2hiT9tyFr6urAaC\n",
       "E5n2jH8kJqchvl2EsMjbJc8suv8vox9DyoomLIhxHuAMD3DsYddH6XQ2wMVh+GyuweOQFpQ5nvN3\n",
       "qn63dbCIf4EtYSH+RAZu6g3f+7jOxxrPEaw3SE/bAOn1rx1mW2mDMCSmfkZ6jDTTBYvL6cEOhFBJ\n",
       "vgj21JOq8wyc3LiI5+SlAJ3FReqwJ9/fvJj3jWsY98ILK9ZWauOQGBFrJjw6xYFcqLumMvaxwa2U\n",
       "h9swwwXAaGmZ5mxkNLDB0HRliZVKjbfXoDdlOyznwNIpZyMBcAFG7wUHtqwcKi66dO9Jq6ot8j95\n",
       "Z8uc4NeJpkzu97ly3pulTcjqkMfYuKKm+aboInfo/gtzQrvvk3jxFmitx+SXD1jm15f+esg6mi1g\n",
       "2Hm+2ugWmangyjze3xsZvy5manpAeVe7GOIQpQYEfLAGu74KcU/FI+d3Vo1zK8CZs8JrLrgCzOlG\n",
       "Z5dLt35r2+tdWFRmPQQ4ky8UzvYYelp2czsZbjf9+W4ObGxOyifXpx9HJrzq0W+U7Igxtt4NkMEL\n",
       "w0wXgTmU9r8eZV1hm30jfgP9wqfR/Jo1wqs5xWYgFevWHeDT4epOn90/86WYk9qptPktMqo0GH+8\n",
       "eQhzKWZUlVYnrOQkYOc0HWTJ7vHwoIsIOEDxCEnvwWzyZeQ7ajVlSe/rACukfnqcp67niYYLYsv5\n",
       "+U16XH3Sx67sgWO7S2l6BslVsU43drsIqcKlgVsGg85CFO8ggulla4J2EUIE1eBOLSoRhDWqO5P9\n",
       "Ufovgdl+tlui49XgbBQOk7wCU552Xw3J+HD9uwvvSQlBkxuvdwrW3AfFhZFDAXm0nI+CXawKjmzA\n",
       "7HIvAlPQOtmvpkcLIcDcdHNDy+uJLmzlWyzCILl+cwsucodBy1M4PTj3YybxwA5QecdhLA/MaD15\n",
       "d1YPhF/luHFgAC2TkTDmogPYroskxn3Px0OGrgnzJm70s6uRbT+xavDlIIWwZw/ZD1zBhLms5U/E\n",
       "abjWlnZIEVYGNECcVyZlvnxPnp3ebHVdRHXRaQ6sNgoaywY0PlzNLc7Wem3RZTu7TBZS/Sqbt/Nk\n",
       "n6MIwdBkbGnXE3oDudVuG0urA8Mz2t7RboOI4ArG0Q4gHcMdG7lGsEpBAllc54Wjd9ZEsIbfL2NB\n",
       "SCXHu74XhbkGK524TNqpzl8objUjFH/TiJfaT3Sz/xF6AT+PPWzSvVNNtxz07V2WVUfXm8R3t3O6\n",
       "6zhOkMF7wr2u6OENX8RwiIDkWWrWHCb3jN+PS6Nhvv1AivRxUfwRAm6kwwmxh/Vh5ds3/PRxOPeB\n",
       "KyFcpMejCUORriPLQjB7yYJaAGMG8qJVAsAABDV3b0u5g3l6ddwSNFOTDIg0vV1WG3GB0MGJR+tI\n",
       "mBrrNabn8UxNoRf1wj2XSfr7bfDYx/FV/MwevGvAlJ+++7PBWT9Kmsrt0SAHic6tG5fi6wIifKjS\n",
       "3PmLbK+pUpPom1y4fJcaoSKE3b0sMky5mybDXE9nzobM++oT5yNqMkOo/5IGV8d0D+3ulk//KaCo\n",
       "JnoDDC4kzz+GQnvPfAOaVLN2LEJi3Hik3ONwZ/Mik2E9g9rv0vsm0z9wEZJcEu/gqlWkaFfka6kd\n",
       "9LeIFLX7zub47/MDCZ9fF6hZ1vxM7RNH1dHDJJbRJNZQCiIrC5sFNhcTQilAJ3HiqX7IqDCTxu5F\n",
       "ujKlLUB7vteVWOFRZTlYOWSCvDdZ6OUQipuT+hcZjTp5syFsBjEjjJAZNhSQUm+ReSCMv4IuZzlU\n",
       "OwhCZPyKNEoU4nr+Swo+RlQ4LJh9xLhhT7edNPIS5429QnZJdBd85OCoSi1Pw65l9ZuKpgP491OV\n",
       "OrMjDQY4Vj4ux4A4Y5MeXMiash4Lz0sOwb5v7k/czxOUpfZfeaxrKNMmNBiePOzSfjpI84zeRg11\n",
       "YELwF+mbg3J/Y/gookfIcY7wEzwLRxFJyNfIwlj0B/9kXgrEMSYNKIx4fXG5qsacXoMXN33vfXv8\n",
       "s35Rv1ADgn8qd3g5CHIB5b9VLFscW+fRmrcpOjXclAzKpQzcBB+PExvLCIFj7P73h+9J2uEoLA8v\n",
       "zFE8goCdfqwg+nSfOr+ymR0PXVn+xBVjCUHgy2ahAx71MpadYqEl8Bq/cbAINweFaH8B+YxdX4pY\n",
       "kdNw0uoCjWT0cf+rXwl8B/+0PuPpmJD8Wnyw4a2QVkdMOoQX7Xwdo4GNfWRrq74Ij/m5wNrQVT7v\n",
       "ltiyeTL41UrHcw9wuNG9oJXvQ23CdtmM8zHkeN77G7FfzYgTA0lPU3PVITt/2pzi9x8R/8SUqn6w\n",
       "QMSXjNpxmnkhppB2/Ctzi+fHmkXKhlklhuHd52DsSQ71ud3mlJMmUc3jDa4m6c/6j+K8m9zSISR1\n",
       "IW5eBJ8QbsEw5cpi/5FrthpyL6jOpgaMJwFDRzDvZ8vLj4m2FBATuDJQFwClKkgBMQyz6pnuwLTj\n",
       "gAMDXfly9BPppj70cZXrF99P0d+A2Gb70y8w+TsL6POmQ1ZKgwrj0exuqWT/QbEA0ltrPCubZTYt\n",
       "s1CEt/RiPQjHAf60vtmH6ZaQqwgcK9v73F6LvWzL727CY/C73wslzyTZUzjk1GAZUX7EAdmmuKw+\n",
       "H8CcA3dak0ln6Zjckkv/+uhO4XoN4ZtmCz/pyVjY/hJHIxqeDWkYBk2qTISSJDrMg6Ia730mgHqY\n",
       "o1mDIRueE7+l0l+InascePwBl13kKY3/kxtdjdB2tkB6meW20nMz7tC5LW874wPDXcirCkjgIAPc\n",
       "1O/qcPTxiIsOnJIBfVOP7nzhaU7FoY3OZdQOsvh4S8jE+fTxUT2Jvlo1LAv4wdSFps0kb2wNzFoY\n",
       "LcgNfFLEeh/4BAvwJMqJPsOVdXW+Tn0+gsMknfkfbllAfg4uXEdmlKsRWOoNvrX/jDI4VaoGx9lH\n",
       "/WtVSr3hLk83wS1vHmimMl69YwNJDUafR94Oc4fACTsqUBokQncHJeO8Lj0oDTK9Ud0U1bvZgpUu\n",
       "xteAZPU/UPTCZ+lqaZFZGSgjjgTcH91VRbkgjDd7ZCV8EnJGacifIif+bTNEAdsY624lVjjdpsEF\n",
       "otcGvEp+55l+uDlHQft6cYhJsiV14b/l+2qTgOBMTJgPw+DZI8gtIWpM381uND6XREtCnykBkV1l\n",
       "zCsmqYrlV3kPW7NnIcepig3A8eIYor1YFKKa7MrXZKrvKl7WAWe4bmcV+IPSIAz2Ya+Hxv9B+R+h\n",
       "ic7I/l62B9RIYp9h5t1dLD9NGrl5H+j52nSykFHyX9Em7MHVXj/4yYxsDyC9ZTJzps4k1uzds+TO\n",
       "XEiWPs0JN/rExaYMZ2/f6iCDbfyAmRvn2xnxSW5WMdhPLdNBNmPLzgCW4jYQa3A7ZmwE+YrNbUip\n",
       "M8DM8yJ5Apr2a0NmQ1X3RXR15eLtlv73mz7EXwfFAdOWTJ/8zM6zaZWAAdIHKsaGmhsRmx1vd2aO\n",
       "1EQabXWs8fr1cCGqbVbEfE0iVeo39kkB2Wt2199jcHuBKGmzujHfkQpWVZzwNExmRTGDbTe5a7dg\n",
       "sV3TSLgmMR0GirfErgSDHFJokUx/BurvsQMY52uwhiJXj2zrBcKAojp1iud2bm9Xv6bE2TAiHhz7\n",
       "l7Q4pgZP4gCPR02Q7HjAWfuS7BT1F3LQMS/hYU9UqUZIySC5TsB64YW1ir5gkog1f6WlejmPT7eq\n",
       "ouVBdEDVkASHli89UOWZ+NNUcf0l/E+Qm/nJYw1PwVs1zC/KcMnZjrS4tX7WyvbSNzEXUuP0Gp7T\n",
       "ho8yVlJ/sGM/Du4CHAJKoTRvE29Z3rN9KbRJ2hfd2EmieMsbf64ZcNVhF1iO6V6TLY8ujCp7Ij5B\n",
       "dYmaJN2AFmJxwKZzLuAGLFKA1Whk/n3uzKW9E1vxLyVSg5iTlxa++XmJ2zMx2IqvHnwM7Qx/qxkR\n",
       "Tlqj75bD/m1JQK6BX0P4zTM055lC34nx58f1/7L1AC/KI7gC7OHSpOQbDNybixzDSicpbb8z3M0m\n",
       "irqIAwRKvqaVlyGexRC2ChEZk4cFDVDOAsi43w2EJVyIdNLfw1f58RqZhTFhJMlxwV16IuOMmLeX\n",
       "1AUeUH8w/OFMulK7EYxNyuhH9McB+HFdocU7XDOSQkgImQZCNV9rtQMHkbV3J03nTSHkQaxGOQFb\n",
       "yOp5FzczCjGpERT5GH7BQPMvVO96qvx/qRB+nCiDO7ImH3R8N2SevpdtpOzKH9hNCdZwycAAfqaT\n",
       "arYrzNWsMkM5wSudTLx5RVu+tllRuqJhJh70jOAL0r5tpRLtlyTPdowLXIfL79RcrMz8kwfO29pn\n",
       "T/kaAgneKQQ5iGXY1QGqCExUlWwGyBrQrA5LBLRoIet5WuuYyCTzHN99emELbhMdufQEMOgwlrQO\n",
       "4EyTlI+9goi/PV5wJzsEGF3x/h4QGg9DpEq7j4CnJZ3bnMYw/sjybMZxdhVSva5L3hHXYhtROmUv\n",
       "r6ehHllvyOVGgvBret+VRF3RGYw9+TneazU0YH6qe5tHbcGxbDcJy++FynuH6Z9X6TECBTYrpIMz\n",
       "bfPifZ6dCrMAMlaS/BzoLcG6zMU4UZS3s+N8z6svc2u4C8RvRpsUr08DU74+WNk5NhQiPPPk2/tL\n",
       "Bo2GdQQeg4AmjJljO8HI1JqJumgD3MBrA+FzbTlmIBBoepzrDZ3Nv7ptEsfznYFsx7MLxKKHTLbk\n",
       "EomzSunjLnZQslddvKBV+MS68elpHUqSplF+5A3vPRrgiUsS6NSEOceqFf5nqDG1VNEeuHrDl+pY\n",
       "fcybfGLl+HNIq2i4v0tZ4O/Q/XOqYbFhB5gx3Zz42J0Coo9QLk+eusBvgMBkmbx5Fgw5Dd4V9ymr\n",
       "own722mpW1EeGW+fipLHMP2zSE+BKrHwti0MQTJwS+VCDji51wudq8wRGwE0pX7s2yX0TPr7XljM\n",
       "UQtOzQctq+gN3rBY5Y6j4baHfUS3IHKv1kCvB1YFuE4IlOJS5E7n9wA9YeJ3k/DvMJjVI5f3e38R\n",
       "mqnrfQ4DRllHl5vkk6u0+4/gy8CPq3Ngpi6igXOnMLZkRhyv6a5gI4lZe0mgBBOVTZSDw8uOBD6R\n",
       "mCTtkZkXz3H0s+TvAthOnff3v1lZMGrDWsl1F2jUUmqEg5jaReSfTv6ixAbASsiSLwlTPD3qeTYL\n",
       "hsDSUunRzelFxazhbmISe01V+V1xl89iNYBDMl+DTIbcx2PxHBdQ9YodfUIEYppBRZ6xjVbPCi8a\n",
       "TL1LPa4XRcUhgZuLkhNuI7zrpO1czucPdEPGnueSnamD+dxRgZx5bXl8mcBdJ7G0HtGRSOjzGYyU\n",
       "dceWLMRhblTYKvcOzNzTVWMSrvLS/kN/3efN1CI6AAq2W5jJv/sqJiNjXshEANpntpzw45X7bY/H\n",
       "kc9N7kOn6r6Giq8pfCsrcsvZ7SQ4n2gBT2wc3BfbfazHC6HYhxZpTkZhMYoF5FXbvLRT0+GaolN/\n",
       "ioH8vWarYDnjiVgzfuOWNhHOtS6N71Za1h0wAAutPUBicVAjBKXYtpakek5MOxzbxxoXWwUGct5N\n",
       "f+NR+4zYiAopLvPGyoj3g3z4//tA6hrcK1HJ39+JM7ATW/r+B8bNTt0zW0buGHO5gFH1u4o44jt8\n",
       "xv6mbA6iBlmuTnDPMC8Wnea6BA6hj8iEaV+DIrL58MmAinFd8gvNnXMhR+qPVuKvnLQ/BiEA2RoO\n",
       "wRnzVeNPMlD8ka9cYloyvAV+jns4j0Sle8lmYU2BKUBzf5dupHMUN6RpucPavH2ErX7YmDVf723G\n",
       "6Z9qcG0OhMGbp1xh+UW96w8bO9lt8Q5dCP89huNhVGUCG44bXDNAu0E6vME5ASj3oOfwaujU+oWO\n",
       "HU/iEYfbEGtQI+NwQRv2frhcYhsUmT8jY9B7O6RwwxS9TxJPwnLB9gr3i3xDONGknNkwNdiRJTIA\n",
       "3ObOFjMf+oNu9nFxtgGBbKyogWIwM1llFmvE6ITgvQfnYY1CM09bjf4/v0QZ2ZKx0eZzj4OnYWN/\n",
       "T6l9enthmK8qSnERZkDUAyrSQo+F5ARGXY7NSNh+DIWZo9fp4MURBggpZMQmPixpws/37J/fxurp\n",
       "k9EwwYhvrnMQZDnvimSF+Ok41aG9oxcoJuKvyk+cC/R0pY3QH97pRd4tnCxMpiJC1rmO02NDsI1R\n",
       "AwSLcDSkRuUiEJW60nuhIoU688bzQ8zMBQEzvZ6gvDpKLI8mo9wbXHOAtZLcLFmsh47tvgBJqwl7\n",
       "duTdI6xuL97hsXaGY9HX5c6JhXSan+oGZnKSiinu2bC9pAHAOs2VtIG476aF7nQNlFSo79p+Lwk5\n",
       "QIPr31+KGVpghlI7EgTSflv6Ia/9qJPUX1qtwLg+7mJaYH51gBOxW9XdM86I0X9ub4iBm05dJ6z5\n",
       "ceUbXLEX6WWG0cqbXBMFXEu4t7EhrgucIbK83MsqByot/xn2qzeZld91LyuaWC0MwebUNohVf/5q\n",
       "cj3O9qH+NMrU/Y0ZHGcjscyZOc6xM+vliF4LQsAzmnKHFDB3Z341Lr6+jQPFmZeZ0d8atLs19Qmv\n",
       "Ynblli6S7d6achIC8c12CfEAw2BiHkNrFXiD6X+78rJFS1Nm/7A+NCNz414zKgmNcqogcfaINmiR\n",
       "XJWsG8O4zgfur/gk76CX8+4KKzyCn4ChDo4vV+YIi9NhmG5/tK6SFpir2yrzP4zWu28nuuZULRAJ\n",
       "MzXdh2e/GV1US7wy7HO6vFmZB2sHlPy1Jk9B7u90LLoRF4kpJr1o7W1amosXbql26VlT/AE3fMxG\n",
       "h3D37fxrK/bw34RFswXnM91JGk8wOQ6IwM8l/3J86vv91Afi7qNVC/IhVNw1AIf+UnL7Q2cCtzyl\n",
       "VOrwSx6o3kaS2nWRuX1K6HWGRkoBiOTChQsmXkCL99x6ZnqcXuxjKgWIBByIU76aF54d/EfLxomH\n",
       "SK01n5UIFlZLT+9aLKK4sp7t694N0+gkzTad4zmII25NZ+Bg5LXVq2TDEndtDD9hZkEq9dzw2ZwH\n",
       "1EVgu5MYLWskmv7/6XSFCnp4izEbPJLlpauvIUfsIB9BfITXFQtOtnsDY1tk/lN3RF1phzvj0I7C\n",
       "he10VOzLZyiPGzAstCLE9i47eAZx3HRuiSu5k1ZrjnTTrJNiAnXcyW/HmGqia1Dk/X/yaMHER4bU\n",
       "LBGqMYgPrjbODQyDBVk9uDi0VYUXO93YiWtasslGihnxXsb9OCovNjerdBBkbf7xA1Wk36cCeNmb\n",
       "x6RrtYZRZBSn/VrqdxM3BMWB6Ek/bitsH8l/Gge7pJ10HUzN6/pcUPp8UsXSc0T4PDHQ/JX2nu7i\n",
       "Dp/TY90taxLK4rXcGtscxqQnusCkjhv7Kee710xp9tyn5RxScXS9pyLhBV8fnsY+JaBy7JLQ3sLD\n",
       "cXDHHUFqvVMuyimFWwYf7r6Y43fMsKfJs1TOTOahadkVlQ1cSGCVNF6vRhw3b1hZ1v9/m4/inPJ1\n",
       "hso/WZMpywNyqeHO1vCUto8cEt9F8+wJpe0kYZQyI7gKUVvXJh5i7kbmzSqMSdZ9G3uvXwX+EfLX\n",
       "z5kjP4AZVs0PCVH6NnUNE72yVKkArSpuozo3M0JnZ4yzUzBpNH7oQf5qHiWmVMtyl74TVcmgBqhu\n",
       "Mt/xjE5JQySENCwH5EYvt09ARj5hE84TZNUciCM0qkMgWGoQEZTxiwM2SdB1ek8CDk58dKvo7Snf\n",
       "LBmNhnxtWy+XPXAfoLaeY8mYbFKd0FKVo8zdDsJEDd2xMsd4WAQ/h2bvx49Uf+cIxZUyphVEjf9p\n",
       "RHGR8IaFpBxDwoWKTs+VCvoGCpY40Wd82srDSk4Z1oVoVxRjn7MACYAy978aQB5cS9DygRZC0MfG\n",
       "xzSJO1kZZISco88fyXKqA2EAfOWBvqtKVUg4zw+cGkEoAAVpK/+Fw+DJScS3i25CXudWEYqhXO4P\n",
       "9j5GpqFaZIO7A2FeKuI0vxlXk9YbeTudqVIbAQtfLs4CMmPb0raVVlyrdvXMh5WNBzE9OvWsF47u\n",
       "oihBiuVxDcMYwnz2A4zM0QyCndUsNmq3skutpBGk5SJjH45jJpRi2V8izAw58ZfldpxK1+uiIf+X\n",
       "7kmMX6is9UlbmQsOBVnQb67t3y80l/jExCWGS8RIDtajZtKz33PUsGafzcH/P5XOMWnfzjyGsmZu\n",
       "sdz7O7ZFEQHQgY9ttnIg9xNV4TNynqPDrv0b2XkwUQQDU6c00jMhKelBPIkdZTPUJvwPRAqTormS\n",
       "N5B9gIklXLRqg23VpRG3BQXSLBuOv94DLrV0aeoS5wAm/EuYa0YqpJifkVlz0qk/FcniIGeeei1d\n",
       "grq2vMboekxYlh1DIJas2ldrEEbjKslb0uKTzlU5hu8FNlaX6H1TZ+GfjWAtn4uWlniu8vwwsvmT\n",
       "y3Ao4anHkR+/sDf/L7t/tBLSof+JphMTkYvl2G3/Dk91J9DU3XEoGZcqMsJUfsQ+WlwTLtIVuu6/\n",
       "FlGBKC3g4dulXIyCV+AVPWb4w8fa0mcVF+kxU9AiPp3x416y55JluVnm92gy/Te8kUv0vLQowGfU\n",
       "ud/saac5ixVeYCflCYUaVnqYdS70yQH7KXmFJrq6FMaVw2du/BZfSBex2io0CqkPjbSZchOfeHI6\n",
       "P+3+CchLwENN67xJh3e0y8f/V51sUDQwElwpht/QNIFldY2U+Olqs3JEjikaK/3pIxD0m683Ungw\n",
       "XBKHCwcSJXU1DHzALe3coJuqFFGGPEhTwmkvvH93jVExKJZ6WG+W3Qr84tLYQLkgVktIuaV39t49\n",
       "Due7DPY6nnCRKe551e5lKrje/+EUnV5Ghh03yCy9DPV8yxGUW6zSzw5W2skKhGULTJ/++vZbGTro\n",
       "9zgrER32GNS0vvtoxtgfCRdK9t7hcTsNhZe0hrABFFocMl3SoVigMeWVJ9h0qctlZ5cA/9FF21+t\n",
       "yqWHlkwiuQ30K7UF182qkwnYgbVjPwiQFnFBCC7uaCcRGwxzbkSsDhZbF4fkYIwYy8nLKeRXemmY\n",
       "mGcpjT8Io8PqZwKiAcwGPX7xH7T9WRcrWNHqgeAMBbISgPSY1UqZKM8d8a+tVQr0UPLgw3BjK9uD\n",
       "9uMJ+OvcidZSBN4/Hj6OzJ1hi5jsxlj3r3Ki80QMF0O4JTGi1l19wEE3p3acNanqTBnNRDDq24Ct\n",
       "Li5grRuArGUUk2976SBhCYbA5cqk1+dUVHKARSJH+2hXX1Et2AvGsxSTuNNk9PVY3b8pGBxU8LZ0\n",
       "9kvucR21J+I7tBu3l4MZfHFVjRntYCf9DvccjMRpmYJGiyoHatlVxeAjculFNp7ekYx3EaZ+5Gzb\n",
       "vskoNuvG839PQ7bXe5ZHqilH2e1MVL6dcmYD8VzPbi76Gh0v/vrMduifLqb5hAG2Lgxx8/c+0Vxb\n",
       "a69PgTX5Lb75v7LNQ2fRcBvHsFMw4OXBI4qQmbPOtVQzxEHbaCwNEFZVz4uT0agQcSuCpkMwrU7j\n",
       "xVj737Ih/OVVwey3OiRoOhLW+OCgtx2lcGDy6rHqvp6vXweKo9jocuAq1xutvgnrH10IAxE4Oee6\n",
       "FgCffYX4au5mZZO+NoWQVCdAQy6I1SzLjExJQih2gOqbvTUoBMuoV2QaD02dbUj82e4uLLyoIyCz\n",
       "zyuvzOAVL/kwnRjLc9q/56EjD2qFoeW1PXV3OKJ7DtpJDS3w5cj+PjEh8xS3OFvvwxWnM8FkPTwM\n",
       "2UmITRSRPvvATb9cg2P1+MNh8TZzMx8MVgNn4L/OycXHJ6cy0waPBGtlR16LDxM3bDDeGqj4Op54\n",
       "/HPYKKRAKdgXtZH6EDWJ4WCRVL+1m549R188Bha91ppGkavl/n/V8qjz3bNcgLAs087OQQzKV/8+\n",
       "iZX8cG/NBZvxmqFOITGpBOsvL87vvToRTZpVbuVqUykHlSKE7lFZbiQgZJ+xeO21IcmxGfhb8vYQ\n",
       "ZpgiU1qxE7r1ZPm+9r966ZfQoLgZq8iPNyvyThlERV7YTDLMRzmwZbjxzRhGKrdhGpVk/KQnjfCL\n",
       "OYlHLQHtcZnJ3KwbLM1RTe4lOrzjcEP8jqwzDHJG6fkTTA/d8iktXmzIwLX6Iz9Y799ScHxdeVzy\n",
       "8VPuifIcDjmOe3agOD5sbqAlmTRTGSciLa8EZGocdJATTCTe+eDrn4fYmP1bb9dcLSK54IQ1LXW+\n",
       "QTmdBDUjMwImIoLec97iLmjDrQbO42XHnjuwHm6DuvZU0/r8Vup1Q/LffDdJGoFirA0sVTD6ssav\n",
       "FHlfR1hHxlwmuAZ81ABYXc6rX30Q0KY4LO9y98Sd6hRCSS9n08USivlOGj/j7MhKMlBNHszoNMNz\n",
       "QJtLm9dbrYtCr55MdwaAUXj+bseSn0Iw3flZh6ooo4n+x1Jg2n/mtNwGpS/PSWznb0iPJLg4/Gkv\n",
       "8MFQgJO0ffROrSzTpJLZXMBTRxA/HCNbCJvagCIZcMf8pclnsgMdB1EEqVZmrrdGnhnd01YDby/K\n",
       "qoIeK5+4Ui/eX1BYMUCi81ixxlmcwLrIGdwBYzjMmxRp4QwQYcb33Kea9sreDWZkn/KlCki37Olm\n",
       "+KZOh6yjad48WSmkebKMYCwD2m+bcIMPfArphbsO6O4+j8NOK9XSGuV89QGc82x6h2o3vLDyUjeM\n",
       "nKQUebHn8eSYSVBxM7kBBYWDWOXCNjy+eO73nNYbU4yyKUzzomberze7qcWgp7y+6yGR4lINHm/A\n",
       "Djnzz/rn2htLs7JZP9HPS0r0EwNTJB+/qI2zfNgZq+NHIy28Oy4+6sMZwFuk4hHP1dSoERo7I/RN\n",
       "Ism2t/B0CqLJNFheH0d4YXjRcZCeYjQX3BW3GE3/k10ZmdXuHwf+Ix6h4NVc4uwHL/kQ/zfJcJr7\n",
       "46CL+8bu+iz9tqrg2f5cDDRkQnsYDNI8EIuzUxz9aIUAB4NHEVgH/A3dxL7zNV5QBjqiAAwPhNho\n",
       "dqw17YYzl0cWjDERc6KJ0ZGYPQYXXV5VMG0atiSV5xfuSHmu7CWmv2P7kEFA/nBM0MgKlu7CBh/a\n",
       "zAhqu2uvX5dos+xoiS+6A14A0EQOYjZUA2S8hHdkGoRb7Kdz8aAT7t1icaAob+PkWDgZ8tmzDN2m\n",
       "rYw1jIIvptTelnRenoLieVes8cmecDNI6i/qOvwBCeUFahH2yyj7DLtYZQbqhMqdkrgJw/UxLgFl\n",
       "aUNB/rJZ+NieIZkQFRJPM+7rfwvl/uzHnYL4EzjrNPg+6N/jWxwcnK6p9ZufSX9AxE1Y5GblmZA1\n",
       "1N87FHlpxyX/hed0T6i9AVQOPdu4IQG4jPfgqtjH2v3/CRHCtOl+90sEqWfnTh4IKVEsfWGIAyoW\n",
       "MWr1VaDz2VNq0098C3XrQTkfrhocDhrIktie7Nzt8DqcWZ3ZMuLKkqNnVBvUq0+bzrtJb/aFlGar\n",
       "EkbCnghb72sNWgp6N4sDVLyuOJZDedXk3wE9J0TffawFi75YDJenlb7hAfWZMZsWGrKtUN0evRTv\n",
       "c2xXBNNIMt/HBhRQ5KvCya+UwobUMHO6g0Kn4e8FqJXP3FrDuoHxAQqaKI3PflWaC92uFaUeEHBn\n",
       "GVYnvO5hOIUS+UsIU0p4dWaKMe+sDLC2nJv38GlcE6ATJlJwwsFKgrsotSTzN53szRYTlEh41691\n",
       "ROyYqsvg1zyye1Wq1P0v0cXSkrlcpHqXUnUeseVDaWkUXxJ4ZVqkGOGiV0LDaUqIIn0329X44ZBi\n",
       "WQ4M3elLSo1kUFz9tBqai8oaAO3OqvpPMKQOqF0xYVY1UYgnFR2GMvAixMZIf8PdKKwUByLcXqRo\n",
       "QjHBXJM0eN21KdCF9sZPKID3CWMm0dF4qC2ZnJ7pU5xXpkDxgUjcOGwv5R9Q5cMkToty4IWhY1ni\n",
       "hg221tMl+ahcGlEodgfp+MFs+Ik1RqU4kA/HtTDr1mOevPzM4OaoKobebMbErxj/K07SIOFutYUF\n",
       "zkRWKczVCLbqLs3pLFVF1P4b1zLOMn3u5wDgxPwcS4zT7XYZl6/Uu3dp7A6r+gjhTKUFxD0ynqlw\n",
       "QlGEO3d8qMLBresn7Mu/axIb86csHQIhxnUrDCOag9HDkViGflme8fc3xMpC5ancV55APVXzRjp9\n",
       "z3fqiJMraARluz+Fq0NKHkrqd4lzDSPDZUoIAFkwRYEWMpkh8O0jxSVnzZ5V3gMveKOmwrNn9VwE\n",
       "lMWpuQihwyKhLqMfz3EUaveO7h3h3x00uUDOInXO2cIuxZu+UKaZAE4ErVpNl8TMmoLRSaNzkvCQ\n",
       "IzbRJF5BV9ecppWywTAgNhgBdGrITJ9pueVT9ZPR5E0Rzpb6F6Wmb26tHNgh9E60t2BR5om54/om\n",
       "96WQ+zmQRHX4fsPrwByMYsUiQF1vwmPu1JP5+cSnk/FV4Ci3cYQHhnHL4Ap+Yz6LT3TKgC7RDcZc\n",
       "c+ykqZTCfhh+MQ/l7BY+N+mZskJCk/783EjNNF3m6dAkoXVqe/pioEnQAUHuUBqR8XfMpTbFd+6R\n",
       "n2Eks7PUOvp9/mkOHG4QRnT5080F+3Lt3hMFn7MyGJkZyLpJtArsTOWT/NDZbZQSVnMG4BYVq5KU\n",
       "UW5P0P5qobh1Sg9E2Nm491er7D/pWW29vTU2VSLwUcE594KWYGZ5JHzUrU3DOXqAwFPCEXS7dX9V\n",
       "iYYAXMbFVjZNS437iHHH5zgpcw7RKrkloC2xNcaH//OGulsWPSXBhf51xtZqjDndyAfoRiYOTE+E\n",
       "4hn32Sa27IsIWZCcyi+UL4rnEF3XfmEbWH2+sNaB8BELEuTyGLYMgYozR5dVEXPTFTz9wfSSomWb\n",
       "iZcltq5t3+MYn4HBKsVjfJgXvPAfGhIie1p4PXhO/8Q3O+xpjIsBtq8Fvc6zf0L557NY+1RHoXT7\n",
       "Lem0jgfSIFOgfR2r+QngXrePnS2M6VfbQtpQfBCaXV3RGnJf3E+ErVv2UadQ4euqnzjlV0svOaqW\n",
       "zoBLlXtxMh3C5xY5chdTv+u4nu3rlXj/zb0pgSJ4MhNGf1GnVj7X4ziyca8mk3Ovi8E4Hn/CdkOZ\n",
       "Tv4AkC1O+/Cx+o6AvYAlrkl+Jr80sUKYlpkBYLXC8BXyMT/WzvjbNHTE8NgrxSlT1FgPf7hczeR0\n",
       "oJch20quODp5YDl58KZifcPL2e/GGHaoyF3nTgZocib6xOFY7bXdNNsaiw0wMxPIZEkRMXgdn3gQ\n",
       "4cc9xBZrKcfJzlXOjV3SQAH03pYODFyGanughJ9cuTw8DQhBaKY5AKVtk8nq3WA52ZRPKjZwCOL6\n",
       "p/75+4opPQ71cobj2EcKJBMQbjwl9/Sg2Q2VXIfgfU+VqL4uJY2+AZeR+PAZ/CV73wLREfdIDaiI\n",
       "ayua/sKDsNvkxP2I73seDElvNaaf0ZHgVnuhnQ3IikeraXbP7z/Sl8lH6YQoR9ESiqIiZtxZQjNZ\n",
       "zqPbVnXswqV3+RlMO1wmAO7VkK7JmTve/kV9CilEiXAC30gCAVdrnW3eSmWR3dHUvaaAPGYXYSQm\n",
       "FBh8U/QPxAe8IPMTK5LV+zYejZ+47/ejNibnIKfxJo4MIr1bmMX9uzSnwzQ1NmzQkpobnBDj2NpS\n",
       "7EYKb69VSB/o9Q+XJdgXLWPHR9/hACKBBXe7BbzNS7IXcasxkOKYzJchOuWlDoFo9EzJFrAo9JWq\n",
       "cHjHQSOG+ILTNpch3mszaHuijLkDXfeAdAAhbmH2SF8uzbdXef9zF7d738EOooytF6lBW+AYENQp\n",
       "sommmzDhMeT0I0IWe0X/e5cLW8ApfrIaFn1mX4ELtsP2WuelbT7GgTPtb8SI6tTDZshmD93q9PZI\n",
       "l7X9E8hfa2/2/tyDlSUeR1FuiiSWNZRH5BsM85wfW/UAnZ2XlnmN4zrvwzQNCyJdCSWrr54PYlXf\n",
       "Orq2G/r8DKxSLwJ79V6VRCVRsOkc0HKpeYTi4VlJarcN4VAKIrVSRvVAZU4bTZ0QwBU5KZSHJ5Z4\n",
       "o1+r0pVOFPAhmVSH3mmA4Dbe3eZi45umpBjeR/jCvShZV6mnCM1e0RFbh5NmJF5iM/Nbyh6vyTw4\n",
       "J4QnheWiv/reneLfWES0tKoEGfGDGgFRd296V7VZdgxAukt88FT1ppRFwhzTWdB9BDsAgqh5msMS\n",
       "YpHiovgiu6LDEbULD0+B4YzOiz4nCRW/3IG6eglnDMwdpu0nhsdMbqdv4DVYhozVa8uWaTK4oWM6\n",
       "HY12eU5hogiOJhE1xCdAwuZrmQw4Nt743y0b+4rv3BGwMJhbsZ2HvssPgEgIQbIeghtymZ2EZ6jo\n",
       "oNUaIj7Cmu0gmD6PJ3DQF2Bj4PIuQV9PusIuAc6WKqDYCO5WfKBPwceE/QTxZUHoF/g7q4Xc/zP8\n",
       "+9UytBa/hHPlEwsEtrPjPfoFOTdXSZbLuJ7aHBK6RXekczgGUOjwlho7A+Iiymrn8LQyCphWCX9m\n",
       "9O+JMuN8MpjRpfgCA3E8+Z0V/nIL+Eqs6iEN+274XKss2W3ECEOQVJsG+lbYMk00j8xX1zL4BrHf\n",
       "JHD0roOLY2+WiKtDd867+KuB4adYcFnEJEujEY+KhH2+fsbJFr1A+U8s17H9p1xpe459UKYPeoUF\n",
       "SORfKECvbecDsNtAMfrZGHECrwwXTPZvTkCunp4vDOdGJBzTrGsftvDm5KVFNX+HRof8yztlh1E8\n",
       "h1UBY2LlySsXahDpbgTeNJytc0ANlpkEiBdxoRiVGGc3OKj3dD9BgYk/CoTZ8CRQKZitzBPRM/QE\n",
       "MJvKek/149ZvOsLMdyOmt1t/8l32RiX6r3/28pCAvU4o7n3BNxhoircPSaxd+0txB3jMrxMPRmLF\n",
       "kVurYl7ZAKrIRO3S6tTPq3zxFDScGd/hC7y6O/X6z0Ex1NvaKPRPEZXQ8Xm4ALPz31IJ8MlxPPTm\n",
       "bmFBMEl6Xrr9VPIFRHxD7IqpMZYh7u/cXNbyDywobjbfsFj+7Su0S2BEZCJ+FCHwHuU9oeo3J5kj\n",
       "f6gUkuCfw4SBHYvtshbabBsB/8vz6O+0YyZJnwrGS8ahQoAF7nDStoAAoc7QAAQVAAAC6UGaJGxC\n",
       "//6MsAdyUEQDSQswTkuBZSRIlNkJAdAJpueBxdAOtUEE+uCccNxr21uPnf7W6prx2xszouJePA/f\n",
       "O0w/F8UjREqp9j2G1bp8FQVjQrogYjbuF0k/8nLvMekc3Cjz0AsDYjiVlgo9Llsg3go956MiVqGB\n",
       "hFZa5WSsCLuu13kIymV96ogsAPAhLytya2Ndsab5PscE4wkZzCq6LLVwwuodCWoTpZrEMzIvFCHU\n",
       "MUTfflWtguC5hddMNvKVqWZhgzTNpdllIayc4oAoiWGQpoMI/JqvizwifAeeiAi5sgPWmg+syFG4\n",
       "Aq2z33eeEiZ+hqaoMiDR5DrQcbUSfEj/PlnLUYf6EXg0AHzUErrqbu4ngMZJRnfK8scneJ8IztNx\n",
       "MRbe+efknQQMxW5yqKh309d/1m6j1PgBKtHm5SsmwkuC/NAXVAve64KXKwbjLgHU/pkT977i9MKA\n",
       "V+TLe3f8wt5ki/F/vFXDdKGHnZ2ULOMuwZo3uiEEyYZ6po+95zT96RUb6RK0n0q/0Pz1C8OxLUQj\n",
       "4cqcBvfmkFyQIoY4jzNJwdBWEE5gK45SiYCryXBDh1Lpon5ZDHzlBqCS2d/lRDeWYsciURiWjI+N\n",
       "iHTq+xvzeNt5hMN3+b7oQ8YCwHfOee8Y5AhA89S7RmH/6GnmPZT31jiSIklGigqsWGknqZEOaAyF\n",
       "KdB1dUg10mpLypI5dUS3bzSNCzo+JDWFFuIcgiugSX3ik4fOsq7zS5sBbqbfSvtsh9ajcKmMncXS\n",
       "Hqsjp2uNm28OZTdNXaKry09Paavk3Gb/d55oznacKoffqWBtCQgfbDn197JNx4S4uR+YdR29LWff\n",
       "J9RBeE7HtTWboBKfnRnXrTI96ubNwcNeECZAOCi47TNWfcxaBNQe41c2ycZKRkpGicr/SGcGxdlz\n",
       "U0TLi66aIIgdRTOwOuC2CpPoX7hc2IT9uHpGglWAZ4ONM7Lg4IHxFd8tu9yMfa++ax9pYmkAAbUA\n",
       "AABaQZ5CeIR/ArHNPkyRBWQ4c4BDgT1tGB1PxDlXENOoNsGv4ZkkecBDv3fp977vcGgkJDg2y/OI\n",
       "pMWMxlkB4AA2Ld+ehs35hVFTBI1av5lTxSvd7wth5+DyhhZxAAAARgGeYXRH/wXGyVsccVl6IcPY\n",
       "AAwNsp09BpA9dpGhMUyAur0dgXu1wXd0ZtYitcAE6e/F53JpN3M8RejCX3c0S1UKHX9QcUAAAAAy\n",
       "AZ5jakf/Bce/UhJF3OVg4JpLXuWB2FeGLOAi5cy0aH9zABLVhpfx3Rk/px6e98YR068AAACVQZpm\n",
       "SahBaJlMFPC//oywFR3NJLK3sAqIOGAZawnBZjJCiKHxeFLNV4lhlZ8f9dymwKavKh6mEQNWtKyg\n",
       "oa4GsYSVQvNxqhZsW3jLKw4GtmRax8kBGNGiFJAKd1eK9mEl5MSGJJqmzJrr1v9/3cDqWlpsoQLc\n",
       "8Pik0jOw69cPytICQfW3yeHfh5ghUgpbDd/EeIks1xEAAABDAZ6Fakf/BNT3sE5keRYOAGclTErJ\n",
       "hOWHs2DwH6kHgDVPQW9txz0tR0yKAACUs6yfP7q4rgKkAnJYdSqs3H5sg6McsQAAAHZBmohJ4QpS\n",
       "ZTBSwv/+jLAE4RwlsVBRKCH6ifoAOU8BQIcObZ6PVk0E5Zv/WqLsQsQQOMSV4jpBrIPkQ+k1QsG6\n",
       "3qn4gKpa4RiLaFzv3tZZ5ukBxWPGl/5bbIFrvQ1/CNhCJhkeiKJYWfo+mZvzjEaEEaOrCmKdAAAA\n",
       "LgGep2pH/wTTCe6Mg5AaKueUr+CqTqrFyGtdkaCAC4mwrgwtJdBTbJOx6cirOs0AAACGQZqsSeEO\n",
       "iZTAhf/+jLAAAM9WrAAUk9OEOYdiNehuwgI7rNmtn2J37UDfwBKbBUBe6sHxAdYD1LHCmT9ff28W\n",
       "evo9sKeb4D7MZy9bt1HD8MR2zjSJIBteka4ZkxcZNntkDAgvOfvEcrYV+KkaZ1RViOsSZ79c0Kiz\n",
       "rXSm3gedB/Y1niMlN5AAAAAwQZ7KRRU8I/8DEngOKO8RmV2BVpY6RA0SUjNGzfZ4JogAJ1lGgPDf\n",
       "S3Ho+Ufs8SMRAAAAHwGe6XRH/wQxiEgQq7zVFg46QALitNUIaYPHUi8r6RcAAAAYAZ7rakf/BDPj\n",
       "7B4h9Rz5gASwyIDpD5uAAAAAREGa7kmoQWiZTBTwv/6MsAvPP6xWEk2bwIA5h64S5k30vVQJlrb/\n",
       "RCyHwd6pl17YhcsJjLQXJpa5MEgEbCPkhU6u/TKnAAAAJQGfDWpH/wTU97BOZHlKXAb7tuX5MI8E\n",
       "IvLiABaUDOUhv68LQ3EAAAB2QZsSSeEKUmUwIX/+jLAAAZR2ZAC1npxt2Uh+9rvTqqdajjlfjviR\n",
       "RJ+OO747bT0e0JWN5W5nmm77Rm2nMt0DxWA4UGlGC/eRkC19xIxu17e9uHVlvGF+Z9TENFPperD6\n",
       "SqfcFRjoebHdNsVDGEoEUYlL/8FZ+QAAAC1BnzBFNEwj/wMSeA4o7x6DX8HPojV/jgYfM5H55kjq\n",
       "AEshCugiuBFjgiW/CPAAAAAaAZ9PdEf/BDGISBCruvS6dIAF1D6IJ1BwToAAAAAaAZ9Rakf/BDPj\n",
       "7B4iCPXzetMAB+FnxD2kLGcAAABOQZtUSahBaJlMFPC//oywAAGKenQAOVzRpHpzFkAc7r13FkxU\n",
       "Uqb2KeFGhQnab3h306znsr2H2jL5KNz+n76X+vU26kUx5mSD34n9VEjgAAAAJgGfc2pH/wTU97BO\n",
       "ZHlKXAb7tuX5MJmJ1XwATjQld0li1H2BA+vEAAAAkEGbeEnhClJlMCF//oywAAMVEDUACaXRDeKR\n",
       "ck+e0mGDHWsusubdlhQu0W/n62ZpLetU0gLWGt89ZQ+nelOmQdr82EM0nZOIUTfK5gG/GM97Nrit\n",
       "yGJgxMr9xjNxAe6Vx8TCRUivIPBvABeBE+YFpq7s1SsA/cY2ra/agPHQo70ojXfxZOcJAENequAc\n",
       "76nBtQAAACpBn5ZFNEwj/wMSeA4o7x6DX8HPojV/jgw+5mNElACZbIvTNgOefCA4X4AAAAAcAZ+1\n",
       "dEf/BDGISBCr8xp/sgATi91cZ9IjrywXDQAAABoBn7dqR/8EM+PsHiIxvjemABc6YxCUpc0JgQAA\n",
       "ADtBm7lJqEFomUwIX//+jLAAAwD3dsAk2UY9TxmAOZOakkVf+FhoKQU/vFKdCa1me5OS5gmXJh19\n",
       "Xjt6HwAAAFxBm91J4QpSZTAhf/6MsAADAPToAJ3SiZO4bm0EEcMz+iZ1Ngchvu4+8+1RW9Ug1SUp\n",
       "CzwCJosX5Y5zGDzXNSmpwZiP/Vdly7VTed/f+AYZ0t/pgkuI/U2XJM3UgQAAAClBn/tFNEwj/wMS\n",
       "eA4o7x6DX8HPojV/jgviF+AC4jyBo8ryStOKFy4zwAAAABkBnhp0R/8EMYhIEKxfxWeAB77VVnE3\n",
       "rnPBAAAAEAGeHGpH/wQz4+weIi121VMAAAA+QZoeSahBaJlMCF///oywAALtBkZxOZ2ATSOsFRDF\n",
       "3hdE98Czpc6LuHr5wyShO9YmxIYbdo2iL0+m5rP3MvAAAACFQZohSeEKUmUwIX/+jLAABdsZkALW\n",
       "euDZ7ClrEUZSu6l7C0ZB8yjg2jEPCSX+dKInzZhznX5c7Z+lHHYlQrHaXVi61LclsrJgzqoPC4HT\n",
       "wYakvUbuhnEs5MK56Kwllpd/gPZC3o8UBfWvl2SfpfZCccRv3xpVfqnEfk+dKTTLKdiLL1PacAAA\n",
       "ADNBnl9FNEwj/wMSeA4o7x6DX8HPojV/jhdCjLEK0eRRbyABOgQwpg/NRNvBbuF84A5nbsEAAAAd\n",
       "AZ5gakf/BDPj7B4ieuwTuQ0AB+FUaFohzLydLYAAAAA0QZplSahBaJlMCF///oywAAW5GgbYAa6G\n",
       "HERfRyS+dKnAP2ZypZGss0wG3Q6toD2svnIUkQAAACxBnoNFESwj/wMTuFGDlCrY3wdVCsz8jSfT\n",
       "J9AESAvXAS7yAJrAuOpwGOSHvAAAABABnqJ0R/8EMYhIEK0vakp9AAAADwGepGpH/wQz4+weIeDF\n",
       "gQAAADhBmqdJqEFsmUwUTC///oywAAW3Lu2AKZic9Xxt1FEJkn+jkv/D+pUmuDVMXjaWcqjX8EQU\n",
       "P/KbgQAAACYBnsZqR/8E1PewTmR5SlwG+7bl+TI7ngoAH3G1Pbptlmc7HqDogQAAAEJBmspJ4QpS\n",
       "ZTAhn/6eEAAFq1NMACw+pIUI6QY7Mp23SZYfwfgNgHhLAMPQ1BYkESAyFio0F2nr1f1jD+q5K0/y\n",
       "dHwAAAArQZ7oRTRMI/8DEngOKO8eg1/Bz6I1f44WZ8bydX/gAmcsZiZlDc8xsX+FtAAAABkBnwlq\n",
       "R/8EM+PsHiJ2O8oUACZXVXYexCoRAAAAaUGbDkmoQWiZTAhf//6MsAAFt0IHAJr4dMidchvk7sya\n",
       "LcVAKsl6eimQFY5/c5eticWOs2UEsERt+nWx16rhcKbOd7B6GrfW356MqWNCBlsjEl96Z/HrmWrg\n",
       "APOC79gjwVcBqbNVWfj5CwAAACJBnyxFESwj/wMTuFGDlCrY3wdVCsz8jSiNk7Sl0e5SxktQAAAA\n",
       "GwGfS3RH/wQxiEgQrSsNfFVABNTLCO+axwxXmQAAAB8Bn01qR/8EM+PsHiJyuWCQAbVqGp3F3tqT\n",
       "Rhi/IZVZAAAAQEGbUUmoQWyZTAhn//6eEAALDjccAVqlUAj4PrXXGDhlGGg7jIEmurk40u5Pw8gd\n",
       "Pfv/UaRfyg27OjBNo6d+peEAAAApQZ9vRRUsI/8DE7hRg5Qq2N8HVQrM/I5D3NQAtuGpTbZP2o38\n",
       "1hVAlIAAAAAZAZ+Qakf/BDPj7B4jBsZQAJz5iUqQuUp9tAAAADtBm5VJqEFsmUwIZ//+nhAACw5O\n",
       "jAFW5wWmbBSPdyqx1k16kNa2TrpgRyM6QQVvX6RD5YYq+U/VBunQ/wAAAChBn7NFFSwj/wMTuFGD\n",
       "lCrY3wdVCsz8jkPpvgA4MXyCkga6XiDEniLUAAAAEAGf0nRH/wQxiEgQrsrUkJwAAAAPAZ/Uakf/\n",
       "BDPj7B4h4MWBAAAAT0Gb2UmoQWyZTAhn//6eEAALVm94AL/al0wfoLY8UgGcoknoblDafyqQsMmd\n",
       "7ooieZ6J4E58EPZUJm3KXMmwEP6rr/O+f+hYIfOQ1ghq1ZwAAAAoQZ/3RRUsI/8DE7hRg5Qq2N8H\n",
       "VQrM/I9XZlCGgA/ncmC6veTAo2728QAAABYBnhZ0R/8EMYhIEK7NxwgAJxPQThZRAAAAEAGeGGpH\n",
       "/wQz4+weIw3bUVsAAABUQZodSahBbJlMCGf//p4QABYfhzltpcLSMTwZkYPNG/mTbSEMpWeKaPUX\n",
       "8GKRrMDJ5vfGmcAeYbpUv/0z+Wbfd6zaybGLDVe/+1Iby9+/md6GS13RAAAAJ0GeO0UVLCP/AxO4\n",
       "UYOUKtjfB1UKzPyfe6XRgA/BpfRJ01R8QhIWsAAAAA4Bnlp0R/8EMYhIEKuCLwAAABoBnlxqR/8E\n",
       "M+PsHiQruLcG+MAAmJyyNCBhFwAAADNBmkFJqEFsmUwIZ//+nhAAFh4VruQBWqXC0X9K496QrbGg\n",
       "ugFLQaqjukr44xj3dcBgLaAAAAAmQZ5/RRUsI/8DE7hRg5Qq2N8HVQrM+9Ymsa28AcyOHAHMQ2lh\n",
       "uXwAAAAXAZ6edEf/BDGISBCyHDsXMAEbZqZiC1cAAAAQAZ6Aakf/BDPj7B4jBdtRZQAAAC5BmoVJ\n",
       "qEFsmUwIZ//+nhAAFhtIVfwsAK7qIrPF5SapJsX/aGkDVbiNRol/iwtpAAAAK0Geo0UVLCP/AxO4\n",
       "UYOUKtjfB1UKzPvWJMPsddvADixu9MWmsR4xyC91V4AAAAAYAZ7CdEf/BDGISBCyHyBgAcRFqyr7\n",
       "4LKBAAAAEgGexGpH/wQz4+weJCleBmLVgQAAAFxBmslJqEFsmUwIZ//+nhAAFs338OGS0AX+3asx\n",
       "IWMb6m+4F9Z/9s+gyfIn4MccxZoPMuZZLM8yS0sYBBzecj50fW1LO4ZNDQgV/yBvdIGq3BpKG/1a\n",
       "M6cp1c+H+QAAAC1BnudFFSwj/wMTuFGDlCrY3wdVCsz71iM28GqQA2AI4+9aWo178WPq4/iMeEMA\n",
       "AAARAZ8GdEf/BDGISBCyFqPwsoAAAAAbAZ8Iakf/BDPj7B4kNAT623TAAjs6zG1BqFlAAAAAT0Gb\n",
       "DUmoQWyZTAhf//6MsAAW4cwnrlgEj6XYb42wDD5L/NpllAmVSUo57sx2lcjIpu8Bsuihh6wnRarW\n",
       "fUfUqr5JKI1jHG7f0pP/+pYO0IEAAAAqQZ8rRRUsI/8DE7hRg5Qq2N8HVQrM+X/DgAWhJ8wCPBkS\n",
       "SHDnmtlLqzQgAAAAFQGfSnRH/wQxiEgQskCkeEYBbFL5gAAAAA8Bn0xqR/8EM+PsHiHgxYEAAABR\n",
       "QZtRSahBbJlMCF///oywABbc83gArnCjxDnDQa2s5auYkfT79wD1AxXkFajCec1DqAjHgw77+/bq\n",
       "LzspjdR4GRuh+/yqEMWzgv/2OocdIae1AAAAKkGfb0UVLCP/AxO4UYOUKtjfB1UKze4f79tEAQ51\n",
       "oYSR77hdjOO1Y+oYkQAAABwBn450R/8EMYhIELJDpagAUaOdfMBE2uMLvGrAAAAAGAGfkGpH/wQz\n",
       "4+weJD3KqADbNXtAoQ8FbAAAAF1Bm5RJqEFsmUwIX//+jLAALfvj4PZHLCL9QfhLqEsrj7FdRH02\n",
       "yhCVr+isKc9dWfS5MZtA3Lbo0pY81nAZ7rO9+4A33z3YVVlbJY3L9TxyBjQ+p+IampReg6EwqQMA\n",
       "AAAsQZ+yRRUsI/8DE7hRg5Qq2N8HVQrN/d/MAs5LwDfG7FJBkctHIPTW2412CSAAAAAPAZ/Takf/\n",
       "BDPj7B4h4MWAAAAAREGb10moQWyZTAhn//6eEAAtVgsaacAhHrUdN0sN6VqrJLJT/PuaZbh5K1uN\n",
       "CXVa9u25TnboMVtinbwdkUzBMHGdXPmBAAAAH0Gf9UUVLCP/AxO4UYOUKtjfB1UKzfik4LE+8xkn\n",
       "oa8AAAARAZ4Wakf/BDPj7B4mhfYMTQkAAABOQZobSahBbJlMCGf//p4QAC1s4UHANRNNjvUTgLuL\n",
       "G//DvVABMQLfH5FdPZuwmATso9jdf6/saM7DvQlLkRPliuNN8gdKukUNZEyXatFnAAAAKUGeOUUV\n",
       "LCP/AxO4UYOUKtjfB1UKzfu2eMKYAARf1BlHOLGrMQylLBlQAAAAEgGeWHRH/wQxiEgQuPsbmMkF\n",
       "lQAAABgBnlpqR/8EM+PsHiZ7YQAA43cDrBGAsoAAAAAuQZpfSahBbJlMCF///oywACy0Z01kzgAj\n",
       "IaGw0oDVp5oioQlKeL/xfG05AuGGBQAAAChBnn1FFSwj/wMTuFGDlCrY3wdVCs3tENmMpgALn6TU\n",
       "vRIOVYtEcM3JAAAAEgGenHRH/wQxiEgQuIhoB2CygAAAAA8Bnp5qR/8EM+PsHiHgxYAAAAArQZqD\n",
       "SahBbJlMCF///oywACyY7bAFJ6DoPSDryzYqfIt6u+9LJ+pv8pmH+QAAACVBnqFFFSwj/wMTuFGD\n",
       "lCrY3wdVCs3y38wAq55DC/xUy6RUurNCAAAAEAGewHRH/wQxiEgQuKtSNJ0AAAAQAZ7Cakf/BDPj\n",
       "7B4mdQkaTgAAACRBmsVJqEFsmUwUTDP//p4QACw43HAEI8Ya+6vYZfLodA8FhqUAAAAZAZ7kakf/\n",
       "BNT3sE5keUpcBvu25B/G0sCg0QAAADZBmulJ4QpSZTAhn/6eEAAsZcF3gLvAEQueDV2vzz3FXN/V\n",
       "Pb5hmnIgQhG0R22RSVtP0VJOEnEAAAAoQZ8HRTRMI/8DEngOKO8eg1/Bz6I1u3UbtIANzMfFx7hf\n",
       "WcVG1ho8IQAAABoBnyZ0R/8EMYhIELi+2UACc+nlD6JgXeTyXgAAABMBnyhqR/8EM+PsHiZxhhp/\n",
       "kn+AAAAAK0GbLUmoQWiZTAhn//6eEAAsObGoAcYxb8IQDmbsEuQwNv//zrFiwfGrRcUAAAAdQZ9L\n",
       "RREsI/8DE7hRg5Qq2N8HVQrN7hABkpAyrSMAAAAQAZ9qdEf/BDGISBC4tho0nAAAABABn2xqR/8E\n",
       "M+PsHiZ1CRpPAAAAR0GbcUmoQWyZTAhn//6eEAAsMnCbnZsAOMZd/uL1luzL5rA94tJ03AFkEx+l\n",
       "l2Ox7YtDTyq9bq0wxw9Xn2yhr5cr6ds8mE3BAAAAJ0Gfj0UVLCP/AxO4UYOUKtjfB1UKzfLyyAAu\n",
       "ogx4hOIbUaYgqLRngwAAABEBn650R/8EMYhIELg+Yegm1AAAABoBn7BqR/8EM+PsHiZ7lVABNTjB\n",
       "ToNraHQW0AAAAElBm7VJqEFsmUwIZ//+nhAALDnr+AI9660SdtUAF8coVsa1HBm3hsQSP6FASo2K\n",
       "RiDOrMecIn9XjK9iXyghJ9jvV4759K6DZ8IPAAAAIEGf00UVLCP/AxO4UYOUKtjfB1UKzfCXkvBO\n",
       "cVgOyddAAAAAEgGf8nRH/wQxiEgQuKsHgJUFtAAAABMBn/RqR/8EM+PsHiZSGOgYaC2hAAAAbEGb\n",
       "+UmoQWyZTAhn//6eEAAsOce4AVznBYYb0z2Phx3FY5xHPZYGaMdZz9SufmFHp/dkrA9qVsFzy4q/\n",
       "FilFOP/vXQzBMrzR4fKvZHlVmrHhGMKiRxv6sKRySsJopAqDdyltmyYVaNuHGerRcQAAAC5BnhdF\n",
       "FSwj/wMTuFGDlCrY3wdVCs3vZ4uNAAhf9LPvuwB21M+58dH9E1+xgv7ZAAAAIgGeNnRH/wQxiEgQ\n",
       "xSwqJXPgBrcaJErtIDycpcgia0/XtsEAAAAYAZ44akf/BDPj7B4md2g8OgBWzvdrukn+AAAAQUGa\n",
       "PUmoQWyZTAhn//6eEAAsOce4AVLVjHeUV3fU918DATn7Uluk7Hh7PrKmVty+uZ5ML+HAZQaLp1q6\n",
       "z2fXPhBxAAAAJUGeW0UVLCP/AxO4UYOUKtjfB1UKzfD8SAAnCji0Jf5PFBFmCugAAAAQAZ56dEf/\n",
       "BDGISBC4tho0nQAAABEBnnxqR/8EM+PsHiZ3YKN5LwAAAEtBmmFJqEFsmUwIZ//+nhAALDnHuAFc\n",
       "lSrKIUwxqEB+Eq7rWvlowTx32o6P6eMX/4pvR5+e09bQFqDhx2wjvqioL+XnvysTF6e3ROAAAAAe\n",
       "QZ6fRRUsI/8DE7hRg5Qq2N8HVQrN72UMYhaAPqHtAAAADgGevnRH/wQxiEgQq4IvAAAADwGeoGpH\n",
       "/wQz4+weIeDFgAAAAFFBmqVJqEFsmUwIZ//+nhAAWPffw6GlPQAb2tdJb+xufJSUwtrUFXemh+vz\n",
       "270KVKrwqoNsAMcixpmnKtDuUZUPf52c0Qcug1/mQLt4Bss0NSEAAAAiQZ7DRRUsI/8DE7hRg5Qq\n",
       "2N8HVQrP48wqK1thaKI/GWCsgAAAABABnuJ0R/8EMYhIEMXMNGSdAAAAHQGe5GpH/wQz4+weKxJ9\n",
       "QwAi+ruaz9LwdJGTCcfNAAAAQkGa6UmoQWyZTAhn//6eEABYaJ4AARsQwFzKFZSukhh6asE6esvH\n",
       "8dUfg48/a3vRDrqGSMpfntfGwxpSY6J9/LAtoQAAAChBnwdFFSwj/wMTuFGDlCrY3wdVCs/lv5gB\n",
       "spNCv6n8duJOMkgkrcYhAAAAGgGfJnRH/wQxiEgQxc3DwAV6lri34jE3HZCAAAAAEQGfKGpH/wQz\n",
       "4+weKtJRHH+AAAAAZEGbLUmoQWyZTAhn//6eEABYcbjgGjdwtIVZQs8yEV+EivuiwiH7+qa4tTfx\n",
       "b8bP9gRm16HmrXTXvvPIHOhMHm9PhxBiU9hQThV7pM2tUeZYC1XpT5afvUAXHt5utKSZevVehE0A\n",
       "AAAsQZ9LRRUsI/8DE7hRg5Qq2N8HVQrP4SVc6+ADg1VWEiyO8+xiSuXPWpI9eXAAAAATAZ9qdEf/\n",
       "BDGISBDFtlKoRJ4l4AAAABMBn2xqR/8EM+PsHirDw3s3oFtBAAAAMkGbcUmoQWyZTAhn//6eEABW\n",
       "Tsq2scAKlGb6kkYFd962Uha5yYzUjESRCEm0R/ueJYF3AAAAKEGfj0UVLCP/AxO4UYOUKtjfB1UK\n",
       "z8vSmAFrn2ZfoLBGZsHDzQJjwrsAAAAQAZ+udEf/BDGISBDFEAkZLwAAABABn7BqR/8EM+PsHirO\n",
       "2oFtAAAALkGbtUmoQWyZTAhn//6eEABWUbugcAUbDyMRxOTT/P7eF2Rhvlq3iZOUTyFg2YEAAAAn\n",
       "QZ/TRRUsI/8DE7hRg5Qq2N8HVQrPyQYwAHFjXS150B9kKlwGRUJaAAAADgGf8nRH/wQxiEgQq4Iu\n",
       "AAAADwGf9GpH/wQz4+weIeDFgQAAAE1Bm/lJqEFsmUwIZ//+nhAAVjNB4A5RvAVTu6TsDYjtgfGM\n",
       "oTrYhGARLxtV//UvAYtD9WD6rYIGnP3+dgPPiO2kt02Yc47oVWICgsC7gAAAACFBnhdFFSwj/wMT\n",
       "uFGDlCrY3wdVCs/FfOhiL8I6CQnifiEAAAAZAZ42dEf/BDGISBDFAamXAAk/TYXy8c4C2wAAAA8B\n",
       "njhqR/8EM+PsHiHgxYAAAABGQZo9SahBbJlMCF///oywAFdJ8JutaQCN2XJLsC24tRQH3Aiz1Oie\n",
       "doanni4f7tVOOC7usPA8OEA4SFlC+a8K6GiVg66RvwAAACxBnltFFSwj/wMTuFGDlCrY3wdVCs/L\n",
       "+JAATjYy8U2XTuWky9y/shkpgwwW0AAAAA4Bnnp0R/8EMYhIEKuCLwAAABkBnnxqR/8EM+PsHjuy\n",
       "syjoACdsIfXqEj/BAAAAYkGaYEmoQWyZTAhn//6eEABWM49wBO6nZk8r173MsfMTWvNiO/3gQXDo\n",
       "tQ3hDfm1obxxmsg1TMeX0eQlVNctRbcbgZncMzEWoNXF1pCj7095ewl3lyoSUQESQLsrqfbNWheQ\n",
       "AAAALEGenkUVLCP/AxO4UYOUKtjfB1UK/FgouP2GAErm1qGIp7vFhgC0Xr2KWGfAAAAAEwGev2pH\n",
       "/wQz4+weOddRKv/BIXcAAABSQZqkSahBbJlMCGf//p4QAFPzj3ACMDeFxRgleUEckWJkMeLyu57Q\n",
       "Eqb0wM1I21WVAx93h/U75+mJY/8ea5CykvDHpIdorILxVKrtGLSds/BxwAAAACBBnsJFFSwj/wMT\n",
       "uFGDlCrY3wdVCvwkVKXdPwF1Dich/wAAABMBnuF0R/8EMYhIEOy2mQxw5KF3AAAAFAGe42pH/wQz\n",
       "4+weOddySMAiwaS9AAAAS0Ga6EmoQWyZTAhn//6eEABT3WeWuw4AhHtUg8cURsNIsBKJd6a/lvSV\n",
       "TO2uJjcJOppBknTf/SFTQuT+5OuBJWgpkR+TqoD/xq0MGQAAACxBnwZFFSwj/wMTuFGDlCrY3wdV\n",
       "CvwkVLqQogBZEmjAytsIBclYAKhqEhDQgQAAABIBnyV0R/8EMYhIEOy3OKndBgUAAAAQAZ8nakf/\n",
       "BDPj7B4511tCDgAAADNBmyxJqEFsmUwIZ//+nhAAU/U/9AETH3C0eAvqVpxcIQ2GK9W+5atLppI0\n",
       "RhLma+4sG9AAAAAfQZ9KRRUsI/8DE7hRg5Qq2N8HVQr8GD/Lt3D4TR6hNwAAABEBn2l0R/8EMYhI\n",
       "EMRm6kMm4AAAAA8Bn2tqR/8EM+PsHiHgxYAAAAA0QZtwSahBbJlMCGf//p4QAFPkydS0DADg0GTX\n",
       "fa29Vr3ygaofU/SBRT8gWEFj57Zc7Fg3oQAAAB5Bn45FFSwj/wMTuFGDlCrY3wdVCvwYDxlHxmDk\n",
       "ihkAAAATAZ+tdEf/BDGISBDtYxOQrFQu4QAAAA8Bn69qR/8EM+PsHiHgxYAAAAA6QZu0SahBbJlM\n",
       "CGf//p4QAFQPhCHAFRh25AEnPINibLljDtnxXB/iQVfc5KSksupUeJzUbTghQWDegAAAAChBn9JF\n",
       "FSwj/wMTuFGDlCrY3wdVCvwYPw2ah2KAA/i00BGn6RH6J+XxAAAAEAGf8XRH/wQxiEgQxIw0ZNwA\n",
       "AAAQAZ/zakf/BDPj7B4qjtqBdwAAACdBm/hJqEFsmUwIZ//+nhAAU+RJ89FvAA4wvf0oWtiepKUT\n",
       "hsogYEEAAAAfQZ4WRRUsI/8DE7hRg5Qq2N8HVQr8GD/Lt3D4TR6hNwAAABABnjV0R/8EMYhIEMSM\n",
       "NGTdAAAADwGeN2pH/wQz4+weIeDFgQAAADlBmjxJqEFsmUwIZ//+nhAAU/VVOAEVjFUUjetH6JzL\n",
       "V5FCionY7U3glX/AUXHOYT5NuY1dbTogYEAAAAAfQZ5aRRUsI/8DE7hRg5Qq2N8HVQr8GD/Lt3D4\n",
       "TR6hNwAAABABnnl0R/8EMYhIEMR2pGTcAAAADwGee2pH/wQz4+weIeDFgQAAADNBmmBJqEFsmUwI\n",
       "Z//+nhAAU+CA49Si4sAN6853ilaUgctIMB8ezT/4TDUmXQslrrXIgYEAAAAjQZ6eRRUsI/8DE7hR\n",
       "g5Qq2N8HVQr8GD8NnGcACY+livDWynQAAAAOAZ69dEf/BDGISBCrgi4AAAAWAZ6/akf/BDPj7B4q\n",
       "ixbKAEDO87SN+QAAADZBmqRJqEFsmUwIX//+jLAAVLLu2AK1QrXkyCYW0Qf/YdqyM096sUSrJjNX\n",
       "6BdeLAXegY90DpgAAAArQZ7CRRUsI/8DE7hRg5Qq2N8HVQr8GEB63UALcGT8gLgRpa1ZvEdtyYhQ\n",
       "wQAAABABnuF0R/8EMYhIELgWGjTcAAAAEQGe42pH/wQz4+weKo7XOyoPAAAAL0Ga6EmoQWyZTAhf\n",
       "//6MsABVBK+/ABU1SWOepVKnmNPtaWy2L0ZUgfCibRej/IKnAAAAHkGfBkUVLCP/AxO4UYOUKtjf\n",
       "B1UK/BgPGUfGYOSKGQAAABABnyV0R/8EMYhIEMR2pGTdAAAAEAGfJ2pH/wQz4+weKooSMm4AAAA3\n",
       "QZsqSahBbJlMFEwz//6eEABT8nRgCHxtqeyL42NDVF6m4DAhraMplVepv4la1pTs/K6b5CIGBAAA\n",
       "ACQBn0lqR/8E1PewTmR5SlwG+7dEQH77vgAg8s7RjBElIsilhs0AAAAhQZtOSeEKUmUwIZ/+nhAA\n",
       "U/KtcAODUP6qjzBQC8/pOCbgAAAAIkGfbEU0TCP/AxJ4DijvHoNfwc+iQZeABC7zpyD9oI5PY0AA\n",
       "AAAQAZ+LdEf/BDGISBDEdqRk3QAAAA8Bn41qR/8EM+PsHiHgxYEAAAAkQZuSSahBaJlMCGf//p4Q\n",
       "AFQLeTQBEx9L4jx2DDWkP//3Fg3pAAAAIUGfsEURLCP/AxO4UYOUKtjfB1UK/Bg/jGqMcn8W5yRT\n",
       "wAAAAA4Bn890R/8EMYhIEKuCLgAAAA8Bn9FqR/8EM+PsHiHgxYEAAABMQZvWSahBbJlMCF///oyw\n",
       "AFSz1/QBVuFCW9iPgc8LeipfELYOkYfh56cyu34S2JgTU3Z12rL4mmY5naZy4t37JxOH4n6awq1h\n",
       "1B8CRgAAAC1Bn/RFFSwj/wMTuFGDlCrY3wdVCvwftFeqq7NADc0XnHaDifPRfrJSFrCOCYgAAAAQ\n",
       "AZ4TdEf/BDGISBC4CNKNNwAAABQBnhVqR/8EM+PsHjgoG2BuMei7gAAAAE5BmhlJqEFsmUwIZ//+\n",
       "nhAAp+NxwV1FXO9Bn75L+LxNhxGNM8VantqCHKA/Uz2JJ05NulE5eLqCxOeAPgXi00snZDvs4nin\n",
       "+jwcX/tjBF0AAAAtQZ43RRUsI/8DE7hRg5Qq2N8HVQr8IspiP+BIAGodgikiJ+YMicXrn2tSGBcx\n",
       "AAAAGgGeWGpH/wQz4+weOOCmGBLAAgvLEJpInZEHAAAAPkGaXUmoQWyZTAhn//6eEAConTkOegD5\n",
       "0G7uC+6pMr1+Gm4S35NVsjkWmKRtlAjB8va15fWC2wlgZ7c4EBDxAAAAIkGee0UVLCP/AxO4UYOU\n",
       "KtjfB1UK/CZMUzioMnMRUNItWR0AAAATAZ6adEf/BDGISBDsf4z6fM1yvwAAABQBnpxqR/8EM+Ps\n",
       "HjuYSvaxfWMk4QAAACpBmoFJqEFsmUwIZ//+nhAAU/OPcAIZh1rGpdBd9PGKt1ovM/9a/eEQMCAA\n",
       "AAAfQZ6/RRUsI/8DE7hRg5Qq2N8HVQr8H5OBmXE7uCeCagAAABIBnt50R/8EMYhIEPIRFte4Q8EA\n",
       "AAASAZ7Aakf/BDPj7B47mEr19Q44AAAAPEGaxUmoQWyZTAhn//6eEABT9VdyAHC66YntSjuL6PKs\n",
       "LagCoDh34J7oPMCCLsQrK5Uvp83IiqKESIgYEQAAACxBnuNFFSwj/wMTuFGDlCrY3wdVCvwfk4yf\n",
       "dnACVp4yKeBFc1DEnIjmRBlhIQAAABABnwJ0R/8EMYhIEPINFwf5AAAAEgGfBGpH/wQz4+weO5dc\n",
       "zyGK2QAAACFBmwlJqEFsmUwIZ//+nhAAU/N7wAOAiYAYI4i+FLyiBgUAAAAeQZ8nRRUsI/8DE7hR\n",
       "g5Qq2N8HVQr8GA8ZR8Zg5IoZAAAAEgGfRnRH/wQxiEgQ8g1znKQXcAAAABABn0hqR/8EM+PsHjuX\n",
       "RcH+AAAAMEGbTUmoQWyZTAhn//6eEACn4vQAUj7vH5IaxlcdrQoRdWfEIdiTc6MX0x//2xgi4QAA\n",
       "ACJBn2tFFSwj/wMTuFGDlCrY3wdVCvwmTFM4ByUEsUWctPeAAAAAFQGfinRH/wQxiEgQ8hEW1nkO\n",
       "T2qtgAAAABIBn4xqR/8EM+PsHjuYSvX1DjkAAABQQZuRSahBbJlMCGf//p4QAKfjccBQz7i9Qbf4\n",
       "43nQzHufuRc4FqkLMP3tVbJc2TeEkqLoUXf5db9ruLdGhX/a+T9tiaq8or9hsqVya8BwQ8EAAAAn\n",
       "QZ+vRRUsI/8DE7hRg5Qq2N8HVQr8Jc1+AHR7ZZSK99I8A5lOXsU1AAAAEQGfznRH/wQxiEgQ7LbZ\n",
       "AyIOAAAAGQGf0GpH/wQz4+weOhGUAEYgVAD3AWkDER8AAABRQZvVSahBbJlMCGf//p4QAKN3QkkO\n",
       "5AJpLvfZh5IUfb0LdvU1QuZqwhK2sc+nmOJ5hJKQwL2F2XEjYG0NPWb+9rJWVElS2zQKeBe+lL2o\n",
       "QEXBAAAAKUGf80UVLCP/AxO4UYOUKtjfB1UK9oA0/XIAWSVLMVCA6Q0rIcWBOSGxAAAAGQGeEnRH\n",
       "/wQxiEgQ6WwgACL9+dZzKjT5DAgAAAAXAZ4Uakf/BDPj7B4qV/aQAJt6huvfAYEAAABOQZoZSahB\n",
       "bJlMCF///oywAFKYTpvzjQANVd0XvTVKtodfzKUjYaoXVIANHvk9+QkKN2Ek5m+FoN7wkKLek1ll\n",
       "yT/Xk8jT5qPI0+jIYM+AAAAAKUGeN0UVLCP/AxO4UYOUKtjfB1UKz5/4kABdRcdR/saqynIeUSaK\n",
       "KFNBAAAAGwGeVnRH/wQxiEgQ5VTvtzAAE6uTz8awvHhbQQAAABIBnlhqR/8EM+PsHjasnIDIi4AA\n",
       "AEGoZYiCAA7//vdOvwKbRZdqA5JXCvbKpCZZuVJrAfKmAAADAAARsIY/zxd2GYDzCPX/lO91U0wt\n",
       "Dhh1s4jiATQdypMqMC4Ky6PniL7XFCRzWCVeoLm8wRPmI+dnULuvwAAfDGtZEwo3X04ULt3LqULX\n",
       "wuPv+Hry1dK6I36DqoJE2ZKIyeUIV0JIArVrazCp4EeHCUBw08zbJGF9smXvep5FsqJx0hNfo1vN\n",
       "V7lU1KkdvnZXVsjWXLc4oysA4I6/bzCXzW6pnfGC+h/5ufbnnb9tfv0K4/qHqLzYpQ/P2PkZr3pW\n",
       "GFXSZXy2fYouWCDb+5+fcoAHOgBdphLJy391q8uP4ydyxaFdGQ33HWNVLPAv/a+Ab6NwxZiX9gWR\n",
       "JLIOHq9vfkPYJWwoVkEkiy4WCzfRaEYCzL3ajUr2xpj53FcaS6JF2Qg9nxSCxbfB8+qFdRT7UeaY\n",
       "l1Ty/oc74w9/hZrow02YdBavl9EEH+Phz0sHof9HCo5FlJHnByWhTzPlVYvx5VKPN3+LijYKDuCJ\n",
       "k9rzIdKqsd6Gw6QXgm6EwWsDKKTLbhBZgnplBxxXfrkle8dnJHL8iPWPPdEIuCvsVj51IdsTwOoI\n",
       "LO063f3Hi0Xgeq76n1XrFtuNenBR7pvn3OB/vtm2RnDfvpjj2yiP3pbpmBQg7MUECjeA0w8ckrYy\n",
       "M/Dspm2IMudRBYOr6qxBsNiY7wFck3mKfnoggMr0AkAQhYEixyB7tGJYeqRfsAD7R1u7pLZ4LDix\n",
       "hLrA8lzlIGZx8GGtGveIYBhcwiM0hS01mkEBoVh4BOH+9HAdvbD8N7S7oiMLuTSngLp/GzV1C3a2\n",
       "IHx9HC51qKvwzqU7MPN5OufvCKhghvZ9LqVVfHz8qN1RMtkWCfjzaO7EsURt1OjhsNkRzmu+YZfD\n",
       "+4nwtm7TramOO2T2Lj08vEKWFqauqZe7pCycTGABQm7Bh0XuUonykltOJIjmfLIaXr2xbigseQCW\n",
       "zOk9uIQ1z/Cn8y3CSB+KR7SwLSF5Mpo6o5nuPwUJC6QwejJjHcqo0BvWc7sWqLXfOWC/lVanQAAu\n",
       "uvBuuV3qpP7mVRVloXBpUh3XYdeOqfsxdTp2hTtPc25PBZFO/NLdEGFq6DKnKNZBjmdv3GOqcxKq\n",
       "ABQ+Cz9OzarQf5TFa1X4GLyr/QQ4RL2gxI96QFFgcMtKy3PzTc2OoTwOFCIPQc4XHlG4jeT6U2i7\n",
       "AwtMusO0P4Uc3ZzoFKxkn7cA4UDfEDgaXkRgz87CppqzA2Oop04ohrcSg/RyyD1kOpnndv+NsKIM\n",
       "KwhAWvJDMLnn68ZD7z+W3cZvw6//32+WAPX9SogUA2V3cq5p0/9oNmmoAOhO70jglW90CJyLzLIY\n",
       "IfVXFpm/4y4ZeEf8Mpp8Dnk+RT09RcQoLl26zaGw9RGQvyCqms8O7eNjKQCtBEBGHGCt+o5ONPPb\n",
       "X44WVxHXQPbdsMoc+0YIivjf9w/gCFpfdo+UpygGegjZht/4XRKQVVH+tIucnB1n+RRXi22YWhh7\n",
       "Z2+fWQiwWtUSFvKtWmYqbUa5/OOyAjm5J636oGQRhxIzFPFWwifPKHmk0nY7EB9rAV5/BddlwRIG\n",
       "QycEm78UIQ6Fk8YYLzTkIn/baINfiAHbOLdx01sfxWLDXPCxn+gQ7WnsChNaszZKeW8w8FG1P7x3\n",
       "c9LLMAlnyvDB/5w+eMxWvQVFTIHSqTwR+jimUb/IhX0he7jI+nHS7LgNmA+0tV4PQZX3QsM/V/ok\n",
       "5E5iaMmAgyFIB9QBB8ZRevZaeSkDfGQLjtF7jKmtfwRlWOCtHide3OWXC5bucBBl+u2xQNr25we0\n",
       "P83MqywrMMO2YpJc9aq6wGX2n5ENtfViI2gkt68AI1SvolQRl8NZ+w7j4nJx03yFSTsEDJG1eLcZ\n",
       "mSdCd1zENGRFWB8AhiI0JVI3Ap+Eu44fGRDnu2h7710wUprIVUl5mYuExtZHFdUQYIuQDMBooEnU\n",
       "4X+Z9bi1QZ7ImRvg4VKpEo04vRIgtD70WjJ93RSengDaIS9lR2V1Ra83LXwpT5cY1PzmGQaY+3Tj\n",
       "eBY8qBJIfwktWmk3r4g4Cw5AShba9InllUnWsmfwkeufClAXKVg93HsTK78uZrE/w+atEVQu9NtG\n",
       "qwvlCXpO/zT0PiZnBcZEgifROKRpHlImxjcmXyEsv97yksYD3dspxc7iajK7XsRrp/Af91jIaTM9\n",
       "tmc8cjjJ9DX2vOIsZZ0FO9LKl4O8a52RmgPf0u1j7Au5Z0d2rhrXcZwfH1HR2ZEfkaNSvxv6/iDL\n",
       "3ldhYyAG47RLRAXRYHBeR/bl9uHRPf6yxNV+1ybVK0CylQ4QDiIDdDzCv5NSWDmgwE9JzUkU11X4\n",
       "DPHTPBZnP3Xfh2KDvFexBwEDQlT+wZjV4ZHBBGRsdWy0wP5rssclvuHiB3B1vi8V6SQGDNqJyZ6F\n",
       "BZIo0z0XbiapQcNx202GYYVc2kLAsD+CaDUSsB0hcatHNN6Ggub075nU+yOREB+Wm3J30syphZJ/\n",
       "22MneJcykKVSqPliZLzXtzP70vvYuMwtWAOoJJSSkHLDULenPKfBk61pWsqOPNPj1alrzW9Uaeb6\n",
       "lI1Vmjw4j76bXv8NMk8/mUYmteJ5AA3AYcWgiqKjC4RlHRkYTZwIfZVnqO1SRChEp1L3jAIQWVJu\n",
       "XjPXYU5OvwF+ou2SF+Ar/Cu1j6jgb6ZkjY/bfhWK2aTKGhPD12FYLtg47VT1meoG49ei/9mHDCbE\n",
       "h6P//hpOILogRQSInP7kYgVngveLvNACiKFAdlIrswE+y1oNxOSIURW9FGZ54TObTReXao+rkoqL\n",
       "TjCsdIv8X6JcfRuAc9V21OW+rys9objspwAGc0ZAVCHejZldPDuJQfipxDYmlprZpE9IIAXCOwnx\n",
       "Y7RiDYS6XDlrcCsQCpASGBaYL5zCWFj1buvXSGgLUkCpMmei0kP24KPlka6XoQrNQGy+wOW/Ru1M\n",
       "jSyPOd3x49JCVas77/nD/78VgOHG0gLvEuwS7Pdnu6VP8ADG1G20eCGawWK+9BImD3F6IIjlPQ03\n",
       "BBkaSw4KyGii3qqJsUHW2C3LzTgg8tyCx6k30Iuwdzhq5S7P7WIoMg0ZCQzjkEXTrNBHXiOIhTeN\n",
       "5kSjfrWLSsSs+XTsxX3FMGI+bxHgaOezWWj2MTcSJY8o05D0zNXA7F6xMpwH3DrCAFSIKBfUazBy\n",
       "fJLx5ryCTV8dAsSLsJdwvw80Ie2NtWfAsk5qh55SSKB8TAVgHjWXPLMFZZEflc788hKZzgg6/S7N\n",
       "ZcecTZkz+IgsSmv4kKqWLfSDRtIjIXfiy435tYntjfQX1SHe4N5Ss55vXQFV6fW7ob7QzatHKecE\n",
       "2YaRtCl1x+3nHZpSeKgloxhHrRlW0YMaBUrx4I/z5JTK6J08w0DfURIkLYs3ynFZCrVxazocpZmi\n",
       "Unw/sNlvSN/JqtP4Gue2eaNDvViu8ZHAE+WkWk0YQV/Rz1SqM7Dw1hktxww55b9d4Eq9C4EgpzHg\n",
       "aC9devHyPxM2mfne8HnBGZXF/FUd/0szc3LzH0qEI84GGUJeRir88hQSiDmAVvxNfLCLD8uKEOxd\n",
       "7b5sBRz4Q5dArjYde7JMs/MSCNm1XIb1Sx12L0c60Lp2+KoKYgDX+31pAgmR0fNCnMSHIr3xgxh5\n",
       "pwQUZ2jkvvi560GCADka6VCmZ9V74Fb5gif3b0tp+htIeWYU3e2AOmGWv6wztMpKEx79uVevVWcG\n",
       "w/CRQJoefeNU+OL087TfCnY16U5vW7Ad++pILOg4R/auViXYrRz0RfnHqDV2sFfISSjoqkhowVYt\n",
       "DXdcO77pZcjwOoU5QiVa4kpJPJQKYJfDGKlhR/Lnoaj7gYF70DUWG7xjq/+wtCVPl42KN0M6rfY5\n",
       "9vHMwid3kQ1+r37ZnFPgtP2lpF6nR2mwt0ZJBpvpPxNhtekjT+U+5/oAh3WdfKhU9MEUj1+WaHyp\n",
       "BN+qfnaS8iS5+lZP4ZxhHB89uBQGuqhrGWNYTxsb/+KOJi65QZCBRiIM64hONcM6pvdaMFCyLzKC\n",
       "XaI9GgDjDdNCh7jzU6DwgLFx2lNcGMCzlz0K7LkW1nERYr/9RZH5q2NqpA0K1KmR+FrpOBUa36oB\n",
       "xmkkUxHPY3Tbs6hbiQzZOSezbvcMYBV86yxkHZZqFCPOZGqkPKYOwGGVCHVrTsLYqVmh/VLFiAuh\n",
       "MxVzTwHVBuIoG4jDPQ6vGyNJOqXBNDdGX5Yh9fFGURYM1fzSydSltzGAsn98buhNG67gLcrboCOZ\n",
       "y5bnEnzkGrF7GHeH/EImcZh332ra2bMfODyk9VARnI6FjgtHD94Eqdc6I2U2cyS1Nja3ZZrOMnw5\n",
       "/u+7Fi01lgdLgsW/2WMfpsq7D5/NxNcPNE9lW5vSvCmKbnE7/qTSKb6noJjdZq7Fu6W5UplquS2h\n",
       "ZB/meWuUm6uBIw3sSoV55Q3vt0GVX0F+rS14k0PIzJ01nrzP9/kRM6TXqP0KelK0LHv+5rUIBS/a\n",
       "QlW6Zh8rAk1ZsEnKueVksKpJCNWvHjJAD+ZkHTtQejNyE7vVDA8dIkw53arXp2DA3eTEhdLlhqSX\n",
       "A4gI/jfvkXs/KrUd1/heQql2ePiZXGrVCMFTpkCebMaFwRiu63qoXN93PENbU1D1NLyfJobJjYbn\n",
       "01DrMgNjB6BJ15mmUw/v7i5MOFsDzlgqWqORScd4ZG6JGimCBjUszD5KAzZyN80eTjfOvc7jkhiM\n",
       "FAfIel0DEhOEgWAwVQi6j6i1pTw6fVhPy92YHFcpho+Oakyp7SVqObOXOLiTfPuabxRnLRHSDQhs\n",
       "QrgqCjEshSrKLyWr9y8luySg06RxWreUKvSlFEN/tIER7VjrvGSI0pi2Q46LlbkIVGR2jnkk8r8G\n",
       "R+cv3m6nQixhdqbWyfwdzOlyNH+9Kz2/Rcbp7vlJVeTB+zXXM+bt5/Ea4ZieVfeY2Hpx5Kvn5FES\n",
       "XkLjH/p8GpVWqrKFKZvVfjoW9vZ6BLm1zMElVPHu+n2zVjJL12AHqwbK0164g7esf0Pg0AWSgtgo\n",
       "VrMdEHljR03LVGRB/ne+J9nR2GSFb71mcu9Y/tV4JKHyqNndFMueW08E0sqy7rvF2viY54Z6sDXN\n",
       "jtA+g26cX0JU99sQ37lidRrVz4BPAYBDcjKqij2J4OzOLtZiSYbaS/ebZDjqcf76mfYcky3SaaXX\n",
       "dwAiOh7Dnjuaa46glWSSHprt803JitilQYI2JEH/4uYOVjaxuG6yLN+h6QZOEre1flD3nie+aLYV\n",
       "Rn39y/vuOaTOdF+WrD4e6se0cb0jIvhtS/G63pFtQkPPOPpW/AT10d23n9uFAvQoFuJuUwV6XnFA\n",
       "6bkTovZ/YkYC/PMiRbLUR42jOavdYLl5ZMkku89GU4wqZ8vevft57qp17Igk878HulqOKRyFlSPP\n",
       "kjBpxqrIsAyWBCo3jh2jA20OqS6es7jKnaJdPKFwn2Yu5sTg88+8Q6FN0N49V++6ylJfQY67lGjl\n",
       "OrVgal546E2pHCH9XLkk0eIlfKsYP6yXGUXJoaARYAOMKQPIPn6CUo+7RAWYTRr6+ojFiEvB3axe\n",
       "EMFlZ/xTCJsk4y8aFxI7JRtRIMCiGye5ZcAWGn6aiNBXiLZAh8vQsnQ11sRSEXja7ISsg9s2VcwJ\n",
       "L9VKSr4W5zyVv2e5NJgykxtVUj6f21sYpDwIkiR2kMPDXtwtA+pkeuP+4qO4n+6NWlL1VxZW1zTi\n",
       "E01vg8J4U9c7tJnwL8hBdfoCcsYCxc1hUtbQU747V22imqoSwEa0VVGsocsPQlGAoKyVQ+WqWrIq\n",
       "PKTkgzixBDrHbwNqwIAQmqK6hAiPV7AoDqfio4aodj+r13x9usw9XET8lqFIICv8IoAkdFdg1/BJ\n",
       "P/jB3CvZQknULgY7bB1lrnnusGxEcklD4d75mUVay7mIlW2HncxuBt88VvrnbJJRirDBTQ0PSdtB\n",
       "M8ui9p2UC4eHNmd7wMU54WTjq09DWeLWRD2Yod/EfZ/IDWN/oMvBtBfkaJRUZNPeB1ci45ynhfNo\n",
       "O2xnQ7fCRHv6/umJ45yiiWmNfPdFkiPdBCQmHrON/disRKcUxGF8Xusarjw4r3AftSWVO2t7JJuB\n",
       "I31l9izCV45VDzO6UTYN5BFBRnmKgAtL+/YWTSwrGEmAzqPqNJJIOsqgzQhGYlzYl3XR5c+a08rU\n",
       "wyYErsZlRYKj9yEPJDS8aP6hSrqm9DJnu28qrS67v4brB6BxlSIN+vgMxE2kyK54oWvKPcImrQBG\n",
       "jXuFQIFmEF2oNkPmvt8bWpS+ubNsddn+pPcr4UMD6mQf4uSBph3fkpp4kOoBHez2E5uERPo8MaOD\n",
       "PtTlMSF9Jky+YgzY8JuyhvV1MJhCeRoswbh4m58FjMAackfaUTOod7dH/kJlub/5LXGhI5HAircX\n",
       "Qbk1G5zMEQqLTLHKY8ORnLdxIvoRoGNzuORpXc1M0H6Vo55w4N7GeBVwptzaX66fbmU81O8IFKBt\n",
       "KNK9BtzzDmx2+NUutHl5bdWnd1J7pitq6bTTqtq83kLNP8iBK1qvvdjk75DYFeVaB4Ry5jUgKXlL\n",
       "0ZPEA/itRB7ZMq6whyxUl9yBbfDotAySY4tQdhBL7XMNEq7chmu7yA9EWU485C2q9ix+2HO0banN\n",
       "ajDp82xmS3/AWBIInZifFQqjgipHz1Wzxya7FV8i9qjBjqYCzDCsnaBzF4wPSwzdl/CN2AmIOAXE\n",
       "ux9hfYhnq++fLqQrF2hvaLkycmEqHhzkHKRcZpgJ245uYhKFf8y3Gl89tACtqh4AX1/9Ud8D9gUn\n",
       "QngnnNW/QWlrw3Ekbwb4gA26pvJcWPHDNQFAVhVkaMaGxj8QD2/8A+fRNm3SZGhjQ0xIhT4KQFvU\n",
       "FZQBidbExBfmd+0QTbVDiSItvxkx63eusxxYe1DIrmHO3wQ3vdeOB1OtJ/31BWM3+k96gvK1Wl+/\n",
       "IxdVUteqnmZIYuxU03+gkrTIkJOo70v2skhR/X90J3xCNwdmEB8UxYUSTC7bBzxXubxUQfjvCMwh\n",
       "goJ6SmPF87AXvWXmmZPndA1568T8FkB62azLpcU2nrv6ahcwDzkpxTo7UqX0+TK4Yt4CT99hbsj2\n",
       "+wLWrLq8tG+/A1oWRc3ttLE5x6Xl0DvwP6wssJCp8r7eq5kD114AeYCAFAyHgush8F1o7hybYg90\n",
       "hfrJyGYzub9mKbTVO/rEB+eOZ8sBLKws6QiCkzv4kEGiJAH9ltdp0rwJIYtaB8jHBXwqeOaOkJcj\n",
       "g1mFs3upDkL1SbT0QLfVxSDUjuqpxxqU7LnDkUt497moBsZfdYx8Tw2WwYKhpzmEF/o0JzegAonu\n",
       "6LCJFahbhQ48TtDo0GLU0ckmfgnNNkEIpEUsv8Bl//0lSbbBwBrAGbtn3Bp+taRPhPs/bYlGYJ7T\n",
       "NEETu/MndxwQ2t+i6VH2CuTi0yYk0yHQBZ1/l34cUTTzEsVZdqKu92ZzwnxesMUZIpSZZ06rvOmY\n",
       "vUVFGZXIQuIXBYDZLAMD8TnyVd9tn+i7lyfEzEF2QwEHH3veRfuGgU2fFB7YYyF7omDTTbGavHZB\n",
       "RY+/CEcP7xatTru45ZjTM2LC9HepaSbS9x6qszYCLaHrxKpM/Z9mSrpyomOYRTmpjDBwJglXzuFs\n",
       "8YhpS5EpF7YWv1jDaNEdRPJ4P6zX6MgxCyWaYdMrnmnklJqv2BF+q43SqT1P8bNV1wYT6sugqRcu\n",
       "DZT/ZhsS0yD9bsUUN9rFuWCR5Ap6rYZxerQ5fxLU1eVoalmX7kuJ9YQoj9DKciJxvLocRzQ4Y+UA\n",
       "dguZQvErVaTADYruAN5+j4m+afSToTCcbzLmslppLkn2jugOp+0o4s6XwJv5ATI2SsMWyYnFrnUq\n",
       "/l0NX8ttoVDXhMfOL90Q95Y3w/3YrkYfbcZP74PPrfuL/lGKEzJPhtEL/XUH+eEscAd4zGuWJr6X\n",
       "7jf48AM/l2smmkAsVRSJgkwp0MRSundVRq3UxEnRzeySEWWf7ZuWtjy0wgrEDLDQ/7nHjZTjeXMk\n",
       "c7lxzS6bNPL3cZYxjPACPTquA1NRAvB5/RHuLVktAlu4vMMIZzdvlV9PkNYL03J05nScwpZRLtLs\n",
       "HQ+d+GNSkZPtn2EXK4SaDW4T+x71hSFe1bibTBqFQDmOWlhU1RhXG0UwIN1ENp4I2nqVMXoPKqZH\n",
       "E9xxI+fQdCi61sJTNvlC9zgeG2f0dts5A+HNNiL3oCPSkUgHmV4xjol0FWMMtE4u87Hqegs3TskB\n",
       "Fm4ROK4Dl+S+gyLJ0XJLhFncEWyKoawi5ji2TDqQaJGcjT+RzirQfRTHyBivlePS0dgAuo5M+czA\n",
       "LsdiNyF68m7u+ZUN/djs+H00zCD6W8qJlqCKbd93fFOFGmq2rbaRK+xEEAl/7R0T1uNAzHmKn6ZB\n",
       "TZJKqRFbYNFZZLFOaKtdNtmPZablGsVHXtKRxKgscZ2BK969VEs1pwAt1OGrG/lcfcRsrVoE6BfM\n",
       "JB2cK9V4KnmBClaYWxU4O4J7mFN9UEDBU6EtSFgcrvOaa+EVz14zlEYPYgEoJ5eemr8mX/dGQZTf\n",
       "a3C6Gnk7kqTHXNtzpJ/9gSPaLHPVDJxpsh6wH/iyjK9sFfqpyCzAJrbk5fT+g6uJ24htPUVMsyhw\n",
       "0gUI4rLbSC4NMQY9wmyiGkYnzOw5fa+qBUGa/H5fXf435gsucqGBc6TE7tcqaBGsBFFYeFnyRpFK\n",
       "f8tDFkc8f8+IOzQ4BrMg5uuJJ30BxlKK1G2dqsJkex2y5nwyTHf2sPbMHe/lN3emoLGkkbLWyyba\n",
       "8xE3zo3eWmRTUpvOsH7U1TSy2CpD9GOoj8Os9xLQOAbVAfaGvdDvML/NOorKC/41PiFmNwdu80G4\n",
       "NbmerM+6J540Jw6juck4ss7QAD+IJGMBHIMxAfUbe3lt3OvpNQzDh3QOyxWpiKwpQ8XGHbr5k4nF\n",
       "j5uBsunEITp+qrjezvny4hB0orTkWWFKFTsZpJNc8J4RYoH0Rv4YArS5VVEyHOxlhb3ovvVCp0wG\n",
       "xabUlVY59p13AF8TS1xEsX6GMstXyvg20KIT2zjY+Q39W0QtY8j5uOLAfo7TePs0yFO0ewkJc8qE\n",
       "N/wKTLvznGVezTQeD1KpIzPbdWf9xB/Puo8nNA9vHYwa6KUN8qq/1xrVJQy/ynfLzpPQj3ZmlAzh\n",
       "BeXWsFLYXKlRX6954oYlbAIvtl3OgahL2WxDyNobuYSvkBFR42rMddNrM4lXBcmor6jmqeag68rV\n",
       "xbfXZlHm9Hm7jHeSWScx8dqalmuTkTWRLDhz0iwpjpgUtioXLPHJ8gJysAJsbZrJ3/vt4nXO0S0C\n",
       "0b+FLEqbBP7yVU5JM88kdtfyRFv5PkPZrf4olGAIebowuNRNFlY2LcoXzENyEs+Q22ouUvJ2MkQG\n",
       "Nlo7B8KkR0aMe/fma2tCOIxRigVPsZvLyCwc5L69pHdwmOii/GYi4R+2ZNy9kCg3L7c8tl0mtHB5\n",
       "k2+xbovV1hfllxR6M5BRTmr7wIgBVhVT42RWNjYhorBbjYQBZRLRNPyN3fgVlgP/L2GaM1PJ29qQ\n",
       "qkDRKSr1epSVzpLo3M+GcoEOKqVDXy2uDmgHACdo7qQeTQNujM8tkWq/Q5zNAxli0KnDqqgOHAtt\n",
       "3c4SsahWtcQWpyIPDMkX3TEiTvcVb2aOjmor0C2L0ZamXSNuC5ueL69+yZWwunSjYWITxluOdUWX\n",
       "Q7bex3/Tr4Tb3PbH0mvvZ4ZnjoRgohE4v4ZuPdss5QSUxzuWFRVcoXI3MJsKdGfplcs+gdMcrUVW\n",
       "eczFyAssU9l1zP/oDVY2P0ojBd1K34hRn8Jm7v5lLVEtP9KSW4IGSRIMozhS1qzrEOcyD7/XMwIl\n",
       "bzXufh4TOEmdm2otoxL12Ryq0zvC80RQCV+a8edsPtcuPgtp7/DIIPYuzZV/y5wfjwK7xOKQbHP1\n",
       "jZp78741XVugSAl4H/3djnYhurRW5+JBGc5eZpzzqJQJNFYjsrjVQoeNBqMN7mRxHy9UQJFqwEL5\n",
       "MpPu+xkjAVLPzAKni7axbCySeyn56x2dTPSGy6idhyrd9K9FL5+KRtjckLewXHB7aRWH1JtcG4+f\n",
       "Zq0TP+JMBEG3/LB2sWew+OvH9xFYirpLArUtt3LC/9yZ74qKiYotd4lxLUnwbzLgYKbH35EeQpz4\n",
       "AraImwA5gT50/vIAKEKEohX3XlICyVNS7zT7ipZ9q4+Xe0ohB3k9VA9H1+eqnOsjTl7vbdVMFXwF\n",
       "16DLuv3OEyecPRv5vBpWyC3Hv9hnocT9hD58N94cYtM+0Khv6NPRy2CPywBeyNEopJjZqGOjwXjC\n",
       "tS9WX78lLZQAfy6PsFuCiBRMvh7+LapSwrLve28rB0peLQQCiZuGo3ZkMDxGG4k9JbFLN554/VnW\n",
       "z3gARFb4ldW0QtFcwokLi9izwrFHErjXfT6GT1qZ2KGjNfKFOmfjY0SUWB0/Dti0wuCu4pHhBatx\n",
       "77ZrAtl04wNcwftMZZ9JXgDlXM7wfxDSzZTbW42L0AvV5R2YAHtV4KEtJzDQblzc1eJLLmP4RHDV\n",
       "pZg5xLY9rOa+1myN2qmU5l8gMzDgcjj9VSDvI5tK9BVZSBN+D+xVxOcy/Wlytmgt9aGagAqopKMK\n",
       "0bHOFkfgf6V2Tt8s3btjIqL3815Dg32M8CKDhUn3jjEoR08oe4wgR6QhPGxnsOOXxuvJSNSs+3Rf\n",
       "JtXSUpt+vrq3XPvQE4YatGt3UjRpKJ5u/9zgE44LBZFLX2CAw2m7XRTjuHYm+vAJpJffNmWjKXD7\n",
       "iS8ilKfOaVybekb9fE8NjDdTrfK+tj6zOFAOvYXA/2Mk4UJXM4Xj0ANr+2dycSW1F5cUd59ceA1h\n",
       "WEJ+De0bL+sjN7nEBPUlBkzmbCDTvgkBl2xNtwvEH/iexKbwAZIrcKCVOVo+BW6nZ5gmFEtL6Xwa\n",
       "u4bxC5rdjfTgf41p/Z7mY/dyTPbFrpBV34Ev0qgaALbGdVYVDE8KOUZvUz4OC3yKC043vN3j5hzR\n",
       "GupiKw13KLXQrZrvwe2FUKUKGsKYN6E/m/VZJ3iJWPESXIZurFk09dUfhIVtZNtcVU1dk9DSSOnt\n",
       "jioaMO74FKioL01NQuXa/WPeziBEAq2P8BLX5xBzoZgg39GH882z2CIHNibOMhUO0O47VxQaqydt\n",
       "RPwbjn+yWvvPMlL1Oblyg+uGBjM4H9GfjLNN3tfkoBrrwzyEu07d+HLIZiO2oIgAFfreLcLdaKRe\n",
       "K6fN6NZnEysjJxyjQlUXZipERBJdtzN8+tVkTUF4w0yHPV8WuINFy7cCDH5Lhjjf3/WS5Cg40kJh\n",
       "XJ0FNSC3CBUErDWlaX4HcSWqjVyK9KUSCNb1llGjiwCNMIGgBv/HQg98DggXXur+ZxZXL5t+qhno\n",
       "N0v4Iiovsyr//TL1CkbqiZaicn5mEeBafJLMIb1/zFD/cf1wrhRa7ztL/3gOxRemZy+jAexZ0C0p\n",
       "rgoVcHgLomKRo74+2mY+SWCnJQCzmX9tCnnYxQEAUDaxXIaugtQuftQ6onW1i8SQ0/yKoV2Gn0iO\n",
       "b9IRmgn4tvICozs+RGYi/e1K3mAr6s1tJVRnD4suH7KD576AIRBjZN8nHeoN87KbRuwLbsNqXpUX\n",
       "4wohPj3jmWXZwqXf/qu7bRcdFI6ObXS2n4+Vj+53SCCaI3f9jlB5x2NzRGqWCY/LcQPIupufYRBa\n",
       "N9mRKC0v+7oAQvTEwWQLbdmxTUDuTODgxsH7l1iDDPb4oglizy21EOrXeWQ84gmZ6r/9R/y16cQo\n",
       "H3IXNO1AvbW9p6Ph/TdA4LUWl3xdF3b8NU8CsGJFYCwTM2tc4xtSJ5jvrlMMqzlRx/vaReoukvs0\n",
       "EQJERvW4UWhlx6cIjjE5sI24HShQ4Hx6F3vSAedgLoz9p/AWSFyxsyj/7XSBEE1rm7blDIx6VTin\n",
       "c20ukatPcUCrqhmIA3yBNyWIckWTfhEEuc+2fhMj0RjFzTg9zy9fejPnaptDmcIgmxhS8pqgOOt5\n",
       "cRN0McF/rxUNoFjEIc4ya8KfDuLXVRhHbRazjCWkM9/haJ2rWxQ1Om12xgEZwLF5kAOHPBwm1icB\n",
       "w0K9exKQwRvIv2AAMxq2fdVSlfzD5fmtm3vvSHzmV1vfVjzmq2v+O4vMUgr4GAAv08bOjPacdEqV\n",
       "WYbrTjoRWmNE4qe2N/rI5c95ljj6c4Vp37KRzaEQDy4FuqMPj7dtJ32BY+ArClu317iVW+zCFJV2\n",
       "1TEyd4/Ga74AD7gHE6zfLun61BosPstbRaJBRXzZ66nhiy+dRV5eE3UO119r3x1ZaPvod+8YMBFr\n",
       "nr7RgUw0kP1g6aMCkrcOG0xN81OAqMQVNapO4+zBbzzPXu/5N+jLZzSA6UOmfczjG6+fUxCOT7l0\n",
       "8qq1g+SPY9SKwnNAsBX/2KhLTGSEw4tp4a5RlD+tajXedr9m+JG/k8jaK25O5ZMrcShAy2wr+am7\n",
       "geVVLAc8KW+CIP9wYZP9BrhetqEDdNUDT6/W3VM7BOLr59ndJIKMTrKmdYlPOgVoQz1V8S4eTa0V\n",
       "ijlo7XWDi8jcHv8gQCFMAflmm85hb8VQ/H6bxsCJZGf0dgyJCj8EiELx1IHy58AMwpuEd1ifZfI6\n",
       "0d5256ZlOlgY4IifCpePrnNDCp7HsqutzK0J3O1KI6IAM5RXWrdZfkyh+wOi8fyju9VwihmBC87+\n",
       "6edGUR7QsDGTvX7AUF63fEHTyyNrS6SNfgLasbzHJeHK537jIXg5WyNQ0zOFThJC6sMhUkNoYKjN\n",
       "nJ7x9LFQ8Oyi9tWs3FGDOqDi9JL+I4UqYRc4omUaQp3qTXDOIjw2oWHUk3+7kT5KyBHRFsdIucJq\n",
       "ZKs1ZqB6vWt0yU2RJtsn4CcoKWLRrXHkHk/aASEH120kcGXYGy4mtHEZqUCVLeGUWQUppIxBC79T\n",
       "WWzIOCuGeKrZZZmDRcrNPvbg8MnaoipTAY4g9KY+n8Z6YCXZcOPqld1j38daHYBWTNNV+U/lvEcg\n",
       "jcE6f53HIfz2NEoF3QiEa4ymNDYDd79QqU5bLixCbr1qYCIpV8IwKEWHsBtG1mKAEXQgPzQmUjDo\n",
       "/R65srWY79d8Cjhv1LLsAR+CN9HgzQ42G5Rxd0Ru4rrTz7b6Pa1eB8Ez8comJwjLTVSS96dHd7t6\n",
       "O2kCE7vJvOqhaOYMdOtIzLGqfdYprs421KvtBsfY/IHUHQP2tgVd4S786uDxnK0fQU+Bj0FipQmu\n",
       "9F8vV3/SznPQ9jEiXrRi05+mV91KPG3VmK6OhQ7V5SCfIt04CBAaGA7annihX/aPjZqxmM0wmI/h\n",
       "lGIxL+RUJW1EV32imQSYN2+FuJEggPae0HzWSOGBmbBMHYMFV5Kumysn/8H4QOmfJJ1lZ66OMNCu\n",
       "qI8IqT1l0YoWaXJa01U1zw2sMWUVv30IElEfTLoCThtLN1876fDEAbj/yBHEzS/skV1ft+vFl/by\n",
       "AA0mENx2IHvbpcVqOB2dkegSwo5sNTf/Nim0IkAfTkEsPOp2AUEOjbPpvFGbpTvZSa2GYGkFe9g9\n",
       "n2DkR+AHsa9cmRGifpegoGGrP4HYgcwDqWwSw4YAe45wnl/qZIBS7uA9+PRSYibLYbPbDQX81sL/\n",
       "2rdz+yUQFW1c9wSZzjFnbRFA+kEIHSs93vEQfgIE8OfWMbHpcF8Y3X5YOLngDgxbTD/5VDHc3uOi\n",
       "ODycimLxemuMPT/XgCvg9cQ5PDdwbxGfNqc1owHY6k2ZTZSwvMNTybaoNvj2zshBGh9UoGcW/4Gp\n",
       "YRrJj+/+vzx4exrZYqxmU3aLO//C4EOirbGBAN6O59HKrQUCGNdhE9uEzMxdBGYzivu8sQxXakTQ\n",
       "SfFWmmF8FvFUvc9FvJ16UF0UhZw816Y/Gt9YYQ/cnarpuVXAAw4zkkbTATTxvgPjMKrGUzHIw4iM\n",
       "mhvugcIFqjJczSlK8V77V8gcNYtWumfOwuNNAamritcLUUYLK3sFtvLEYk6z94JIIsEUgwQnAoGm\n",
       "mrxDuIUwIvZRClNz4Fk2sd2gwPkGf/RmFuwDw5Rbzu4ciw+oVWqau/T+i0PeNhp6bprkqtFhtypm\n",
       "2pao7bBmwlmrbuJUYWZ2XloWVq6+nCDZGXnNILJiBrnfyK1Ni0UDE2ogv+/2dOkRHJChOaGlfnbM\n",
       "GNIvGuatZsz/SyPvBfaG16u7XrqdgOces1R8qxKyoBM6pfUSFJeFxFsV5tgF5Ikhis5x76Zlthv0\n",
       "O0+v8BaL0MHYA3t63YxaDb52+mpcR48E+oF02l2N6wDk4hJyUljav5uLye3MeTp7q3hBTqtIyMce\n",
       "cAbR5HiKDpW6Bce4LVyU4BuOdk0DRqlzjPcLDDGGY/28JFGh6f8zcLIsCoFYAJpm7AnNPClv6HWO\n",
       "4Vv0tJUMyzeZqigYuopY9byGwUt3BgvsakKyiX4mA4o0//tD5zFD47YV6n3I2aWgfAMXYiBZA32n\n",
       "6arIHWHpX6MXDG9ZadloEfmPx1hqEBPi8DdoZ65oLicEIenaSRMQcAxh81K/za035c0ZxER3sJJD\n",
       "7jn/wW5Ea5rwNgRCyph3iC0bws5gvW4CettpkGB5BcR+TWfPTt4BSvOdCMcgQV1Eakig+7nBtE+i\n",
       "3Wwc4TKJoefdUdnkH8Iz+1aYS6sefdSieSMFeMfkcixbAa0jj9mNW58D6i+tnyyxKqQt12V1P5Ct\n",
       "sShdPP3f9qil6+KrvaH+JxEqXfJG5sju/IRyPfbjIvxK4kWWhe/kMEbdtEYQqlVH5nlNEXTVx8V9\n",
       "tAKoGaey6QoK4joUTZjYM2aVu7CkN6QzgmhA+qrIP8HAluUQOjS+jRx7EDEz6qHMKhNFpbCDRXJM\n",
       "WolVwlYZYAQE8ZLmOoVU8AUYvPwGWWCEZHJd58bzv7p8FW0ss2MNCJqdLZEwiRgwdBI/uwSbNOJD\n",
       "FcfkkGIW8qtUxWaUoLphkaL2dqvab0ED6dcuHSo+a6JkumLfHmvGMlZ6w7gGVnPW41HENSZT7eXq\n",
       "OPxhoE8X/jKi8VE9eGm9VVbvvxGrzeZTN5N9ZGUtXhVsQMpAoLqsLjtp6w0S/CoXqdxjKeuCkxqV\n",
       "3Xn1ve8YrJhobFhWi0FR+btrWFcQepvC3i72mduS/CIh7/epUcTP9IPBnAonUszat2VAbX1TO/Lz\n",
       "tyLP6bbRpB2/896i1UaX5HdHSm/Dea4VHGMYyDCdmlkkcUWJMDkL37sRBlpTTvYyXpcSg4VSLsUb\n",
       "UBtoTB0ZxHWCaPzj7xSxabOyIPiVtbe7FTsajRCW7rWq2hX6uV2Tluuq0bP4oEQW/FLRHynTOlie\n",
       "zJY3jDf0j+0jLmeW2V4lFaTlDn+SRk9PbToMhJi3TolFjpc7J3Q3aPya9ycZ6ZL2v64w+c1G9MEe\n",
       "qEFOsrTyjonYBmx5w/0kPb2AF2WAg3JWw/sAkp07/oBGRODPWpWRu/iyCSZQC5Qp15ZhtFJzlbru\n",
       "C6sAXe88Uo9yae19Pz5BAMb9xJE939uwQQ+7h1Bvo3p8HzqOpVpaI71xgwxJ0YbFpqBQ1EYP3186\n",
       "cke0ZrQPAFx5c78n/HRCdov04bjCoy133vQUKWEUgoRyg3B5K1V/Q6v6C5DRVN1zJgHH4EiQr/L7\n",
       "KWE6m5RaFVX83+EJ70Qx8EyS4Dqz/y+IwCHm7V8x8ZnXD01ZUaFNCD3XjAwN+fbAl6Pr5+Kq8Orj\n",
       "3CTJ+85S5nS7V6yAeUqRbU/a6Gyr5veEMfA322UuBIV5McRbpF8u46EAQTzUcrQuGmbSqfKPIHIx\n",
       "YDqg1vkwtcegkSoU+SWAf+8A98nPRrR93a4D5NLNQYefPewF5SD7Qj2xtPLAVIyi0I1Uqaq0fZak\n",
       "MSAOiLIKFrdM/XIQaNEvVrHauE3y9xxrsxMjKL+ROQ3hYUZSpJDDcCeniXfzPdlmjRjW4tIMuz/T\n",
       "k3kEaJ77Uvy5YLYOqmbSvKXAGMcXGQN5uY+tDeruNU0YoC0zfuxsHCvhndikQ90Z29TtyriijGRD\n",
       "L2XLb2O+kvsA+pSP9SBJmp+R9dKDYOH5Ke/bLieEJWVZOg3wxTGW0tNsxKC5qhAaC4rFXg1wYJe0\n",
       "iIZNrWxrjmTAsZgKcxvEg0HgjEM8do318m6QuIb6iKGhZwQYYK+jxMmJzm0jmYa4w8s1+xmHorSz\n",
       "mdV8LQzBdWdcT0tRXyNgH0x0FmI278OfOgIP9Ve/bEQtWNtK/Fy2nAwUbfm7/e9a5ZuPdybPSthH\n",
       "evwuc5nyIOyfiT2GhF9X5H/r00TErRfN9nU5dAOYQsKDvNBe7hVSU/dzgPnQ3XKSGhQLu31CU7Bn\n",
       "ZRfS6f2oZcMLsPuhpCwW1Z7suOc98HacfNqjvzd2aHPM5BT43mDD3aQwfCju9/qp9FRkoOEnDF4q\n",
       "LbvjfCCp59m5ckKScBHEiK35KkgbPSMlXakUTj9m38kyMeg75zOd5A5+vVd2f6owifqlfzp0puZP\n",
       "fodJro199vKkYz0CU+zFWQ0E/foIWmHn8vPa9vm0hAN7X2IPEyhAJnm1Wzx6bagiIc/XmC7lCrQH\n",
       "YOnyQ8Bix3MSvBoQAyQxW/sDtGftDuMukm6APf8oMhKqUhNX4CbP7qZKe455oIw8TmYEItW4e6GM\n",
       "5hI5mCXUbAP6cTuQ7jGAKWIcXTRbbmvSp/AH62Y5fDtu7krrvegVfMneCS4vdQKHLKmVQPvWYg+r\n",
       "3uFGrB2DzZKi7L3SSTvLVSSrGKpXg2aEFGfoOTVgixTccVZXjW+TVMk2KZTOQw3jZrnJc4O74Tet\n",
       "U+bJUb5+LuViWUeNqWqn5u4cSHOthhaT1qcDvxnsYB8/xf5TOwy3vkminlpxidNH0dJ/BO+8981q\n",
       "zb3rXWnrZViCu1lMOmD5Z8hsjFsIg6xhVvAu/dEyoHfn4bFzpoMVcJgmCLywPheFdiQW09irT1Mb\n",
       "SrBGiEf3VjUME+Xecjs669SYXhkhZ1lGTtGblAR+PQV3NXs/YRTGgnbiPRaMsNELIcj18TOMDY3r\n",
       "0Vc758+aONGLSYzElx96rmvmv+YWRXHEh+LAbAtM8QMSxw+u3WefGHlpja0cWLRBatKXTtANzb0d\n",
       "p8eTvrviCBYFAmtING0ek5je5/UbdQfbOu4XFN+sFuZxNPoIHa64uuvjThy53uJeoLRtRbOU7R9J\n",
       "KgiyVir2s4dQ82YwpUw3uiiB224fcFAmUJ8tt6VJRibntDCJQVHusRwWlZg8dgI6wgDU+DyH8fSU\n",
       "42vEPtY2+LzwpGmxH6cICpbkWE7CLUPf1v3AH2N9nYLTWVlunuIb/64pBQ6UCVC5PRkUF5Q5mCXO\n",
       "Kxu6H9RzdRcfKxCv7TWL8KchX2ANCyQPs2zBzbvkHPxUqP/ikQ/snkvsi9uDGSHHR+rhGJvqulCk\n",
       "2PuJ/5JK15EK+lv2HGr0cDFaeptxWvUk+dvScqzUFolnbL+F44ND4bme88hzvsSSqr18Jz9tB1B4\n",
       "J6Ctplh/x8akJa1jXNwjak3qqyIPOs4KPExNMcFGrRSSfO2TJ0Tud7NKCm5ufpeZHQ0bAieq9GRW\n",
       "YcnqYtuaO9Zqdp5kW+GSaN0FT7OFVRcAiptQGAc2Rd439b4M9bfsAqkFVOKAGROgenwtd66LtobF\n",
       "+n6O85cw5q+6b1VCKoonK/rjA2XH5bi9HJBbInAl3hQF/sC7lDdxHP7ewSgiOkDoCOpnEvTX4u3+\n",
       "kivvfJ+nfs6pr9NRJw6s2UhtD3Or+Dr1SrN2GAK0SewXnjAZ1PYHXm11bi9HOm5MKrmxSNIGm+Me\n",
       "7zc/831OwVULnZ1yUxW/bfgAxU/x1afSNGV1wzwK6O5PB0lmRnswFI9E06z2iUIubDMHeoUUl3ZV\n",
       "U8xFxzA/BH5uGnc+JGCQJ4QXVSiAZCNqMDCHECO2R7rSjJpMdT6D7Ro/X3DjmcUxjejX4BUZU61i\n",
       "fDUr6RvZ60vVAk4HEPDiZmAJ7FmRp/lB+tp3pIY+8GQTKLhkRczwCUxXSyCng7s1CDWB9HTpqNl9\n",
       "Rez2SJsIWKOo7nN9uvFifOeCVMdx7oB2v3Ndp7mYL81PiWO4nRZ2FFm7sDUKWCVtG1/NFINmO9Rx\n",
       "0aMuzzCzRD9BIpcVN6HNqMImme0NNuIdlK1bjfC33FICJmoP4vqcI4fIDrV/CAYHn7GONmB+7UnU\n",
       "PvPAhqbc1QUZAHUbEhDmNzLZeRIeUZa1EjfGP3yPjDr4wd1GdUQtHcHOas0GlLChvMpqLhq8sq1T\n",
       "q+A/Kq6vv2T1tJb9bJ66aQFNJbrbguXDyDr6DvtQquEZf8T9CUOq+L71sm2E/1O7bRhOb11FH6Rj\n",
       "mk21acsO1TT8DaPd9dOuNU0ifjbr15Q8pKzjIVriWstN6dIKQDzR4FZg7p2vvpCpkkdCM2ttccbB\n",
       "0mzR2105hGKTa+Pd5Y1BdF9kJ+cwv7vOVa0zCeNLOAkAwuqB/5OZF1DkqlwjXdkPX4lhMy1CV4Kx\n",
       "wpZ/fpIN347/Al/GP9Kpsk8aiOdLHejA21+bPPlSCharj80WLy0WN0phVYg/Q7yaFZtXjYBtecL7\n",
       "Ig5b9IXMaOuerba/yu1e9iKujpwgT8vtGA2C1Vjo7OAaxtuihaKVyHE1YMcBs/qxmXAdW2SiZ0Iw\n",
       "CkeWBHRExTG1w/d7/k7VSTEDkBEw+O4vvaXRkJo01b2hjtXJso5YsjXT6PAcAm+xHZHy8iHU3kUB\n",
       "LanEXZ0Wj0465/DXwgeiOyUx81qLF5xydzcVlG9fou3hgPyUII9+YciPeYn8AlFpIfddoCoDMki4\n",
       "dhnFuMe1JRhPWcP5C44ZyV+zii8n5uV7xTe8PUuZbo9cl49GPDi+7OwBcibtf9Wvr9/GXGZVEcV1\n",
       "DlsY1dPjQbiQ8bYTs0bK8zF7eurIvaF9LsytfmeNlMJ2lAP/9PIKFWDzz87AiNTh58dM62fEsbOj\n",
       "zTkvZddW1kYrhMQUX1SSg58l47bg2ogTYerqWDVa6tdE7eiQgHfwiyfj2S9Nh+PEPHhDnt0YcEpQ\n",
       "crVnQa8CYKDMM65dQga3SIIuXqR7tdiXE7gDbSbqt1lfT6iA6YfFVF7TbbEVCpNKUkTkH1Nw7eT6\n",
       "WcIWbcIoPfZLwP0ElUGV1bn40cr5OKb9vJvTwZuGXCp/YGXcYWwZ//ysI7CJsw2yXDphmrLwf4mI\n",
       "lsHwg5y6BYceXy0C8v1yNH8HYOCLTQ1kBtN0zJ+H/AiglN2lnQ99/B2bkj/piMWH9CDDVY/zg+xh\n",
       "mMNQr/hxkV30FQdzGlyof2SihtRUXBQ+9Dk1BxqqDNGu4Lut5PuYAduYmD3mcf0dCJq1yoyjoeVW\n",
       "TIE2TY7swtb0IS5OHAtd2EIPc/J0aIELlZUB5EKshPK8BhNjRA5chrASQ5tbnyi5hEl6XmWgJNsY\n",
       "HjYBX1GDchtaniomibgFQz9X5woog4iZMwT6zhN8CpN/2/vkD+6ZcVYTrfyjB7GSGpY00XdEm34V\n",
       "jkqwUdz+6Zb0DGO/6xrMSF0x+TmR3/NvBJ/4E3pR6sEmYLYbaZf7Dx+0s9AYkZorgC0q/v/gRb45\n",
       "GWNll/gAsGut5mMyQoRt2YYEd7AYWrtEiJPkhrcw6QoNLaW7WFHjB+2ZtTFr1RYigelLDucIz5CP\n",
       "SnekRF+UGUon0U1VTS53UvzosljvHca0WFahRxhb61ObWCs82HMQsSn1aboufLk1LcM5ccQQhN3w\n",
       "WAVzOeREdgaDGONMqzei8EB/aU1NpHjDZ0d+iPwvImh3wsy5CIbmTqRlvi8WW+z08hizpZdUe6dP\n",
       "h2eV/68/cWRkfAyQ8lfY7+D0ml5rZKsNN0rLtEbSONSwiJMoR615qkyV0id+0mv5NA0g8N9a1rcO\n",
       "LWkWGMVpdXQfDS58v6yBV2j5ss1j+aWAPD3lJcTzqJ/B5WyrcRTqOZ1Q6m5X3/+Myzw07r/FZLTi\n",
       "HqLMWsNhLQBZADmGe53qv/782qFV6aytLEyCiBfTHRbc/6U6jfq/UfxUFCMuK+Tn+EK6ROoTTm7I\n",
       "Txbf7nJfC8T4aM7gZFmqWzfoRexyMN/p4ZcTKLs+fxnVa2ETxfMLV7cbpnh1f4R05+gBw7yudHU0\n",
       "XetyoND46RPNHz5fKKfltUXQ/lkxS6oW9w+9kTgovRWjREk/+5aawZ0tTDZVR7552Mou9fXW/kBV\n",
       "SmNVn6TU5kpGo0ECS2FNZ3kMJCYdTx+AqEbcSYsrIvt/Tq2h6GTkgHlAhwLAWdjFd2oaSSfAAveJ\n",
       "3S/uYTRXmHtDZCOrb+R3QUtuHETDeCD7UnByxri7k6gnZ6gpMwjsP6CwhFhUdgoL1GQNFv+u+rzk\n",
       "Dc+rtyQ0kCO5c8usp9idsQE4q7cCqJXOVjY5DWd75hXnMvDRkFKaBYXy1J/GdmQgzWmiyYte7Tvd\n",
       "B3aRGJcsEPbchLIueWh3LFFeZAa4IXimQOfvpMpY4BhpoCaYMd7C9G7dOIQrvEwFSkXdX5BQ8RTI\n",
       "xV+1jU8vqavHT/jwO8aiXbr8+hEYj9oBAQxA9uG5Ky0kUBzXwvBs/SNgD91Bvwjzzr5m6LkoeEof\n",
       "KGu+5Z8/FBYH8RJ45GwYkwBtXDh5et3AXghpaOWFz2ETRi/yWY1TNLGyrCoJws4lOUF/fp2lsVl3\n",
       "uDIQr9qGXZVsgY/42u+GSF7CHfzTUrL2uWsJENNL/wQrx1DoHIt19X0Iyjm24mjQn+hDbqVVaVP+\n",
       "WaOmPuTPXYMamZjc/IPHwOqClAzp5CsizZkGIBrh9WmjfKadPBYCl/w8565XFM0w/z7h587hbrZ+\n",
       "Ex7Xjtn0MYXRBav4XJsptsPt2O9KdhseNYhJFcPR2+4QHkaqZiwUqbtXJz8dbHUGtj39kQr3yxrE\n",
       "KsGijmH4RxdgeCWxmoGszIt8lo1Y9/FesgRt1WYIfQQeN1Y+WFcUTeeQXRfnQpN4xaeZpwlMfrcJ\n",
       "Apx3Y7bdJAQwKbIel3VkFfRsRzQtkL9th58wjP+wfeM4yJ7gd1D9yzS7dI34WAOHQQfILfdCdx2U\n",
       "pplYEeVMINUGdSkCMczjMe5BQ8mbHkqQ225wbKRj8f44g05P6RE1+blWqATxyWDcP6l1UJ6Umq+p\n",
       "9AhgLI6qOtp2newoqd+bEcgKB0E7OuIy+1mgewjDIqJE1ZHLHfd5g2zBC8m6yML0GSMxADboXFh9\n",
       "1sZ1K5mP2QtaW4qUsA2Qc8SjeTBGQiBSROtBVlsaBGqL8ui67RB6aCwftGtudmJseaHzrk8GbPWM\n",
       "g27CPzYNgHfnHrhcAfukxL9VWwo2AOGaFHk7WOumuOf8P/joF7jaK02SiQ7SDK3Ss+ne1GWfK7n+\n",
       "Bl1Ey1eQTWRVNR0/JYWxfGuYzS58nqtr16WbUKadmfAneLgO700UWW7B9vn1Rk/cQ8vhIIX6d1nh\n",
       "BVAksni9JM+y3ub6s7/r703PEI1TKKuReVt/ULvJk3BWpSIpyo6WmYSB9uovFu4qwarSDbXr8mqc\n",
       "rOw9eM+UyMuucie1VYxl2FF/jSfOZ7cEtojqzHjdRp1zGihFd/nwzrDE7G7vVV1R1c1gfPdgxz51\n",
       "Hj0TfMKbu8a0mIXkf2Ad50wAbUNarf4vN3MRyV6RvUBu6uBc+0e3tR/dIy0KirYWwEGMeEgRTxhj\n",
       "f0qNJGREX1ZKr2KLkvoQmm8HkknOzLqR2RoCRjPf/vwoj3so1S6b7VFcsbXv4zF7p2C83yC85TwG\n",
       "KxWx2e5+aoP5yBNzNW5hOLymvY8+eG7xDYKqq/wb9pGZLuKeiyS2hEJ6O/02J9UG7PWQhNna61js\n",
       "hFMOTHA/xLUqC0oF0IzkJGRrCMsbL1RLC1osOJCTwSz7JTGza82uJ1u1hjX6v2FOq/J6ztvIjsFF\n",
       "xKC8YtVyl8bNfjJV+6gTCWBTmtUhl0e2M4Uvm50SCWQMwPmCwf1yGLP1lIWgYYuTFgFi5vPF72lN\n",
       "wVBEb03aMV12Tk09SBJZOUD/fCB+tFgXonYVUv4z8QIiAXf7iGH4yGuAY3aFKfsyyq49u87ZSyX6\n",
       "h36RHUhNbOO4C3kxLehazpgowdDhforiVOimDc+O7im365jHfhsSj9Qb4s0qZThzUQZR8mmIO67Q\n",
       "Es59Yui+xcSiJQvjtOTINclHZNN5Ohxh6KAcYjY2+t+FEor45kSDZySGlC/KMP7T1dwX2YYdQO8U\n",
       "R4C6Bby7A98fZcVRots+RYem+XdepJXt+prjlZk/31fQwEY1btKmd25J5mUV8SWlfOLGyxJ4bmKa\n",
       "rd5691vgzReOCln3ROgpF0kAaRq1qDspToVjj/A79/pbCtH8uyUe/3ALMWqHta+jXhsmT+XTDeBp\n",
       "Aj44FTcCjI1Tx9nJlo+BhczE++8uglFp1TqnVRLoPuSaHtEzbiHAAjH2SomzBN0gJe5qxYi1UT/0\n",
       "73ExjLVJVDbyM8MaHv1vKRicuKoBIqsW+hUFdeELufkYtx3adJ3yDgn6LHpPBXO+9XJ49TsLFk6l\n",
       "y/5wqoNE7/Huu/4oXujIr1G7dOCNEPvxbWcEIeBFcjcJcxjDU7FmlrIoxKe5OG/szH1MxfBqwVMf\n",
       "dZ7Vcj2bNI7NfWNlsQmu3xbAy7jeOQcSXa/rSDGBFJHNHV6IILopZ0APyJzWceoAABNbulsAAAGU\n",
       "QZoibEM//p4QB7K7ZACdzVeNm2yUQu/sXONgq3OuwQNP+6pzP/mxrXEPi8QRRShlSwaKUGHzgkD/\n",
       "zsbxefpi4WwuA093oTiitSmq72ZebJBmquukhlx540elv23I+qxZiTgZKc7hJXNrrveTJog+ZJM6\n",
       "VyplixXdfYCFbbckYFMI/c5gWWKjdYrxG4rTc3C5xplbKzDhjCWyCQExWeh9yaedERY64TSg5fi4\n",
       "WC3vK5cds7nOUmPxBZwArf+4gSXP5aWC0dmWHgpsNZaHQjwOed5WUvaeHvArY7YFgByw4zZZ/AuL\n",
       "8aWh92MxffuJh/AKqqbXZQPx5A0ieFzKZNYsRyYz36GI/aqfEUetGD+LwA7Fa3Susb2yVrzFoWgA\n",
       "jDYICUAL8zLrkYxGPBukNBCSf0CbU6Y6478o/5kyc8N47hgJcFQaDCzkAWimIxQjOZ304dukLuat\n",
       "+Ue8vMHkxTsfkavHFkxd0diQnLeYieGX2DTlrKC8r4me4m1LqPWVZua5JK17NmO7DEx0GQgLxKFp\n",
       "P6ZAISAAAAAyAZ5BeR//BDRyDnd0B66g8kjymwiYa0yU9AUv6RiE6rBJCjXHYydS70S2dVIdCGww\n",
       "GREAAABXQZpGPCGTKYQz//6eEANz7Hhl9g4QhaANrnQ3kip7M6YX1Aam402UReiwZsXO5eA0gQLn\n",
       "qfuj4CCOR6K+opZjhietrtLoER+QTtOujzEZcOG4UfaFwwN9AAAAIkGeZGpTwj8CshQbybuqR1zw\n",
       "x3RMrNIsBclyoEUkegP1kg4AAAAbAZ6DdEf/BDGI4k8sMgH/cWy2mayuISo+JWn4AAAAIQGehWpH\n",
       "/wQz5EIZkvNsoAEyAjLVBHzJcjG6jUbKEyyELQAAAD1BmopJqEFomUwIZ//+nhADc+x4V0aY1Fd0\n",
       "ARE+dwrHOkL0yLXVPRgtPoU8QQ6IwHQj/Y7Csvq6ZftlxdpAAAAAIEGeqEURLCP/ArIUHBBlIr+7\n",
       "a6gihHYcl1Pb0V1p4F3BAAAAGAGex3RH/wQxiOJOt3EGLcx9TLXSDNIgYAAAABsBnslqR/8EM+Pc\n",
       "Ywx/sT3kq7AWT5C+nhVnoW8AAAA+QZrOSahBbJlMCGf//p4QAKOymou9gBaLqgWM1dU7t3WAECba\n",
       "GmmyGqJo6oI/AH9/v7vD2a11550Z9vDmZHsAAAAnQZ7sRRUsI/8CshQFZlLmYAHGxlQS2MkLI8Wp\n",
       "uGlnvCdiOa1fSFRBAAAAIgGfC3RH/wQxiC11hwAcbf+rta/j5+3aRwxYykeB1F8eiTkAAAAZAZ8N\n",
       "akf/BDPj2+wiIGsSn4OlNOi1AYUEoAAAAExBmxJJqEFsmUwIX//+jLAApOPWgAUvmMBc3T4A82hP\n",
       "GQRaQryMh75FrHl1dQf1KWIjOX4BE2izSn3cPlejz5NmhnAP8GL0bjiJIfACAAAALEGfMEUVLCP/\n",
       "ArIUBW6FwAa29MrtLR2a8/VlCNWTmJ2j1liHM6JBxJ0GLBaBAAAAIQGfT3RH/wQxiC11hwAWmez7\n",
       "tYnN2SJH7WL6RsKq7o+acAAAACABn1FqR/8EM+PcisOAC0oYUtE+7j3auWYveKF+IeVCHgAAAE5B\n",
       "m1VJqEFsmUwIZ//+nhAAo2TowBD3aB45dgzIjZ6+LXlcPey1ehS2AshO2cerw3X6DYVf5W7YcwZu\n",
       "z/+eTT4ixu2TPVYSRoBmLN5B2jMAAAAlQZ9zRRUsI/8CshQFaxOYAFxGVuaoD223PTJB2j0LT+6b\n",
       "6ngDIQAAABQBn5RqR/8EM+Pb4fRA4ms/CILsfwAAAGBBm5lJqEFsmUwIZ//+nhAAp/uscBPBtNn9\n",
       "kpEMtAVehYl38zpDpF11l7hCA+jiUIOllYMMP043V+73gbMoyGXvUjORPcR7Nkc5ZeIa2m+Og+N3\n",
       "qVm++f7Hi+/K94cXZPAAAAAoQZ+3RRUsI/8CshQFjvJ6cACwMQH2flERrd6ZzbF6PynE9ra2/RAg\n",
       "egAAABsBn9Z0R/8EMYgteKSACZXl5/Z1u89a5cvvXZ8AAAAcAZ/Yakf/BDPj3QyiIQAExH6IGOoa\n",
       "U5kVZ3K4cAAAADZBm91JqEFsmUwIZ//+nhAAo2V8cAVp/W4poMrWtjmwjYepmabW4rhXtb0hS655\n",
       "wrwtr6AZACAAAAAUQZ/7RRUsI/8CshQFavVX9DL5ShcAAAAPAZ4adEf/BDGIBDjpjlDzAAAADwGe\n",
       "HGpH/wQz48UgHiLJgQAAAEtBmgFJqEFsmUwIZ//+nhAAo2TowBzD6orBfBxCq0O3mNjenosqZsaC\n",
       "2EnmWFcl/5BElgSCp62zc5ZmURMcJLPmefIcRsoEtQjQA48AAAATQZ4/RRUsI/8CshQFaLgB+PYh\n",
       "4AAAAA4Bnl50R/8EMYgEOOpFkwAAAA8BnkBqR/8EM+PFIB4iyYAAAAAxQZpFSahBbJlMCGf//p4Q\n",
       "AFHYZNsARq7d9Luhcp5EuMyT8e0D5IIGyl3AuWIx4WDjgQAAABNBnmNFFSwj/wKyFALUXAX49iHh\n",
       "AAAADgGegnRH/wQxiAQ46kWTAAAAEQGehGpH/wQz49B5VGNAyprAAAAAIEGaiUmoQWyZTAhn//6e\n",
       "EABRs3vABHaw09yLDguUQMWBAAAAE0Gep0UVLCP/ArIUAsPWxGhyxDwAAAAQAZ7GdEf/BDGIGA7j\n",
       "GeLYPQAAABABnshqR/8EM+PQdhERJ0IPAAAAREGazUmoQWyZTAhn//6eEABRtVU4AdAwBm6m38gw\n",
       "+XcdAIAdMMULkPffTXKZ148VC2JFJqDsGIXYT4NzNe3mkSjvCwcdAAAAHEGe60UVLCP/ArIUAtIb\n",
       "Gy4AOcK2xiUBdln9cfUAAAAOAZ8KdEf/BDGIGK8m4pMAAAAOAZ8Makf/BDPj0Lj58ZUAAAATQZsR\n",
       "SahBbJlMCGf//p4QAAAHTAAAABJBny9FFSwj/wKyFAK616D4d0AAAAAOAZ9OdEf/BDGIGA7i4d0A\n",
       "AAAPAZ9Qakf/BDPj0HYQ+M+AAAAAKEGbVUmoQWyZTAhn//6eEABT8iyAFMeLX/3C+EpxnD78enLI\n",
       "bylEDAgAAAATQZ9zRRUsI/8CshQC5Bm+MWjhAwAAAA4Bn5J0R/8EMYgYDuLh3QAAABABn5RqR/8E\n",
       "M+PRDE4tq4QNAAAANEGbmUmoQWyZTAhn//6eEABWMXoACKxrHzMxl+rnoqrWNV1rSbATZmgu0Yyx\n",
       "7tDLdls/BvQAAAATQZ+3RRUsI/8CshQC5mgNVWBvQAAAABgBn9Z0R/8EMYgZzww5gAPaetr6/rlg\n",
       "EWUAAAAQAZ/Yakf/BDPj0VaeLmJG/AAAACpBm91JqEFsmUwIX//+jLAAVvHbYAq3Ax9CQ34W4cDF\n",
       "zgDNzB6m+QBgxYAAAAATQZ/7RRUsI/8CshQC+Gb72KBbQQAAAA4Bnhp0R/8EMYgYDuLh3QAAAA8B\n",
       "nhxqR/8EM+PQdhD4z4EAAAAsQZoASahBbJlMCGf//p4QAFYyldADj27TZ1R02+3pdShLaDq4llIY\n",
       "Oj8WDZkAAAARQZ4+RRUsI/8CshQCxCUHDugAAAARAZ5fakf/BDPj0UtrwFBCFtEAAAA9QZpESahB\n",
       "bJlMCGf//p4QAFYydGAImPttbw/EHW9j3uJg7vlpUAofwI4vMc16xA7xILxM1SgeKdeYFNmhswAA\n",
       "ABNBnmJFFSwj/wKyFALv7XWwQkb9AAAADgGegXRH/wQxiBgO4uHdAAAAEAGeg2pH/wQz49B2FgM1\n",
       "gl4AAAAzQZqISahBbJlMCGf//p4QAFYxuOAIkNxFAFc1XPKH6XppCAZbRMBwPNPRUHQW3j49+hNw\n",
       "AAAAG0GepkUVLCP/ArIUAvtC4ALdjuz+fjSBCvTS8QAAAA4BnsV0R/8EMYgZzybibgAAAA8Bnsdq\n",
       "R/8EM+PLL/puTcEAAAA5QZrMSahBbJlMCGf//p4QAFG9WdOUcqluAA5Y2rBwpAdUxCpBWzt0RbQr\n",
       "5mzkFEgGvohK8SR38xqwAAAAHEGe6kUVLCP/ArIUArrXo9/zUOgBN7+5d00oJeEAAAAOAZ8JdEf/\n",
       "BDGIGA7i4d0AAAAPAZ8Lakf/BDPj0HYQ+M+BAAAAN0GbEEmoQWyZTAhn//6eEABWVljI4AiQ26AF\n",
       "yfK2ZcxxZCBKbY0h94UBxqBC4JkqV7ZYGMnfoTcAAAATQZ8uRRUsI/8CshQC+X8hbFAtoAAAAA4B\n",
       "n010R/8EMYgYDuLh3QAAAA8Bn09qR/8EM+PQdhD4z4EAAABKQZtUSahBbJlMCGf//p4QAFhxuOAT\n",
       "X13vzO+F2g7BqiTT5SKtWkbl8DwjIO7ZdapSoct6jHx4V9HZDRh97uQLtn0RqCp++GWqDegAAAAc\n",
       "QZ9yRRUsI/8CshQDDULgAmrvH7Upv0kK1G+QMAAAABEBn5F0R/8EMYgvnmtE6gkf4QAAABABn5Nq\n",
       "R/8EM+PdrNq4NqHrAAAAKEGbmEmoQWyZTAhn//6eEABT/VnJwOxUAW2pQRZXvoa5b+q7gF+CwXcA\n",
       "AAAPQZ+2RRUsI/8CshQAQDqgAAAADAGf1XRH/wQxiAQB1QAAAAwBn9dqR/8EM+PFAQsAAAAjQZvc\n",
       "SahBbJlMCGf//p4QACsa0QKALbL/ec6dJPKmfqGFgu4AAAAPQZ/6RRUsI/8CshQAQDqgAAAADwGe\n",
       "GXRH/wQxiA7kBHzAgQAAAAwBnhtqR/8EM+PFAQsAAAAmQZoASahBbJlMCGf//p4QAFYxuOAK36tn\n",
       "NYiYxOTnPaSKhVMTgl8AAAARQZ4+RRUsI/8CshQC+XqqH3EAAAAMAZ5ddEf/BDGIBAHVAAAADwGe\n",
       "X2pH/wQz49FcLXDegQAAADZBmkRJqEFsmUwIZ//+nhAAVjG44ArfrmsbZ1YDotUg7thj8E+eLHJX\n",
       "UF9Ed/co6tyDv/z8G9AAAAARQZ5iRRUsI/8CshQC5lv8UEEAAAAOAZ6BdEf/BDGIGS7i4ccAAAAM\n",
       "AZ6Dakf/BDPjxQELAAAAIUGaiEmoQWyZTAhn//6eEAArGb3gAtpcSrxcEOi7+UQXcAAAABFBnqZF\n",
       "FSwj/wKyFAGcvVUfcQAAAAwBnsV0R/8EMYgEAdUAAAAMAZ7Hakf/BDPjxQELAAAANkGazEmoQWyZ\n",
       "TAhn//6eEABWMq1wA4vlcxzPAmxShc5RRoeYWuCUzJN2pW73TUQB6Urcg0gQcAAAAA9BnupFFSwj\n",
       "/wKyFABAOqEAAAAMAZ8JdEf/BDGIBAHVAAAADgGfC2pH/wQz48srMXG9AAAAL0GbEEmoQWyZTAhn\n",
       "//6eEABWVv7I4ArVKnifrnnMa/fY176a+6Ks22uXorYvOCXhAAAAGEGfLkUVLCP/ArIUAviTkgAu\n",
       "n0IAHXQ+4AAAAA8Bn010R/8EMYgvnkFQ0dMAAAAOAZ9Pakf/BDPj3azFwb0AAAAgQZtUSahBbJlM\n",
       "CGf//p4QAFYyrXADg0HTPyGswy5iwbMAAAARQZ9yRRUsI/8CshQC+Fv8TcAAAAAMAZ+RdEf/BDGI\n",
       "BAHVAAAADAGfk2pH/wQz48UBCwAAADRBm5hJqEFsmUwIZ//+nhAAVjF6AAisTUrzcevleS5fyW6e\n",
       "RMjQAdKYCx7b34Kx5Pt7nwQ9AAAAEkGftkUVLCP/ArIUAvhTDVhlwAAAAA8Bn9V0R/8EMYgZzvrh\n",
       "UiYAAAAMAZ/Xakf/BDPjxQELAAAAL0Gb3EmoQWyZTAhn//6eEABT9ZZSADcpe5abp3UrrPLbZ2yO\n",
       "muQQ9Uh/aESh6IGBAAAAGUGf+kUVLCP/ArIUAuMO2yQAV1V6O174ccAAAAAOAZ4ZdEf/BDGIGT8m\n",
       "4oMAAAAPAZ4bakf/BDPj0QwtcOOAAAAARkGaAEmoQWyZTAhn//6eEABWM0HgCJj3vFe9ZVEEj+AY\n",
       "Ydqp59kqkMjSGucxeWAffn9t7IdZF1l5/ORrCMWb7tP38mrQvIEAAAAaQZ4+RRUsI/8CshQC+Xlu\n",
       "rAAXQCn0vXKLDLkAAAAMAZ5ddEf/BDGIBAHVAAAADwGeX2pH/wQz49FcLXDegQAAADFBmkRJqEFs\n",
       "mUwIX//+jLAAVvN4YArfPXLjJPquTYHPcSYAnP1X+nqrMndV+KyRM0HTAAAAEUGeYkUVLCP/ArIU\n",
       "AuZb/FBBAAAADAGegXRH/wQxiAQB1QAAAA4BnoNqR/8EM+PRVmLhvQAAAChBmohJqEFsmUwIX//+\n",
       "jLAAVLX9yADa0OXqGsH2ZAp/M1xsqmTBBmEPAAAAD0GepkUVLCP/ArIUAEA6oQAAAAwBnsV0R/8E\n",
       "MYgEAdUAAAAMAZ7Hakf/BDPjxQELAAAAE0GazEmoQWyZTAhf//6MsAAAB1QAAAAPQZ7qRRUsI/8C\n",
       "shQAQDqhAAAADAGfCXRH/wQxiAQB1QAAAAwBnwtqR/8EM+PFAQsAAAAnQZsQSahBbJlMCFf//jhA\n",
       "AUZjT9FFYAawwDppANsaaMv8iDDeRIGpAAAAEUGfLkUVLCP/ArIUAud6qiBgAAAADAGfTXRH/wQx\n",
       "iAQB1QAAAAwBn09qR/8EM+PFAQsAAAAUQZtUSahBbJlMCEf//eEAAAMAb0AAAAAPQZ9yRRUsI/8C\n",
       "shQAQDqgAAAADAGfkXRH/wQxiAQB1QAAAAwBn5NqR/8EM+PFAQsAAAASQZuVSahBbJlMCP/8hAAA\n",
       "AwGzAAAVqm1vb3YAAABsbXZoZAAAAAAAAAAAAAAAAAAAA+gAAB9AAAEAAAEAAAAAAAAAAAAAAAAB\n",
       "AAAAAAAAAAAAAAAAAAAAAQAAAAAAAAAAAAAAAAAAQAAAAAAAAAAAAAAAAAAAAAAAAAAAAAAAAAAA\n",
       "AAAAAAIAABTUdHJhawAAAFx0a2hkAAAAAwAAAAAAAAAAAAAAAQAAAAAAAB9AAAAAAAAAAAAAAAAA\n",
       "AAAAAAABAAAAAAAAAAAAAAAAAAAAAQAAAAAAAAAAAAAAAAAAQAAAAAGwAAABIAAAAAAAJGVkdHMA\n",
       "AAAcZWxzdAAAAAAAAAABAAAfQAAAAgAAAQAAAAAUTG1kaWEAAAAgbWRoZAAAAAAAAAAAAAAAAAAA\n",
       "MgAAAZAAVcQAAAAAAC1oZGxyAAAAAAAAAAB2aWRlAAAAAAAAAAAAAAAAVmlkZW9IYW5kbGVyAAAA\n",
       "E/dtaW5mAAAAFHZtaGQAAAABAAAAAAAAAAAAAAAkZGluZgAAABxkcmVmAAAAAAAAAAEAAAAMdXJs\n",
       "IAAAAAEAABO3c3RibAAAALNzdHNkAAAAAAAAAAEAAACjYXZjMQAAAAAAAAABAAAAAAAAAAAAAAAA\n",
       "AAAAAAGwASAASAAAAEgAAAAAAAAAAQAAAAAAAAAAAAAAAAAAAAAAAAAAAAAAAAAAAAAAAAAAABj/\n",
       "/wAAADFhdmNDAWQAHv/hABhnZAAerNlBsJaEAAADAAQAAAMBkDxYtlgBAAZo6+PLIsAAAAAcdXVp\n",
       "ZGtoQPJfJE/FujmlG88DI/MAAAAAAAAAGHN0dHMAAAAAAAAAAQAAAZAAAAEAAAAAGHN0c3MAAAAA\n",
       "AAAAAgAAAAEAAAD7AAAMSGN0dHMAAAAAAAABhwAAAAEAAAIAAAAAAQAABQAAAAABAAACAAAAAAEA\n",
       "AAAAAAAAAQAAAQAAAAABAAADAAAAAAEAAAEAAAAAAQAAAwAAAAABAAABAAAAAAEAAAUAAAAAAQAA\n",
       "AgAAAAABAAAAAAAAAAEAAAEAAAAAAQAAAwAAAAABAAABAAAAAAEAAAUAAAAAAQAAAgAAAAABAAAA\n",
       "AAAAAAEAAAEAAAAAAQAAAwAAAAABAAABAAAAAAEAAAUAAAAAAQAAAgAAAAABAAAAAAAAAAEAAAEA\n",
       "AAAAAQAAAgAAAAABAAAFAAAAAAEAAAIAAAAAAQAAAAAAAAABAAABAAAAAAEAAAIAAAAAAQAABAAA\n",
       "AAACAAABAAAAAAEAAAUAAAAAAQAAAgAAAAABAAAAAAAAAAEAAAEAAAAAAQAAAwAAAAABAAABAAAA\n",
       "AAEAAAQAAAAAAgAAAQAAAAABAAAFAAAAAAEAAAIAAAAAAQAAAAAAAAABAAABAAAAAAEAAAQAAAAA\n",
       "AgAAAQAAAAABAAAFAAAAAAEAAAIAAAAAAQAAAAAAAAABAAABAAAAAAEAAAUAAAAAAQAAAgAAAAAB\n",
       "AAAAAAAAAAEAAAEAAAAAAQAABQAAAAABAAACAAAAAAEAAAAAAAAAAQAAAQAAAAABAAAFAAAAAAEA\n",
       "AAIAAAAAAQAAAAAAAAABAAABAAAAAAEAAAUAAAAAAQAAAgAAAAABAAAAAAAAAAEAAAEAAAAAAQAA\n",
       "BQAAAAABAAACAAAAAAEAAAAAAAAAAQAAAQAAAAABAAAFAAAAAAEAAAIAAAAAAQAAAAAAAAABAAAB\n",
       "AAAAAAEAAAUAAAAAAQAAAgAAAAABAAAAAAAAAAEAAAEAAAAAAQAABAAAAAACAAABAAAAAAEAAAQA\n",
       "AAAAAgAAAQAAAAABAAAFAAAAAAEAAAIAAAAAAQAAAAAAAAABAAABAAAAAAEAAAUAAAAAAQAAAgAA\n",
       "AAABAAAAAAAAAAEAAAEAAAAAAQAABQAAAAABAAACAAAAAAEAAAAAAAAAAQAAAQAAAAABAAADAAAA\n",
       "AAEAAAEAAAAAAQAABQAAAAABAAACAAAAAAEAAAAAAAAAAQAAAQAAAAABAAAFAAAAAAEAAAIAAAAA\n",
       "AQAAAAAAAAABAAABAAAAAAEAAAUAAAAAAQAAAgAAAAABAAAAAAAAAAEAAAEAAAAAAQAABQAAAAAB\n",
       "AAACAAAAAAEAAAAAAAAAAQAAAQAAAAABAAAFAAAAAAEAAAIAAAAAAQAAAAAAAAABAAABAAAAAAEA\n",
       "AAUAAAAAAQAAAgAAAAABAAAAAAAAAAEAAAEAAAAAAQAABQAAAAABAAACAAAAAAEAAAAAAAAAAQAA\n",
       "AQAAAAABAAAFAAAAAAEAAAIAAAAAAQAAAAAAAAABAAABAAAAAAEAAAUAAAAAAQAAAgAAAAABAAAA\n",
       "AAAAAAEAAAEAAAAAAQAABQAAAAABAAACAAAAAAEAAAAAAAAAAQAAAQAAAAABAAAFAAAAAAEAAAIA\n",
       "AAAAAQAAAAAAAAABAAABAAAAAAEAAAUAAAAAAQAAAgAAAAABAAAAAAAAAAEAAAEAAAAAAQAABQAA\n",
       "AAABAAACAAAAAAEAAAAAAAAAAQAAAQAAAAABAAAFAAAAAAEAAAIAAAAAAQAAAAAAAAABAAABAAAA\n",
       "AAEAAAQAAAAAAgAAAQAAAAABAAAFAAAAAAEAAAIAAAAAAQAAAAAAAAABAAABAAAAAAEAAAUAAAAA\n",
       "AQAAAgAAAAABAAAAAAAAAAEAAAEAAAAAAQAABQAAAAABAAACAAAAAAEAAAAAAAAAAQAAAQAAAAAB\n",
       "AAAFAAAAAAEAAAIAAAAAAQAAAAAAAAABAAABAAAAAAEAAAUAAAAAAQAAAgAAAAABAAAAAAAAAAEA\n",
       "AAEAAAAAAQAABQAAAAABAAACAAAAAAEAAAAAAAAAAQAAAQAAAAABAAAFAAAAAAEAAAIAAAAAAQAA\n",
       "AAAAAAABAAABAAAAAAEAAAUAAAAAAQAAAgAAAAABAAAAAAAAAAEAAAEAAAAAAQAABQAAAAABAAAC\n",
       "AAAAAAEAAAAAAAAAAQAAAQAAAAABAAAFAAAAAAEAAAIAAAAAAQAAAAAAAAABAAABAAAAAAEAAAMA\n",
       "AAAAAQAAAQAAAAABAAAFAAAAAAEAAAIAAAAAAQAAAAAAAAABAAABAAAAAAEAAAUAAAAAAQAAAgAA\n",
       "AAABAAAAAAAAAAEAAAEAAAAAAQAABQAAAAABAAACAAAAAAEAAAAAAAAAAQAAAQAAAAABAAAEAAAA\n",
       "AAIAAAEAAAAAAQAABQAAAAABAAACAAAAAAEAAAAAAAAAAQAAAQAAAAABAAAFAAAAAAEAAAIAAAAA\n",
       "AQAAAAAAAAABAAABAAAAAAEAAAUAAAAAAQAAAgAAAAABAAAAAAAAAAEAAAEAAAAAAQAABQAAAAAB\n",
       "AAACAAAAAAEAAAAAAAAAAQAAAQAAAAABAAAFAAAAAAEAAAIAAAAAAQAAAAAAAAABAAABAAAAAAEA\n",
       "AAUAAAAAAQAAAgAAAAABAAAAAAAAAAEAAAEAAAAAAQAABQAAAAABAAACAAAAAAEAAAAAAAAAAQAA\n",
       "AQAAAAABAAAFAAAAAAEAAAIAAAAAAQAAAAAAAAABAAABAAAAAAEAAAIAAAAAAQAAAwAAAAABAAAB\n",
       "AAAAAAEAAAUAAAAAAQAAAgAAAAABAAAAAAAAAAEAAAEAAAAAAQAABQAAAAABAAACAAAAAAEAAAAA\n",
       "AAAAAQAAAQAAAAABAAAFAAAAAAEAAAIAAAAAAQAAAAAAAAABAAABAAAAAAEAAAUAAAAAAQAAAgAA\n",
       "AAABAAAAAAAAAAEAAAEAAAAAAQAABAAAAAACAAABAAAAAAEAAAUAAAAAAQAAAgAAAAABAAAAAAAA\n",
       "AAEAAAEAAAAAAQAABQAAAAABAAACAAAAAAEAAAAAAAAAAQAAAQAAAAABAAAFAAAAAAEAAAIAAAAA\n",
       "AQAAAAAAAAABAAABAAAAAAEAAAUAAAAAAQAAAgAAAAABAAAAAAAAAAEAAAEAAAAAAQAABQAAAAAB\n",
       "AAACAAAAAAEAAAAAAAAAAQAAAQAAAAABAAAFAAAAAAEAAAIAAAAAAQAAAAAAAAABAAABAAAAAAEA\n",
       "AAUAAAAAAQAAAgAAAAABAAAAAAAAAAEAAAEAAAAAAQAABQAAAAABAAACAAAAAAEAAAAAAAAAAQAA\n",
       "AQAAAAABAAAFAAAAAAEAAAIAAAAAAQAAAAAAAAABAAABAAAAAAEAAAUAAAAAAQAAAgAAAAABAAAA\n",
       "AAAAAAEAAAEAAAAAAQAABAAAAAACAAABAAAAAAEAAAUAAAAAAQAAAgAAAAABAAAAAAAAAAEAAAEA\n",
       "AAAAAQAABQAAAAABAAACAAAAAAEAAAAAAAAAAQAAAQAAAAABAAAFAAAAAAEAAAIAAAAAAQAAAAAA\n",
       "AAABAAABAAAAAAEAAAUAAAAAAQAAAgAAAAABAAAAAAAAAAEAAAEAAAAAAQAABQAAAAABAAACAAAA\n",
       "AAEAAAAAAAAAAQAAAQAAAAABAAAFAAAAAAEAAAIAAAAAAQAAAAAAAAABAAABAAAAAAEAAAUAAAAA\n",
       "AQAAAgAAAAABAAAAAAAAAAEAAAEAAAAAAQAABQAAAAABAAACAAAAAAEAAAAAAAAAAQAAAQAAAAAB\n",
       "AAAFAAAAAAEAAAIAAAAAAQAAAAAAAAABAAABAAAAAAEAAAUAAAAAAQAAAgAAAAABAAAAAAAAAAEA\n",
       "AAEAAAAAAQAABQAAAAABAAACAAAAAAEAAAAAAAAAAQAAAQAAAAABAAAFAAAAAAEAAAIAAAAAAQAA\n",
       "AAAAAAABAAABAAAAAAEAAAUAAAAAAQAAAgAAAAABAAAAAAAAAAEAAAEAAAAAAQAABQAAAAABAAAC\n",
       "AAAAAAEAAAAAAAAAAQAAAQAAAAABAAAFAAAAAAEAAAIAAAAAAQAAAAAAAAABAAABAAAAAAEAAAUA\n",
       "AAAAAQAAAgAAAAABAAAAAAAAAAEAAAEAAAAAAQAABQAAAAABAAACAAAAAAEAAAAAAAAAAQAAAQAA\n",
       "AAABAAAFAAAAAAEAAAIAAAAAAQAAAAAAAAABAAABAAAAAAEAAAUAAAAAAQAAAgAAAAABAAAAAAAA\n",
       "AAEAAAEAAAAAAQAABQAAAAABAAACAAAAAAEAAAAAAAAAAQAAAQAAAAABAAAFAAAAAAEAAAIAAAAA\n",
       "AQAAAAAAAAABAAABAAAAAAEAAAIAAAAAHHN0c2MAAAAAAAAAAQAAAAEAAAGQAAAAAQAABlRzdHN6\n",
       "AAAAAAAAAAAAAAGQAAA1AgAAAu0AAABeAAAASgAAADYAAACZAAAARwAAAHoAAAAyAAAAigAAADQA\n",
       "AAAjAAAAHAAAAEgAAAApAAAAegAAADEAAAAeAAAAHgAAAFIAAAAqAAAAlAAAAC4AAAAgAAAAHgAA\n",
       "AD8AAABgAAAALQAAAB0AAAAUAAAAQgAAAIkAAAA3AAAAIQAAADgAAAAwAAAAFAAAABMAAAA8AAAA\n",
       "KgAAAEYAAAAvAAAAHQAAAG0AAAAmAAAAHwAAACMAAABEAAAALQAAAB0AAAA/AAAALAAAABQAAAAT\n",
       "AAAAUwAAACwAAAAaAAAAFAAAAFgAAAArAAAAEgAAAB4AAAA3AAAAKgAAABsAAAAUAAAAMgAAAC8A\n",
       "AAAcAAAAFgAAAGAAAAAxAAAAFQAAAB8AAABTAAAALgAAABkAAAATAAAAVQAAAC4AAAAgAAAAHAAA\n",
       "AGEAAAAwAAAAEwAAAEgAAAAjAAAAFQAAAFIAAAAtAAAAFgAAABwAAAAyAAAALAAAABYAAAATAAAA\n",
       "LwAAACkAAAAUAAAAFAAAACgAAAAdAAAAOgAAACwAAAAeAAAAFwAAAC8AAAAhAAAAFAAAABQAAABL\n",
       "AAAAKwAAABUAAAAeAAAATQAAACQAAAAWAAAAFwAAAHAAAAAyAAAAJgAAABwAAABFAAAAKQAAABQA\n",
       "AAAVAAAATwAAACIAAAASAAAAEwAAAFUAAAAmAAAAFAAAACEAAABGAAAALAAAAB4AAAAVAAAAaAAA\n",
       "ADAAAAAXAAAAFwAAADYAAAAsAAAAFAAAABQAAAAyAAAAKwAAABIAAAATAAAAUQAAACUAAAAdAAAA\n",
       "EwAAAEoAAAAwAAAAEgAAAB0AAABmAAAAMAAAABcAAABWAAAAJAAAABcAAAAYAAAATwAAADAAAAAW\n",
       "AAAAFAAAADcAAAAjAAAAFQAAABMAAAA4AAAAIgAAABcAAAATAAAAPgAAACwAAAAUAAAAFAAAACsA\n",
       "AAAjAAAAFAAAABMAAAA9AAAAIwAAABQAAAATAAAANwAAACcAAAASAAAAGgAAADoAAAAvAAAAFAAA\n",
       "ABUAAAAzAAAAIgAAABQAAAAUAAAAOwAAACgAAAAlAAAAJgAAABQAAAATAAAAKAAAACUAAAASAAAA\n",
       "EwAAAFAAAAAxAAAAFAAAABgAAABSAAAAMQAAAB4AAABCAAAAJgAAABcAAAAYAAAALgAAACMAAAAW\n",
       "AAAAFgAAAEAAAAAwAAAAFAAAABYAAAAlAAAAIgAAABYAAAAUAAAANAAAACYAAAAZAAAAFgAAAFQA\n",
       "AAArAAAAFQAAAB0AAABVAAAALQAAAB0AAAAbAAAAUgAAAC0AAAAfAAAAFgAAQawAAAGYAAAANgAA\n",
       "AFsAAAAmAAAAHwAAACUAAABBAAAAJAAAABwAAAAfAAAAQgAAACsAAAAmAAAAHQAAAFAAAAAwAAAA\n",
       "JQAAACQAAABSAAAAKQAAABgAAABkAAAALAAAAB8AAAAgAAAAOgAAABgAAAATAAAAEwAAAE8AAAAX\n",
       "AAAAEgAAABMAAAA1AAAAFwAAABIAAAAVAAAAJAAAABcAAAAUAAAAFAAAAEgAAAAgAAAAEgAAABIA\n",
       "AAAXAAAAFgAAABIAAAATAAAALAAAABcAAAASAAAAFAAAADgAAAAXAAAAHAAAABQAAAAuAAAAFwAA\n",
       "ABIAAAATAAAAMAAAABUAAAAVAAAAQQAAABcAAAASAAAAFAAAADcAAAAfAAAAEgAAABMAAAA9AAAA\n",
       "IAAAABIAAAATAAAAOwAAABcAAAASAAAAEwAAAE4AAAAgAAAAFQAAABQAAAAsAAAAEwAAABAAAAAQ\n",
       "AAAAJwAAABMAAAATAAAAEAAAACoAAAAVAAAAEAAAABMAAAA6AAAAFQAAABIAAAAQAAAAJQAAABUA\n",
       "AAAQAAAAEAAAADoAAAATAAAAEAAAABIAAAAzAAAAHAAAABMAAAASAAAAJAAAABUAAAAQAAAAEAAA\n",
       "ADgAAAAWAAAAEwAAABAAAAAzAAAAHQAAABIAAAATAAAASgAAAB4AAAAQAAAAEwAAADUAAAAVAAAA\n",
       "EAAAABIAAAAsAAAAEwAAABAAAAAQAAAAFwAAABMAAAAQAAAAEAAAACsAAAAVAAAAEAAAABAAAAAY\n",
       "AAAAEwAAABAAAAAQAAAAFgAAABRzdGNvAAAAAAAAAAEAAAAsAAAAYnVkdGEAAABabWV0YQAAAAAA\n",
       "AAAhaGRscgAAAAAAAAAAbWRpcmFwcGwAAAAAAAAAAAAAAAAtaWxzdAAAACWpdG9vAAAAHWRhdGEA\n",
       "AAABAAAAAExhdmY1Ny41Ni4xMDE=\n",
       "\">\n",
       "  Your browser does not support the video tag.\n",
       "</video>"
      ]
     },
     "metadata": {},
     "output_type": "display_data"
    }
   ],
   "source": [
    "try:\n",
    "    display_html(HTML(anim.to_html5_video()))\n",
    "# In case the build-in renderers are unaviable, fall back to\n",
    "# a custom one, that doesn't require external libraries\n",
    "except RuntimeError:\n",
    "    anim.save(None, writer=matplotlib_utils.SimpleMovieWriter(0.001))"
   ]
  },
  {
   "cell_type": "markdown",
   "metadata": {},
   "source": [
    "# Logistic regression\n",
    "Your assignment is to implement the logistic regression\n",
    "\n",
    "Plan:\n",
    "* Use a shared variable for weights\n",
    "* Use a matrix placeholder for `X`\n",
    " \n",
    "We shall train on a two-class MNIST dataset\n",
    "* please note that target `y` are `{0,1}` and not `{-1,1}` as in some formulae"
   ]
  },
  {
   "cell_type": "code",
   "execution_count": 30,
   "metadata": {},
   "outputs": [
    {
     "name": "stdout",
     "output_type": "stream",
     "text": [
      "y [shape - (360,)]: [0 1 0 1 0 1 0 0 1 1]\n",
      "X [shape - (360, 64)]:\n"
     ]
    }
   ],
   "source": [
    "from sklearn.datasets import load_digits\n",
    "mnist = load_digits(2)\n",
    "\n",
    "X, y = mnist.data, mnist.target\n",
    "\n",
    "print(\"y [shape - %s]:\" % (str(y.shape)), y[:10])\n",
    "print(\"X [shape - %s]:\" % (str(X.shape)))"
   ]
  },
  {
   "cell_type": "code",
   "execution_count": 31,
   "metadata": {},
   "outputs": [
    {
     "name": "stdout",
     "output_type": "stream",
     "text": [
      "X:\n",
      " [[  0.   0.   5.  13.   9.   1.   0.   0.   0.   0.]\n",
      " [  0.   0.   0.  12.  13.   5.   0.   0.   0.   0.]\n",
      " [  0.   0.   1.   9.  15.  11.   0.   0.   0.   0.]]\n",
      "y:\n",
      " [0 1 0 1 0 1 0 0 1 1]\n"
     ]
    },
    {
     "data": {
      "image/png": "[encoded data removed]",
      "text/plain": [
       "<matplotlib.figure.Figure at 0x24389a43828>"
      ]
     },
     "metadata": {},
     "output_type": "display_data"
    }
   ],
   "source": [
    "print('X:\\n',X[:3,:10])\n",
    "print('y:\\n',y[:10])\n",
    "plt.imshow(X[0].reshape([8,8]));"
   ]
  },
  {
   "cell_type": "markdown",
   "metadata": {},
   "source": [
    "It's your turn now!\n",
    "Just a small reminder of the relevant math:\n",
    "\n",
    "$$\n",
    "P(y=1|X) = \\sigma(X \\cdot W + b)\n",
    "$$\n",
    "$$\n",
    "\\text{loss} = -\\log\\left(P\\left(y_\\text{predicted} = 1\\right)\\right)\\cdot y_\\text{true} - \\log\\left(1 - P\\left(y_\\text{predicted} = 1\\right)\\right)\\cdot\\left(1 - y_\\text{true}\\right)\n",
    "$$\n",
    "\n",
    "$\\sigma(x)$ is available via `tf.nn.sigmoid` and matrix multiplication via `tf.matmul`"
   ]
  },
  {
   "cell_type": "code",
   "execution_count": 32,
   "metadata": {},
   "outputs": [],
   "source": [
    "from sklearn.model_selection import train_test_split\n",
    "X_train, X_test, y_train, y_test = train_test_split(\n",
    "    X, y, random_state=42)"
   ]
  },
  {
   "cell_type": "markdown",
   "metadata": {},
   "source": [
    "__Your code goes here.__ For the training and testing scaffolding to work, please stick to the names in comments."
   ]
  },
  {
   "cell_type": "code",
   "execution_count": 33,
   "metadata": {},
   "outputs": [],
   "source": [
    "# Model parameters - weights and bias\n",
    "# weights = tf.Variable(...) shape should be (X.shape[1], 1)\n",
    "# b = tf.Variable(...)\n",
    "weights = tf.Variable(tf.zeros([X.shape[1], 1]),dtype='float32') #shape should be (X.shape[1], 1)\n",
    "b = tf.Variable(0,dtype='float32')"
   ]
  },
  {
   "cell_type": "code",
   "execution_count": 34,
   "metadata": {},
   "outputs": [],
   "source": [
    "# Placeholders for the input data\n",
    "# input_X = tf.placeholder(...)\n",
    "# input_y = tf.placeholder(...)\n",
    "input_X = tf.placeholder('float32',[None,64])\n",
    "input_y = tf.placeholder('float32',[None])"
   ]
  },
  {
   "cell_type": "code",
   "execution_count": 35,
   "metadata": {},
   "outputs": [],
   "source": [
    "# The model code\n",
    "\n",
    "# Compute a vector of predictions, resulting shape should be [input_X.shape[0],]\n",
    "# This is 1D, if you have extra dimensions, you can  get rid of them with tf.squeeze .\n",
    "# Don't forget the sigmoid.\n",
    "# predicted_y = <predicted probabilities for input_X>\n",
    "predicted_y = tf.squeeze(tf.nn.sigmoid(tf.matmul(input_X,weights)+b))\n",
    "\n",
    "# Loss. Should be a scalar number - average loss over all the objects\n",
    "# tf.reduce_mean is your friend here\n",
    "# loss = <logistic loss (scalar, mean over sample)>\n",
    "loss =tf.reduce_mean(-tf.log(predicted_y)*input_y-tf.log(1-predicted_y)*(1-input_y))\n",
    "\n",
    "# See above for an example. tf.train.*Optimizer\n",
    "# optimizer = <optimizer that minimizes loss>\n",
    "optimizer = tf.train.MomentumOptimizer(0.01, 0.5).minimize(loss)"
   ]
  },
  {
   "cell_type": "markdown",
   "metadata": {},
   "source": [
    "A test to help with the debugging"
   ]
  },
  {
   "cell_type": "code",
   "execution_count": 36,
   "metadata": {},
   "outputs": [],
   "source": [
    "validation_weights = 1e-3 * np.fromiter(map(lambda x:\n",
    "        s.run(weird_psychotic_function, {my_scalar:x, my_vector:[1, 0.1, 2]}),\n",
    "                                   0.15 * np.arange(1, X.shape[1] + 1)),\n",
    "                                   count=X.shape[1], dtype=np.float32)[:, np.newaxis]\n",
    "# Compute predictions for given weights and bias\n",
    "prediction_validation = s.run(\n",
    "    predicted_y, {\n",
    "    input_X: X,\n",
    "    weights: validation_weights,\n",
    "    b: 1e-1})\n",
    "\n",
    "# Load the reference values for the predictions\n",
    "validation_true_values = np.loadtxt(\"validation_predictons.txt\")\n",
    "\n",
    "assert prediction_validation.shape == (X.shape[0],),\\\n",
    "       \"Predictions must be a 1D array with length equal to the number \" \\\n",
    "       \"of examples in input_X\"\n",
    "assert np.allclose(validation_true_values, prediction_validation)\n",
    "loss_validation = s.run(\n",
    "        loss, {\n",
    "            input_X: X[:100],\n",
    "            input_y: y[-100:],\n",
    "            weights: validation_weights+1.21e-3,\n",
    "            b: -1e-1})\n",
    "assert np.allclose(loss_validation, 0.728689)"
   ]
  },
  {
   "cell_type": "code",
   "execution_count": 37,
   "metadata": {},
   "outputs": [
    {
     "name": "stdout",
     "output_type": "stream",
     "text": [
      "loss at iter 0:0.1252\n",
      "train auc: 0.999945103206\n",
      "test auc: 1.0\n",
      "loss at iter 1:0.0450\n",
      "train auc: 1.0\n",
      "test auc: 1.0\n",
      "loss at iter 2:0.0269\n",
      "train auc: 1.0\n",
      "test auc: 1.0\n",
      "loss at iter 3:0.0200\n",
      "train auc: 1.0\n",
      "test auc: 1.0\n",
      "loss at iter 4:0.0169\n",
      "train auc: 1.0\n",
      "test auc: 1.0\n"
     ]
    }
   ],
   "source": [
    "from sklearn.metrics import roc_auc_score\n",
    "s.run(tf.global_variables_initializer())\n",
    "for i in range(5):\n",
    "    s.run(optimizer, {input_X: X_train, input_y: y_train})\n",
    "    loss_i = s.run(loss, {input_X: X_train, input_y: y_train})\n",
    "    print(\"loss at iter %i:%.4f\" % (i, loss_i))\n",
    "    print(\"train auc:\", roc_auc_score(y_train, s.run(predicted_y, {input_X:X_train})))\n",
    "    print(\"test auc:\", roc_auc_score(y_test, s.run(predicted_y, {input_X:X_test})))"
   ]
  },
  {
   "cell_type": "markdown",
   "metadata": {},
   "source": [
    "### Coursera submission"
   ]
  },
  {
   "cell_type": "code",
   "execution_count": 38,
   "metadata": {},
   "outputs": [],
   "source": [
    "grade_submitter = grading.Grader(\"BJCiiY8sEeeCnhKCj4fcOA\")"
   ]
  },
  {
   "cell_type": "code",
   "execution_count": 39,
   "metadata": {},
   "outputs": [],
   "source": [
    "test_weights = 1e-3 * np.fromiter(map(lambda x:\n",
    "    s.run(weird_psychotic_function, {my_scalar:x, my_vector:[1, 2, 3]}),\n",
    "                               0.1 * np.arange(1, X.shape[1] + 1)),\n",
    "                               count=X.shape[1], dtype=np.float32)[:, np.newaxis]"
   ]
  },
  {
   "cell_type": "markdown",
   "metadata": {},
   "source": [
    "First, test prediction and loss computation. This part doesn't require a fitted model."
   ]
  },
  {
   "cell_type": "code",
   "execution_count": 40,
   "metadata": {},
   "outputs": [],
   "source": [
    "prediction_test = s.run(\n",
    "    predicted_y, {\n",
    "    input_X: X,\n",
    "    weights: test_weights,\n",
    "    b: 1e-1})"
   ]
  },
  {
   "cell_type": "code",
   "execution_count": 41,
   "metadata": {},
   "outputs": [],
   "source": [
    "assert prediction_test.shape == (X.shape[0],),\\\n",
    "       \"Predictions must be a 1D array with length equal to the number \" \\\n",
    "       \"of examples in X_test\""
   ]
  },
  {
   "cell_type": "code",
   "execution_count": 42,
   "metadata": {},
   "outputs": [],
   "source": [
    "grade_submitter.set_answer(\"0ENlN\", prediction_test)"
   ]
  },
  {
   "cell_type": "code",
   "execution_count": 43,
   "metadata": {},
   "outputs": [],
   "source": [
    "loss_test = s.run(\n",
    "    loss, {\n",
    "        input_X: X[:100],\n",
    "        input_y: y[-100:],\n",
    "        weights: test_weights+1.21e-3,\n",
    "        b: -1e-1})\n",
    "# Yes, the X/y indices mistmach is intentional"
   ]
  },
  {
   "cell_type": "code",
   "execution_count": 44,
   "metadata": {},
   "outputs": [],
   "source": [
    "grade_submitter.set_answer(\"mMVpM\", loss_test)"
   ]
  },
  {
   "cell_type": "code",
   "execution_count": 45,
   "metadata": {},
   "outputs": [],
   "source": [
    "grade_submitter.set_answer(\"D16Rc\", roc_auc_score(y_test, s.run(predicted_y, {input_X:X_test})))"
   ]
  },
  {
   "cell_type": "markdown",
   "metadata": {},
   "source": [
    "Please use the credentials obtained from the Coursera assignment page."
   ]
  },
  {
   "cell_type": "code",
   "execution_count": 47,
   "metadata": {},
   "outputs": [
    {
     "name": "stdout",
     "output_type": "stream",
     "text": [
      "Submitted to Coursera platform. See results on assignment page!\n"
     ]
    }
   ],
   "source": [
    "#grade_submitter.submit(<email>, <token>)\n",
    "grade_submitter.submit('ystd1998@gmail.com', 'daaKQXKTdtkY1zza')\n"
   ]
  },
  {
   "cell_type": "code",
   "execution_count": null,
   "metadata": {},
   "outputs": [],
   "source": []
  }
 ],
 "metadata": {
  "kernelspec": {
   "display_name": "Python 3",
   "language": "python",
   "name": "python3"
  },
  "language_info": {
   "codemirror_mode": {
    "name": "ipython",
    "version": 3
   },
   "file_extension": ".py",
   "mimetype": "text/x-python",
   "name": "python",
   "nbconvert_exporter": "python",
   "pygments_lexer": "ipython3",
   "version": "3.5.5"
  }
 },
 "nbformat": 4,
 "nbformat_minor": 1
}
